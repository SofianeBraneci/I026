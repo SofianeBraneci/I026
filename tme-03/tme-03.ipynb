{
 "cells": [
  {
   "cell_type": "markdown",
   "metadata": {},
   "source": [
    "IA & Data science (LU3IN0226) -- 2019-2020\n",
    "--------\n",
    "*&copy; Equipe pédagogique: Gauvain Bourgne, Vincent Guigue, Marie-Jeanne Lesot, Christophe Marsala, Olivier Schwander.*\n"
   ]
  },
  {
   "cell_type": "markdown",
   "metadata": {},
   "source": [
    "# TD-TME03: Programmation du kernel perceptron\n",
    "\n",
    "Le but de ce TP est de terminer l'extension de l'algorithme du perceptron de la version de perceptron à noyau, de créer une librairie pour les classifieurs et de réaliser des expérimentations des algorithmes implémentés depuis le début sur données réelles."
   ]
  },
  {
   "cell_type": "markdown",
   "metadata": {},
   "source": [
    "<font size=\"+1\" color=\"RED\">**[Q]**</font> **Indiquer dans la boîte ci-dessous vos noms et prénoms :**"
   ]
  },
  {
   "cell_type": "markdown",
   "metadata": {},
   "source": [
    "*Double-cliquer ici et insérer les noms et prénoms de votre binôme*"
   ]
  },
  {
   "cell_type": "markdown",
   "metadata": {},
   "source": [
    "<font color=\"RED\" size=\"+1\">**[Q]**</font> **Renommer ce fichier ipython**\n",
    "\n",
    "Tout en haut de cette page, cliquer sur <tt>tme-03</tt> et rajouter à la suite de <tt>tme-03</tt> les noms des membres du binômes séparés par un tiret."
   ]
  },
  {
   "cell_type": "markdown",
   "metadata": {},
   "source": [
    "<font color=\"RED\" size=\"+1\">IMPORTANT: soumission de votre fichier final</font>\n",
    "\n",
    "**Nom à donner au fichier à poster** : *tme-03-Nom1_Nom2.ipynb* \n",
    "- *Nom1* et *Nom2* : noms des membres du binôme\n",
    "- ne pas compresser ou faire une archive: il faut rendre le fichier ipython tel quel, éventuellement, si vous avez d'autres fichiers vous les rendez séparément.\n",
    "\n",
    "**Echancier pour la soumission de votre compte-rendu:**\n",
    "- le compte-rendu est à remettre sur la page Moodle selon les directives données en séances.\n"
   ]
  },
  {
   "cell_type": "markdown",
   "metadata": {},
   "source": [
    "## Création d'une librairie\n",
    "\n",
    "Afin de pouvoir réutiliser les classes et fonctions écrites précédemment dans les séances de TDTME, vous allez construire une librairie avec vos fonctions.\n",
    "\n",
    "<font color=\"RED\">Important:</font> dans un premier temps, vous devez écrire les classes et fonctions demandées dans le notebook de la séance de TDTME en cours. La séance suivante, vous rajouterez les classes et fonctions écrites et testées dans vos fichiers de la librairie IADS pour pouvoir réutiliser vos classifieurs par la suite.\n",
    "\n",
    "Récupérer et désarchiver l'archive iads.tgz de telle sorte que le répertoire `iads` soit un répertoire frère du répertoire `tme03`.\n",
    "\n",
    "Ainsi, vous devrez avoir l'arborescence suivante dans votre répertoire $HOME:\n",
    "\n",
    "    - LU3IN026/\n",
    "        - tme-01/\n",
    "            - tme-01.ipynb\n",
    "        - tme-02/\n",
    "            - tme-02.ipynb\n",
    "        - tme-03/\n",
    "            - tme-03.ipynb\n",
    "        - iads/\n",
    "            - Classifiers.py\n",
    "            - utils.py\n",
    "            - __init__.py\n",
    "          \n",
    "\n",
    "**Important** :\n",
    "- ce fichier tme-03.ipynb doit toujours rester dans le répertorie tme-03/\n",
    "- pour ouvrir les fichiers py qui se trouvent dans le répertoire iads/ il est nécessaire d'utiliser un éditeur de texte comme emacs, gedit, idle,...\n",
    "\n",
    "\n",
    "<font color=\"RED\" size=\"+1\">[Q]</font> **Ouvrir et compléter les fichiers Classifiers.py et utils.py**\n",
    "\n",
    "Pour compléter ces fichiers, reprendre le code écrit dans le TDTME précédent pour compléter toute les parties indiquées <tt>#TODO</tt>.\n",
    "- dans `utils.py`, il faut compléter la fonction `createGaussianDataset`\n",
    "- dans `Classifiers.py`, il faut compléter le code des classifiers"
   ]
  },
  {
   "cell_type": "code",
   "execution_count": 1,
   "metadata": {},
   "outputs": [],
   "source": [
    "import numpy as np\n",
    "import pandas as pd\n",
    "import matplotlib.pyplot as plt\n",
    "%matplotlib inline  \n",
    "\n",
    "# La ligne suivante permet de préciser le chemin d'accès à la librairie iads\n",
    "import sys\n",
    "sys.path.append('../')   # iads doit être dans le répertoire frère du répertoire courant !\n",
    "\n",
    "# Importation de la librairie iads\n",
    "import iads as iads\n",
    "\n",
    "# importation de Classifiers\n",
    "from iads import Classifiers as cl\n",
    "\n",
    "# importation de utils\n",
    "from iads import utils as ut\n"
   ]
  },
  {
   "cell_type": "code",
   "execution_count": 2,
   "metadata": {},
   "outputs": [
    {
     "name": "stdout",
     "output_type": "stream",
     "text": [
      "Help on module iads.utils in iads:\n",
      "\n",
      "NAME\n",
      "    iads.utils\n",
      "\n",
      "DESCRIPTION\n",
      "    Package: iads\n",
      "    Fichier: utils.py\n",
      "    Année: semestre 2 - 2019-2020, Sorbonne Université\n",
      "\n",
      "FUNCTIONS\n",
      "    create_XOR(n, var)\n",
      "        # ------------------------\n",
      "    \n",
      "    genere_dataset_gaussian(positive_center, positive_sigma, negative_center, negative_sigma, nb_points)\n",
      "    \n",
      "    genere_dataset_uniform(p, n, binf=-1, bsup=1)\n",
      "        int * int * float^2 -> tuple[ndarray, ndarray]\n",
      "        Hyp: n est pair\n",
      "        p: nombre de dimensions de la description\n",
      "        n: nombre d'exemples\n",
      "        les valeurs générées uniformément sont dans [binf,bsup]\n",
      "        par défaut: binf vaut -1 et bsup vaut 1\n",
      "    \n",
      "    plot2DSet(desc, labels)\n",
      "        ndarray * ndarray -> affichage\n",
      "    \n",
      "    plot_frontiere(desc_set, label_set, classifier, step=30)\n",
      "        desc_set * label_set * Classifier * int -> NoneType\n",
      "        Remarque: le 4e argument est optionnel et donne la \"résolution\" du tracé\n",
      "        affiche la frontière de décision associée au classifieur\n",
      "\n",
      "FILE\n",
      "    c:\\users\\hp\\ads\\iads\\utils.py\n",
      "\n",
      "\n"
     ]
    }
   ],
   "source": [
    "# La commande suivante permet d'obtenir des infos sur une librairie chargée :\n",
    "help(ut)"
   ]
  },
  {
   "cell_type": "code",
   "execution_count": 3,
   "metadata": {},
   "outputs": [
    {
     "name": "stdout",
     "output_type": "stream",
     "text": [
      "Help on module iads.Classifiers in iads:\n",
      "\n",
      "NAME\n",
      "    iads.Classifiers\n",
      "\n",
      "DESCRIPTION\n",
      "    Package: iads\n",
      "    Fichier: Classifiers.py\n",
      "    Année: semestre 2 - 2019-2020, Sorbonne Université\n",
      "\n",
      "CLASSES\n",
      "    builtins.object\n",
      "        Classifier\n",
      "            ClassifierLineaireRandom\n",
      "            ClassifierPerceptron\n",
      "    \n",
      "    class Classifier(builtins.object)\n",
      "     |  Classe pour représenter un classifieur\n",
      "     |  Attention: cette classe est une classe abstraite, elle ne peut pas être\n",
      "     |  instanciée.\n",
      "     |  \n",
      "     |  Methods defined here:\n",
      "     |  \n",
      "     |  __init__(self, input_dimension)\n",
      "     |      Constructeur de Classifier\n",
      "     |      Argument:\n",
      "     |          - intput_dimension (int) : dimension de la description des exemples\n",
      "     |      Hypothèse : input_dimension > 0\n",
      "     |  \n",
      "     |  accuracy(self, desc_set, label_set)\n",
      "     |      Permet de calculer la qualité du système sur un dataset donné\n",
      "     |      desc_set: ndarray avec des descriptions\n",
      "     |      label_set: ndarray avec les labels correspondants\n",
      "     |      Hypothèse: desc_set et label_set ont le même nombre de lignes\n",
      "     |  \n",
      "     |  predict(self, x)\n",
      "     |      rend la prediction sur x (soit -1 ou soit +1)\n",
      "     |      x: une description\n",
      "     |  \n",
      "     |  score(self, x)\n",
      "     |      rend le score de prédiction sur x (valeur réelle)\n",
      "     |      x: une description\n",
      "     |  \n",
      "     |  train(self, desc_set, label_set)\n",
      "     |      Permet d'entrainer le modele sur l'ensemble donné\n",
      "     |      desc_set: ndarray avec des descriptions\n",
      "     |      label_set: ndarray avec les labels correspondants\n",
      "     |      Hypothèse: desc_set et label_set ont le même nombre de lignes\n",
      "     |  \n",
      "     |  ----------------------------------------------------------------------\n",
      "     |  Data descriptors defined here:\n",
      "     |  \n",
      "     |  __dict__\n",
      "     |      dictionary for instance variables (if defined)\n",
      "     |  \n",
      "     |  __weakref__\n",
      "     |      list of weak references to the object (if defined)\n",
      "    \n",
      "    class ClassifierLineaireRandom(Classifier)\n",
      "     |  Classe pour représenter un classifieur linéaire aléatoire\n",
      "     |  Cette classe hérite de la classe Classifier\n",
      "     |  \n",
      "     |  Method resolution order:\n",
      "     |      ClassifierLineaireRandom\n",
      "     |      Classifier\n",
      "     |      builtins.object\n",
      "     |  \n",
      "     |  Methods defined here:\n",
      "     |  \n",
      "     |  __init__(self, input_dimension)\n",
      "     |      Constructeur de Classifier\n",
      "     |      Argument:\n",
      "     |          - intput_dimension (int) : dimension de la description des exemples\n",
      "     |      Hypothèse : input_dimension > 0\n",
      "     |  \n",
      "     |  predict(self, x)\n",
      "     |      rend la prediction sur x (soit -1 ou soit +1)\n",
      "     |      x: une description\n",
      "     |  \n",
      "     |  score(self, x)\n",
      "     |      rend le score de prédiction sur x (valeur réelle)\n",
      "     |      x: une description\n",
      "     |  \n",
      "     |  train(self, desc_set, label_set)\n",
      "     |      Permet d'entrainer le modele sur l'ensemble donné\n",
      "     |      desc_set: ndarray avec des descriptions\n",
      "     |      label_set: ndarray avec les labels correspondants\n",
      "     |      Hypothèse: desc_set et label_set ont le même nombre de lignes\n",
      "     |  \n",
      "     |  ----------------------------------------------------------------------\n",
      "     |  Methods inherited from Classifier:\n",
      "     |  \n",
      "     |  accuracy(self, desc_set, label_set)\n",
      "     |      Permet de calculer la qualité du système sur un dataset donné\n",
      "     |      desc_set: ndarray avec des descriptions\n",
      "     |      label_set: ndarray avec les labels correspondants\n",
      "     |      Hypothèse: desc_set et label_set ont le même nombre de lignes\n",
      "     |  \n",
      "     |  ----------------------------------------------------------------------\n",
      "     |  Data descriptors inherited from Classifier:\n",
      "     |  \n",
      "     |  __dict__\n",
      "     |      dictionary for instance variables (if defined)\n",
      "     |  \n",
      "     |  __weakref__\n",
      "     |      list of weak references to the object (if defined)\n",
      "    \n",
      "    class ClassifierPerceptron(Classifier)\n",
      "     |  Perceptron de Rosenblatt\n",
      "     |  \n",
      "     |  Method resolution order:\n",
      "     |      ClassifierPerceptron\n",
      "     |      Classifier\n",
      "     |      builtins.object\n",
      "     |  \n",
      "     |  Methods defined here:\n",
      "     |  \n",
      "     |  __init__(self, input_dimension, learning_rate)\n",
      "     |      Constructeur de Classifier\n",
      "     |      Argument:\n",
      "     |          - input_dimension (int) : dimension de la description des exemples\n",
      "     |          - learning_rate : epsilon\n",
      "     |      Hypothèse : input_dimension > 0\n",
      "     |  \n",
      "     |  predict(self, x)\n",
      "     |      rend la prediction sur x (soit -1 ou soit +1)\n",
      "     |      x: une description\n",
      "     |  \n",
      "     |  score(self, x)\n",
      "     |      rend le score de prédiction sur x (valeur réelle)\n",
      "     |      x: une description\n",
      "     |  \n",
      "     |  train(self, data_set, label_set)\n",
      "     |      Permet d'entrainer le modele sur l'ensemble donné\n",
      "     |      réalise une itération sur l'ensemble des données prises aléatoirement\n",
      "     |      desc_set: ndarray avec des descriptions\n",
      "     |      label_set: ndarray avec les labels correspondants\n",
      "     |      Hypothèse: desc_set et label_set ont le même nombre de lignes\n",
      "     |  \n",
      "     |  ----------------------------------------------------------------------\n",
      "     |  Methods inherited from Classifier:\n",
      "     |  \n",
      "     |  accuracy(self, desc_set, label_set)\n",
      "     |      Permet de calculer la qualité du système sur un dataset donné\n",
      "     |      desc_set: ndarray avec des descriptions\n",
      "     |      label_set: ndarray avec les labels correspondants\n",
      "     |      Hypothèse: desc_set et label_set ont le même nombre de lignes\n",
      "     |  \n",
      "     |  ----------------------------------------------------------------------\n",
      "     |  Data descriptors inherited from Classifier:\n",
      "     |  \n",
      "     |  __dict__\n",
      "     |      dictionary for instance variables (if defined)\n",
      "     |  \n",
      "     |  __weakref__\n",
      "     |      list of weak references to the object (if defined)\n",
      "\n",
      "FILE\n",
      "    c:\\users\\hp\\ads\\iads\\classifiers.py\n",
      "\n",
      "\n"
     ]
    }
   ],
   "source": [
    "help(cl)"
   ]
  },
  {
   "cell_type": "markdown",
   "metadata": {},
   "source": [
    "Pour utiliser les fonctions ou classes définies dans des librairies, il suffit de préfixer le nom de la fonction/classe par le nom d'importation de la librairie.\n",
    "\n",
    "Par exemple, pour utiliser les fonctions de `utils.py` il faut rajouter `ut.` devant le nom des fonctions:"
   ]
  },
  {
   "cell_type": "code",
   "execution_count": 4,
   "metadata": {},
   "outputs": [
    {
     "name": "stdout",
     "output_type": "stream",
     "text": [
      "Taille du dataset généré : (20, 2) exemples\n"
     ]
    },
    {
     "data": {
      "image/png": "[encoded data removed]",
      "text/plain": [
       "<Figure size 432x288 with 1 Axes>"
      ]
     },
     "metadata": {
      "needs_background": "light"
     },
     "output_type": "display_data"
    }
   ],
   "source": [
    "\n",
    "# Exemple d'utilisation:\n",
    "\n",
    "data_desc, data_label = ut.genere_dataset_gaussian(np.array([1,1]),np.array([[1,0],[0,1]]),np.array([-1,-1]),np.array([[1,0],[0,1]]), 10)\n",
    "\n",
    "print(\"Taille du dataset généré :\", np.shape(data_desc), \"exemples\")\n",
    "\n",
    "# Affichage :\n",
    "ut.plot2DSet(data_desc,data_label)\n"
   ]
  },
  {
   "cell_type": "markdown",
   "metadata": {},
   "source": [
    "<font color=\"RED\" size=\"+1\">[Q]</font> Reprendre le code du TME 2 sur l'apprentissage d'un perceptron sur les données XOR et adaptez-les pour pouvoir utiliser les fonctions de `utils.py` et les classes de `Classifiers.py`.\n"
   ]
  },
  {
   "cell_type": "code",
   "execution_count": 5,
   "metadata": {},
   "outputs": [
    {
     "data": {
      "image/png": "[encoded data removed]",
      "text/plain": [
       "<Figure size 432x288 with 1 Axes>"
      ]
     },
     "metadata": {
      "needs_background": "light"
     },
     "output_type": "display_data"
    }
   ],
   "source": [
    "data_xor = ut.create_XOR(25,0.01)\n",
    "ut.plot2DSet(data_xor[0], data_xor[1])"
   ]
  },
  {
   "cell_type": "code",
   "execution_count": 9,
   "metadata": {},
   "outputs": [
    {
     "data": {
      "text/plain": [
       "[<matplotlib.lines.Line2D at 0x26a91a02630>]"
      ]
     },
     "execution_count": 9,
     "metadata": {},
     "output_type": "execute_result"
    },
    {
     "data": {
      "image/png": "[encoded data removed]",
      "text/plain": [
       "<Figure size 432x288 with 1 Axes>"
      ]
     },
     "metadata": {
      "needs_background": "light"
     },
     "output_type": "display_data"
    }
   ],
   "source": [
    "# Pour avoir les mêmes valeurs aléatoires :\n",
    "np.random.seed(42)   # supprimer cette ligne une fois la mise au point terminée\n",
    "\n",
    "# ------------------------ A COMPLETER :\n",
    "n = 100\n",
    "lr = 0.01\n",
    "acc = [0]\n",
    "p = cl.ClassifierPerceptron(2, lr)\n",
    "for i in range(1,n):\n",
    "    p.train(data_xor[0], data_xor[1])\n",
    "    acc.append(p.accuracy(data_xor[0],data_xor[1]))\n",
    "\n",
    "plt.plot(range(100), acc)"
   ]
  },
  {
   "cell_type": "markdown",
   "metadata": {},
   "source": [
    "Kernel Trick\n",
    "--------------"
   ]
  },
  {
   "cell_type": "markdown",
   "metadata": {},
   "source": [
    "Un \"kernel\" est une \"fonction noyau\" (ou simplement \"noyau\") qui permet de représenter des données d'un espace donné dans un autre espace, souvent de dimension plus grande.\n",
    "\n",
    "Dans notre implémentation, pour pouvoir utiliser différents types de fonction noyau, nous définissons une classe abstraite :"
   ]
  },
  {
   "cell_type": "code",
   "execution_count": 11,
   "metadata": {},
   "outputs": [],
   "source": [
    "class Kernel():\n",
    "    \"\"\" Classe pour représenter des fonctions noyau\n",
    "    \"\"\"\n",
    "    def __init__(self, dim_in, dim_out):\n",
    "        \"\"\" Constructeur de Kernel\n",
    "            Argument:\n",
    "                - dim_in : dimension de l'espace de départ (entrée du noyau)\n",
    "                - dim_out: dimension de l'espace de d'arrivée (sortie du noyau)\n",
    "        \"\"\"\n",
    "        self.input_dim = dim_in\n",
    "        self.output_dim = dim_out\n",
    "        \n",
    "    def get_input_dim(self):\n",
    "        \"\"\" rend la dimension de l'espace de départ\n",
    "        \"\"\"\n",
    "        return self.input_dim\n",
    "\n",
    "    def get_output_dim(self):\n",
    "        \"\"\" rend la dimension de l'espace d'arrivée\n",
    "        \"\"\"\n",
    "        return self.output_dim\n",
    "    \n",
    "    def transform(self, V):\n",
    "        \"\"\" ndarray -> ndarray\n",
    "            fonction pour transformer V dans le nouvel espace de représentation\n",
    "        \"\"\"        \n",
    "        raise NotImplementedError(\"Please Implement this method\")\n"
   ]
  },
  {
   "cell_type": "markdown",
   "metadata": {},
   "source": [
    "L'intérêt de définir une classe mère `Kernel` qui servira à définir des noyaux et que l'on pourra maintenant définir des algorithmes génériques qui pourront prendre des noyaux quelconques en argument."
   ]
  },
  {
   "cell_type": "markdown",
   "metadata": {},
   "source": [
    "### Un premier noyau\n",
    "\n",
    "Le premier noyau, très simple, que l'on définit permet de projeter (manuellement) des données 2D dans un espace de plus grande dimension. \n",
    "\n",
    "Voici un exemple de projection qui transforme le vecteur $(x_1,x_2)$ en vecteur $(x_1,x_2,1)$"
   ]
  },
  {
   "cell_type": "code",
   "execution_count": 12,
   "metadata": {},
   "outputs": [],
   "source": [
    "class KernelBias(Kernel):\n",
    "    \"\"\" Classe pour un noyau simple 2D -> 3D\n",
    "    \"\"\"\n",
    "    def transform(self, V):\n",
    "        \"\"\" ndarray de dim 2 -> ndarray de dim 3            \n",
    "            rajoute une 3e dimension au vecteur donné\n",
    "        \"\"\"\n",
    "        V_proj = np.asarray([V[0],V[1],1])\n",
    "        return V_proj"
   ]
  },
  {
   "cell_type": "code",
   "execution_count": 13,
   "metadata": {},
   "outputs": [
    {
     "data": {
      "text/plain": [
       "array([1.26791518, 1.78917302, 1.        ])"
      ]
     },
     "execution_count": 13,
     "metadata": {},
     "output_type": "execute_result"
    }
   ],
   "source": [
    "# Exemple d'utilisation : \n",
    "kb = KernelBias(2,3)\n",
    "kb.transform(data_desc[0])"
   ]
  },
  {
   "cell_type": "markdown",
   "metadata": {},
   "source": [
    "### Un noyau un peu plus compliqué"
   ]
  },
  {
   "cell_type": "markdown",
   "metadata": {},
   "source": [
    "<font color=\"RED\" size=\"+1\">**[Q]**</font> Implémenter le kernel : $(x_1,x_2) \\rightarrow (1,x_1,x_2,x_1*x_1,x_2*x_2,x_1*x_2)$. "
   ]
  },
  {
   "cell_type": "code",
   "execution_count": 48,
   "metadata": {},
   "outputs": [],
   "source": [
    "# ------------------------ A COMPLETER\n",
    "\n",
    "class KernelPoly(Kernel):\n",
    "    def transform(self,V):\n",
    "        \"\"\" ndarray de dim 2 -> ndarray de dim 6            \n",
    "            ...\n",
    "        \"\"\"\n",
    "        V_proj = np.asarray([1,V[0],V[1],V[0]*V[0],V[1]*V[1],V[0]*V[1]])\n",
    "        return V_proj"
   ]
  },
  {
   "cell_type": "code",
   "execution_count": 49,
   "metadata": {},
   "outputs": [
    {
     "data": {
      "text/plain": [
       "array([1.        , 1.26791518, 1.78917302, 1.60760889, 3.20114008,\n",
       "       2.26851962])"
      ]
     },
     "execution_count": 49,
     "metadata": {},
     "output_type": "execute_result"
    }
   ],
   "source": [
    "# Exemple d'utilisation : \n",
    "kp = KernelPoly(2,6)\n",
    "kp.transform(data_desc[0])"
   ]
  },
  {
   "cell_type": "markdown",
   "metadata": {},
   "source": [
    "<font color=\"RED\" size=\"+1\">**[Q]**</font> Implémenter la classe `ClassifierPerceptronKernel` qui prend un kernel en paramètre, et calcule le perceptron sur la version \"kernélisée\" des données. Tester ce perceptron sur le dataset 1 (2 gaussiennes) et le dataset XOR."
   ]
  },
  {
   "cell_type": "markdown",
   "metadata": {},
   "source": [
    "**Attention** : à partir de maintenant, si vous souhaitez utiliser les classes définies dans votre fichier `Classifiers.py` il est nécessaire de préfixer leur nom par `cl.`\n",
    "\n",
    "Par exemple :\n",
    "\n",
    "            class ClassifierPerceptronKernel(cl.Classifier):\n",
    "                ...\n",
    "                ...\n"
   ]
  },
  {
   "cell_type": "code",
   "execution_count": 50,
   "metadata": {},
   "outputs": [],
   "source": [
    "# ------------------------ A COMPLETER :\n",
    "class ClassifierPerceptronKernel(cl.Classifier):\n",
    "    def __init__(self, input_dimension, learning_rate, noyau):\n",
    "        \"\"\" Constructeur de Classifier\n",
    "            Argument:\n",
    "                - input_dimension (int) : dimension de la description des exemples (espace originel)\n",
    "                - learning_rate : \n",
    "                - noyau : Kernel à utiliser\n",
    "            Hypothèse : input_dimension > 0\n",
    "        \"\"\"\n",
    "        self.input_dimension = input_dimension\n",
    "        self.lr = learning_rate\n",
    "        self.noyau = noyau\n",
    "        self.w = np.random.randn(6)\n",
    "        \n",
    "    def score(self,x):\n",
    "        \"\"\" rend le score de prédiction sur x (valeur réelle)\n",
    "            x: une description\n",
    "        \"\"\"\n",
    "        return np.dot(self.noyau.transform(x),self.w)\n",
    "    \n",
    "    def predict(self, x):\n",
    "        \"\"\" rend la prediction sur x (soit -1 ou soit +1)\n",
    "            x: une description\n",
    "        \"\"\"\n",
    "        if (self.score(x) > 0):\n",
    "            return 1\n",
    "        return -1\n",
    "\n",
    "    def train(self, desc_set, label_set):\n",
    "        \"\"\" Permet d'entrainer le modele sur l'ensemble donné\n",
    "            desc_set: ndarray avec des descriptions\n",
    "            label_set: ndarray avec les labels correspondants\n",
    "            Hypothèse: desc_set et label_set ont le même nombre de lignes\n",
    "        \"\"\"        \n",
    "#         print(len(desc_set), len(label_set))\n",
    "        for _ in range(1000):\n",
    "            index = np.random.randint(0, len(desc_set))\n",
    "            x = desc_set[index]\n",
    "            y = label_set[index]\n",
    "            if self.predict(x) * y < 0:\n",
    "                self.w += self.lr * self.noyau.transform(x) * y\n",
    "        #print(self.w)"
   ]
  },
  {
   "cell_type": "markdown",
   "metadata": {},
   "source": [
    "<font color=\"RED\" size=\"+1\">**[Q]**</font> Entraîner un perceptron kernelisé utilisant un `KernelPoly` sur un dataset correspondant au XOR (cf. sujet du TME 2). Que constatez-vous ? Proposez une explication."
   ]
  },
  {
   "cell_type": "code",
   "execution_count": 51,
   "metadata": {},
   "outputs": [
    {
     "data": {
      "text/plain": [
       "array([[-0.31998171, -0.0978997 ]])"
      ]
     },
     "execution_count": 51,
     "metadata": {},
     "output_type": "execute_result"
    }
   ],
   "source": [
    "data_xor[0][:1]"
   ]
  },
  {
   "cell_type": "code",
   "execution_count": 52,
   "metadata": {},
   "outputs": [
    {
     "data": {
      "image/png": "[encoded data removed]",
      "text/plain": [
       "<Figure size 432x288 with 1 Axes>"
      ]
     },
     "metadata": {
      "needs_background": "light"
     },
     "output_type": "display_data"
    },
    {
     "data": {
      "image/png": "[encoded data removed]",
      "text/plain": [
       "<Figure size 432x288 with 1 Axes>"
      ]
     },
     "metadata": {
      "needs_background": "light"
     },
     "output_type": "display_data"
    }
   ],
   "source": [
    "# Pour avoir les mêmes valeurs aléatoires :\n",
    "np.random.seed(42)   # supprimer cette ligne une fois la mise au point terminée\n",
    "\n",
    "##TESTER SUR XOR ET DESSINER LA FRONTIèRE DE DECISION\n",
    "\n",
    "# ------------------------ A COMPLETER :\n",
    "n = 100\n",
    "acc = [0]\n",
    "lr = 0.01\n",
    "classifieur = ClassifierPerceptronKernel(2, lr, kp)\n",
    "for i in range(1,n):\n",
    "    classifieur.train(data_xor[0], data_xor[1])\n",
    "    acc.append(classifieur.accuracy(data_xor[0], data_xor[1]))\n",
    "plt.plot(range(n), acc)\n",
    "plt.show()\n",
    "ut.plot_frontiere(data_xor[0], data_xor[1], classifieur)\n",
    "ut.plot2DSet(data_xor[0], data_xor[1])"
   ]
  },
  {
   "cell_type": "code",
   "execution_count": null,
   "metadata": {},
   "outputs": [],
   "source": []
  },
  {
   "cell_type": "markdown",
   "metadata": {},
   "source": [
    "## Mise en oeuvre sur des données réelles \n",
    "-------\n",
    "A partir de datasets trouvés sur le web, réaliser un ensemble d'expérimentations permettant de comparer les 3 classifiers (knn, perceptron de Rosenblatt et version kernélisée) que vous avez implémentés.\n",
    "\n",
    "Par exemple, vous pouvez utiliser les datasets suivants:\n",
    "- https://archive.ics.uci.edu/ml/datasets/Breast+Cancer+Coimbra\n",
    "- https://www.kaggle.com/uciml/indian-liver-patient-records\n",
    "- voir sur les données ouvertes de Paris : https://opendata.paris.fr/explore/?sort=modified\n",
    "\n",
    "Afin d'utiliser de tels jeux de données, il sera certainement nécessaire que vous réalisiez un prétraitement afin de pouvoir utiliser vos implémentations."
   ]
  },
  {
   "cell_type": "markdown",
   "metadata": {},
   "source": [
    "### Chargement du fichier \"base_2D.csv\""
   ]
  },
  {
   "cell_type": "markdown",
   "metadata": {},
   "source": [
    "Les datasets classiques qui sont disponibles sur le web sont généralement fournis au format CSV (*Comma Separated Values*) présenté dans le cours 2: chaque exemple est donné sur une ligne, et sur cette ligne les valeurs de description sont séparées par une virgule. Le plus souvent, le label de l'exemple est aussi donné sur cette ligne, tout à la fin.\n",
    "\n",
    "Pour lire un fichier CSV et pouvoir travailler dessus, nous utilisons la commande <code>pd.read_csv()</code> de la librairie `pandas`. Cette fonction prend en argument une chaîne de caractères qui don<code>DataFrame</code>ne le nom du fichier à ouvrir (avec le chemin d'accès s'il n'est pas dans le répertoire courant) et elle rend un <code>DataFrame</code>.\n",
    "\n",
    "Pour tester, utiliser le fichier `base-2D.csv` qui se trouve dans le répertoire `data`.\n",
    "On peut noter que la première du fichier contient le nom des colonnes qui seront données au dataframe créé.\n",
    "Si ces noms sont absent (fichier `csv` brut), consulter l'aide sur cette fonction pour voir comment l'utiliser."
   ]
  },
  {
   "cell_type": "code",
   "execution_count": 18,
   "metadata": {},
   "outputs": [
    {
     "name": "stdout",
     "output_type": "stream",
     "text": [
      "Il y a 14 exemples dans la base.\n"
     ]
    }
   ],
   "source": [
    "# Par exemple:\n",
    "data_2D = pd.read_csv(\"data/base-2D.csv\")\n",
    "print(\"Il y a\", len(data_2D), \"exemples dans la base.\")"
   ]
  },
  {
   "cell_type": "code",
   "execution_count": 19,
   "metadata": {},
   "outputs": [
    {
     "data": {
      "text/html": [
       "<div>\n",
       "<style scoped>\n",
       "    .dataframe tbody tr th:only-of-type {\n",
       "        vertical-align: middle;\n",
       "    }\n",
       "\n",
       "    .dataframe tbody tr th {\n",
       "        vertical-align: top;\n",
       "    }\n",
       "\n",
       "    .dataframe thead th {\n",
       "        text-align: right;\n",
       "    }\n",
       "</style>\n",
       "<table border=\"1\" class=\"dataframe\">\n",
       "  <thead>\n",
       "    <tr style=\"text-align: right;\">\n",
       "      <th></th>\n",
       "      <th>X1</th>\n",
       "      <th>X2</th>\n",
       "      <th>Label</th>\n",
       "    </tr>\n",
       "  </thead>\n",
       "  <tbody>\n",
       "    <tr>\n",
       "      <th>0</th>\n",
       "      <td>0.0</td>\n",
       "      <td>4.0</td>\n",
       "      <td>-1</td>\n",
       "    </tr>\n",
       "    <tr>\n",
       "      <th>1</th>\n",
       "      <td>1.0</td>\n",
       "      <td>3.5</td>\n",
       "      <td>-1</td>\n",
       "    </tr>\n",
       "    <tr>\n",
       "      <th>2</th>\n",
       "      <td>1.0</td>\n",
       "      <td>1.0</td>\n",
       "      <td>-1</td>\n",
       "    </tr>\n",
       "    <tr>\n",
       "      <th>3</th>\n",
       "      <td>2.0</td>\n",
       "      <td>1.0</td>\n",
       "      <td>-1</td>\n",
       "    </tr>\n",
       "    <tr>\n",
       "      <th>4</th>\n",
       "      <td>2.0</td>\n",
       "      <td>2.0</td>\n",
       "      <td>-1</td>\n",
       "    </tr>\n",
       "    <tr>\n",
       "      <th>5</th>\n",
       "      <td>4.0</td>\n",
       "      <td>4.0</td>\n",
       "      <td>-1</td>\n",
       "    </tr>\n",
       "    <tr>\n",
       "      <th>6</th>\n",
       "      <td>4.0</td>\n",
       "      <td>5.0</td>\n",
       "      <td>-1</td>\n",
       "    </tr>\n",
       "    <tr>\n",
       "      <th>7</th>\n",
       "      <td>4.0</td>\n",
       "      <td>6.0</td>\n",
       "      <td>1</td>\n",
       "    </tr>\n",
       "    <tr>\n",
       "      <th>8</th>\n",
       "      <td>4.5</td>\n",
       "      <td>1.0</td>\n",
       "      <td>1</td>\n",
       "    </tr>\n",
       "    <tr>\n",
       "      <th>9</th>\n",
       "      <td>4.5</td>\n",
       "      <td>6.0</td>\n",
       "      <td>1</td>\n",
       "    </tr>\n",
       "    <tr>\n",
       "      <th>10</th>\n",
       "      <td>5.0</td>\n",
       "      <td>1.0</td>\n",
       "      <td>1</td>\n",
       "    </tr>\n",
       "    <tr>\n",
       "      <th>11</th>\n",
       "      <td>5.0</td>\n",
       "      <td>5.0</td>\n",
       "      <td>1</td>\n",
       "    </tr>\n",
       "    <tr>\n",
       "      <th>12</th>\n",
       "      <td>6.0</td>\n",
       "      <td>2.0</td>\n",
       "      <td>1</td>\n",
       "    </tr>\n",
       "    <tr>\n",
       "      <th>13</th>\n",
       "      <td>7.0</td>\n",
       "      <td>4.0</td>\n",
       "      <td>1</td>\n",
       "    </tr>\n",
       "  </tbody>\n",
       "</table>\n",
       "</div>"
      ],
      "text/plain": [
       "     X1   X2  Label\n",
       "0   0.0  4.0     -1\n",
       "1   1.0  3.5     -1\n",
       "2   1.0  1.0     -1\n",
       "3   2.0  1.0     -1\n",
       "4   2.0  2.0     -1\n",
       "5   4.0  4.0     -1\n",
       "6   4.0  5.0     -1\n",
       "7   4.0  6.0      1\n",
       "8   4.5  1.0      1\n",
       "9   4.5  6.0      1\n",
       "10  5.0  1.0      1\n",
       "11  5.0  5.0      1\n",
       "12  6.0  2.0      1\n",
       "13  7.0  4.0      1"
      ]
     },
     "execution_count": 19,
     "metadata": {},
     "output_type": "execute_result"
    }
   ],
   "source": [
    "data_2D"
   ]
  },
  {
   "cell_type": "code",
   "execution_count": 20,
   "metadata": {},
   "outputs": [
    {
     "data": {
      "text/plain": [
       "pandas.core.frame.DataFrame"
      ]
     },
     "execution_count": 20,
     "metadata": {},
     "output_type": "execute_result"
    }
   ],
   "source": [
    "type(data_2D)"
   ]
  },
  {
   "cell_type": "markdown",
   "metadata": {},
   "source": [
    "Le problème pour nous c'est qu'un tel dataframe contient à la fois les données et les labels, il faut donc les séparer en 2 `ndarray`."
   ]
  },
  {
   "cell_type": "code",
   "execution_count": 21,
   "metadata": {},
   "outputs": [
    {
     "data": {
      "text/plain": [
       "array([[ 0. ,  4. , -1. ],\n",
       "       [ 1. ,  3.5, -1. ],\n",
       "       [ 1. ,  1. , -1. ],\n",
       "       [ 2. ,  1. , -1. ],\n",
       "       [ 2. ,  2. , -1. ],\n",
       "       [ 4. ,  4. , -1. ],\n",
       "       [ 4. ,  5. , -1. ],\n",
       "       [ 4. ,  6. ,  1. ],\n",
       "       [ 4.5,  1. ,  1. ],\n",
       "       [ 4.5,  6. ,  1. ],\n",
       "       [ 5. ,  1. ,  1. ],\n",
       "       [ 5. ,  5. ,  1. ],\n",
       "       [ 6. ,  2. ,  1. ],\n",
       "       [ 7. ,  4. ,  1. ]])"
      ]
     },
     "execution_count": 21,
     "metadata": {},
     "output_type": "execute_result"
    }
   ],
   "source": [
    "# On commence par construire un ndarray avec les valeurs du dataframe\n",
    "data_2D.values"
   ]
  },
  {
   "cell_type": "code",
   "execution_count": 22,
   "metadata": {},
   "outputs": [],
   "source": [
    "# On découpe ensuite pour séparer les descriptions des labels\n",
    "data_2D_desc = data_2D.values[:,0:2]\n",
    "data_2D_labels = data_2D.values[:,2]"
   ]
  },
  {
   "cell_type": "code",
   "execution_count": 23,
   "metadata": {},
   "outputs": [
    {
     "data": {
      "text/plain": [
       "array([[0. , 4. ],\n",
       "       [1. , 3.5],\n",
       "       [1. , 1. ],\n",
       "       [2. , 1. ],\n",
       "       [2. , 2. ],\n",
       "       [4. , 4. ],\n",
       "       [4. , 5. ],\n",
       "       [4. , 6. ],\n",
       "       [4.5, 1. ],\n",
       "       [4.5, 6. ],\n",
       "       [5. , 1. ],\n",
       "       [5. , 5. ],\n",
       "       [6. , 2. ],\n",
       "       [7. , 4. ]])"
      ]
     },
     "execution_count": 23,
     "metadata": {},
     "output_type": "execute_result"
    }
   ],
   "source": [
    "data_2D_desc"
   ]
  },
  {
   "cell_type": "code",
   "execution_count": 24,
   "metadata": {},
   "outputs": [
    {
     "data": {
      "text/plain": [
       "array([-1., -1., -1., -1., -1., -1., -1.,  1.,  1.,  1.,  1.,  1.,  1.,\n",
       "        1.])"
      ]
     },
     "execution_count": 24,
     "metadata": {},
     "output_type": "execute_result"
    }
   ],
   "source": [
    "data_2D_labels"
   ]
  },
  {
   "cell_type": "code",
   "execution_count": 25,
   "metadata": {},
   "outputs": [
    {
     "data": {
      "image/png": "[encoded data removed]",
      "text/plain": [
       "<Figure size 432x288 with 1 Axes>"
      ]
     },
     "metadata": {
      "needs_background": "light"
     },
     "output_type": "display_data"
    }
   ],
   "source": [
    "ut.plot2DSet(data_2D_desc,data_2D_labels)"
   ]
  },
  {
   "cell_type": "markdown",
   "metadata": {},
   "source": [
    "<font color=\"RED\" size=\"+1\">**[Q]**</font> Réaliser des expérimentations avec des datasets réels.\n",
    "\n",
    "Charger les données, afficher des informations statistiques sur les données, commencer à réfléchir comment appliquer les classifieurs que vous avez implémentés sur ces données..."
   ]
  },
  {
   "cell_type": "code",
   "execution_count": null,
   "metadata": {},
   "outputs": [],
   "source": []
  }
 ],
 "metadata": {
  "kernelspec": {
   "display_name": "Python 3",
   "language": "python",
   "name": "python3"
  },
  "language_info": {
   "codemirror_mode": {
    "name": "ipython",
    "version": 3
   },
   "file_extension": ".py",
   "mimetype": "text/x-python",
   "name": "python",
   "nbconvert_exporter": "python",
   "pygments_lexer": "ipython3",
   "version": "3.6.8"
  }
 },
 "nbformat": 4,
 "nbformat_minor": 2
}
