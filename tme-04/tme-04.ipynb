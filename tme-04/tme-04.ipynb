{
 "cells": [
  {
   "cell_type": "markdown",
   "metadata": {},
   "source": [
    "IA & Data science (LU3IN0226) -- 2019-2020\n",
    "--------\n",
    "*&copy; Equipe pédagogique: Gauvain Bourgne, Vincent Guigue, Marie-Jeanne Lesot, Christophe Marsala, Olivier Schwander.*\n"
   ]
  },
  {
   "cell_type": "markdown",
   "metadata": {},
   "source": [
    "# TD-TME04: les $k$-plus proches voisins (*$k$-ppv* ou *$k$-NN*)"
   ]
  },
  {
   "cell_type": "markdown",
   "metadata": {},
   "source": [
    "<font size=\"+1\" color=\"RED\">**[Q]**</font> **Indiquer dans la boîte ci-dessous vos noms et prénoms :**"
   ]
  },
  {
   "cell_type": "markdown",
   "metadata": {},
   "source": [
    "*Double-cliquer ici et insérer les noms et prénoms de votre binôme*"
   ]
  },
  {
   "cell_type": "markdown",
   "metadata": {},
   "source": [
    "<font color=\"RED\" size=\"+1\">**[Q]**</font> **Renommer ce fichier ipython**\n",
    "\n",
    "Tout en haut de cette page, cliquer sur <tt>tme-04</tt> et rajouter à la suite de <tt>tme-04</tt> les noms des membres du binômes séparés par un tiret.\n",
    "\n",
    "Par exemple, pour le binôme Luke Skywalker et Han Solo, le nom de fichier devient `tme-04-Skywalker-Solo`\n",
    "\n",
    "Penser à sauvegarder fréquemment le fichier en cours de travail :\n",
    "- soit en cliquant sur l'icône \"disquette\"\n",
    "- soit par la combinaison de touches [Ctrl]-S"
   ]
  },
  {
   "cell_type": "markdown",
   "metadata": {},
   "source": [
    "<font color=\"RED\" size=\"+1\">**[Q]**</font> **Mise à jour de la librairie `iads`**\n",
    "\n",
    "En premier lieu, vérifier que votre librairie `iads` est bien à jour : elle doit maintenant contenir toutes les fonctions et classes que mises au point et testées dans le tme-03. Une fois à jour, importer la librairie pour pouvoir l'utiliser dans ce notebook."
   ]
  },
  {
   "cell_type": "code",
   "execution_count": 1,
   "metadata": {},
   "outputs": [],
   "source": [
    "# Importation des librairies standards:\n",
    "import numpy as np\n",
    "import pandas as pd\n",
    "import matplotlib.pyplot as plt\n",
    "%matplotlib inline  \n",
    "\n",
    "# Importation de votre librairie iads:\n",
    "# La ligne suivante permet de préciser le chemin d'accès à la librairie iads\n",
    "import sys\n",
    "sys.path.append('../')   # iads doit être dans le répertoire frère du répertoire courant !\n",
    "\n",
    "# Importation de la librairie iads\n",
    "import iads as iads\n",
    "\n",
    "# importation de Classifiers\n",
    "from iads import Classifiers as cl\n",
    "\n",
    "# importation de utils\n",
    "from iads import utils as ut\n"
   ]
  },
  {
   "cell_type": "markdown",
   "metadata": {},
   "source": [
    "### Objectifs de ce TME\n",
    "\n",
    "L'objectif de ce TME est de programmer l'algorithme des $k$ plus proches voisins (aussi appelé `k-nn` pour *$k$ nearest neighbors*)."
   ]
  },
  {
   "cell_type": "markdown",
   "metadata": {},
   "source": [
    "En reprenant la fonction écrite dans les TME précédents, on commence par générer un petit dataset qui permettra de tester les fonctions."
   ]
  },
  {
   "cell_type": "code",
   "execution_count": 2,
   "metadata": {},
   "outputs": [
    {
     "name": "stdout",
     "output_type": "stream",
     "text": [
      "Le dataset généré contient  20 lignes de  2 colonnes.\n"
     ]
    },
    {
     "data": {
      "image/png": "[encoded data removed]",
      "text/plain": [
       "<Figure size 432x288 with 1 Axes>"
      ]
     },
     "metadata": {
      "needs_background": "light"
     },
     "output_type": "display_data"
    }
   ],
   "source": [
    "np.random.seed(42)   # supprimer cette ligne une fois la mise au point terminée\n",
    "\n",
    "# Exemple d'utilisation:\n",
    "\n",
    "data_desc, data_label = ut.genere_dataset_gaussian(np.array([1,1]),np.array([[1,0],[0,1]]),np.array([-1,-1]),np.array([[1,0],[0,1]]),10)\n",
    "\n",
    "print(\"Le dataset généré contient \", np.shape(data_desc)[0], \"lignes de \", np.shape(data_desc)[1], \"colonnes.\")\n",
    "\n",
    "# Affichage :\n",
    "ut.plot2DSet(data_desc,data_label)\n"
   ]
  },
  {
   "cell_type": "markdown",
   "metadata": {},
   "source": [
    "### Tri de valeurs\n",
    "Dans ce qui suit, il sera nécessaire de réaliser un tri des distances calculées, on utilise pour cela la méthode `numpy.argsort`. Consulter la documentation pour voir comment utiliser cette fonction.\n",
    "\n",
    "Exemple d'utilisation de `numpy.argsort`:"
   ]
  },
  {
   "cell_type": "code",
   "execution_count": 3,
   "metadata": {},
   "outputs": [
    {
     "data": {
      "text/plain": [
       "array([100,  50,  25,   7,  65,  42,   3,  99,  32])"
      ]
     },
     "execution_count": 3,
     "metadata": {},
     "output_type": "execute_result"
    }
   ],
   "source": [
    "liste = np.array([100, 50, 25, 7, 65, 42, 3, 99, 32])\n",
    "liste"
   ]
  },
  {
   "cell_type": "code",
   "execution_count": 4,
   "metadata": {},
   "outputs": [
    {
     "data": {
      "text/plain": [
       "array([6, 3, 2, 8, 5, 1, 4, 7, 0], dtype=int64)"
      ]
     },
     "execution_count": 4,
     "metadata": {},
     "output_type": "execute_result"
    }
   ],
   "source": [
    "indices_tri = np.argsort(liste)\n",
    "indices_tri"
   ]
  },
  {
   "cell_type": "code",
   "execution_count": 5,
   "metadata": {},
   "outputs": [
    {
     "data": {
      "text/plain": [
       "array([  3,   7,  25,  32,  42,  50,  65,  99, 100])"
      ]
     },
     "execution_count": 5,
     "metadata": {},
     "output_type": "execute_result"
    }
   ],
   "source": [
    "liste_triee = liste[indices_tri]\n",
    "liste_triee"
   ]
  },
  {
   "cell_type": "code",
   "execution_count": 6,
   "metadata": {},
   "outputs": [
    {
     "data": {
      "text/plain": [
       "67"
      ]
     },
     "execution_count": 6,
     "metadata": {},
     "output_type": "execute_result"
    }
   ],
   "source": [
    "liste_triee[0:4].sum()"
   ]
  },
  {
   "cell_type": "markdown",
   "metadata": {},
   "source": [
    "## L'algorithme  k-NN\n",
    "\n",
    "De la même façon que les classifieurs ont été définis dans les tme précédents, le classifieur par $k$ plus proches voisins (ou k-NN) est défini comme suit. \n",
    "\n",
    "Description de la classe `ClassifierKNN` (qui étend `Classifier`):\n",
    "- dans le constructeur, on précise, en plus de la dimension du dataset, le nombre de voisins à utiliser (valeur de $k$)\n",
    "- dans la méthode `train`, on donne le dataset qui doit servir de base de référence\n",
    "- dans la méthode `score`, pour une description d'exemple $x$ donnée :\n",
    "    - 1) on construit le tableau des distances entre $x$ et les exemples du dataset de référence, \n",
    "    - 2) on trie ce tableau grâce à la méthode `numpy.argsort`,\n",
    "    - 3) le score qui doit être rendu est alors **la proportion de classe +1** parmi les $k$ plus proches voisins de $x$. Ce score est donc un nombre réel de $[0,1]$ qui vaut $0.0$ si tous les $k$ voisins de $x$ sont de la classe $-1$ et qui vaut $1.0$ si tous les $k$ voisins de $x$ sont de laclasse $+1$. <br/> Par conséquent, si $k$ vaut $1$ (on ne regarde que le plus proche voisin), la méthode `score` rend donc soit $0.0$ soit $1.0$ selon la classe de ce voisin.\n",
    "- dans la méthode `predict`, pour une description d'exemple $x$ donnée, on utilise le score rendu par la fonction précédente pour rendre la classe de l'exemple, c'est-à-dire soit $-1$ soit $+1$. \n"
   ]
  },
  {
   "cell_type": "markdown",
   "metadata": {},
   "source": [
    "<font color=\"RED\" size=\"+1\">**[Q]**</font> Donner l'implémentation de la classe `ClassifierKNN` qui hérite de la classe `Classifier` et permet de définir un classifieur k-NN."
   ]
  },
  {
   "cell_type": "code",
   "execution_count": 7,
   "metadata": {},
   "outputs": [],
   "source": [
    "# ------------------------ A COMPLETER :\n",
    "\n",
    "class ClassifierKNN(cl.Classifier):\n",
    "    \"\"\" Classe pour représenter un classifieur par K plus proches voisins.\n",
    "        Cette classe hérite de la classe Classifier\n",
    "    \"\"\"\n",
    "\n",
    "    #TODO: A Compléter\n",
    "    \n",
    "    def __init__(self, input_dimension, k):\n",
    "        \"\"\" Constructeur de Classifier\n",
    "            Argument:\n",
    "                - intput_dimension (int) : dimension d'entrée des exemples\n",
    "                - k (int) : nombre de voisins à considérer\n",
    "            Hypothèse : input_dimension > 0\n",
    "        \"\"\"\n",
    "        cl.Classifier.__init__(self, input_dimension)\n",
    "        self.k = k\n",
    "        \n",
    "    def distance(self, x):\n",
    "        return np.array([np.linalg.norm(x - y) for y in self.desc_set])\n",
    "        \n",
    "        \n",
    "    def sim(self, x):\n",
    "        return np.array([np.exp(-((np.linalg.norm(x - y)**2)/(2.0* (np.var(self.desc_set)**2) ))) for y in self.desc_set])\n",
    "        \n",
    "    def score(self,x):\n",
    "        \"\"\" rend la proportion de +1 parmi les k ppv de x (valeur réelle)\n",
    "            x: une description : un ndarray\n",
    "        \"\"\"\n",
    "        dist = self.distance(x)\n",
    "#         print(dist)\n",
    "        indices = np.argsort(dist)\n",
    "#         print(indices[:self.k])\n",
    "#         print(self.label_set[indices[:self.k]])\n",
    "        nearest = self.label_set[indices[:self.k]]\n",
    "#         print(nearest)\n",
    "        ones = nearest[nearest == 1]\n",
    "        return np.float(len(ones)/self.k)\n",
    "    \n",
    "    def predict(self, x):\n",
    "        \"\"\" rend la prediction sur x (-1 ou +1)\n",
    "            x: une description : un ndarray\n",
    "        \"\"\"\n",
    "        if self.score(x) >= 0.5:\n",
    "            return +1\n",
    "        return  -1\n",
    "\n",
    "    def train(self, desc_set, label_set):\n",
    "        \"\"\" Permet d'entrainer le modele sur l'ensemble donné\n",
    "            desc_set: ndarray avec des descriptions\n",
    "            label_set: ndarray avec les labels correspondants\n",
    "            Hypothèse: desc_set et label_set ont le même nombre de lignes\n",
    "        \"\"\"        \n",
    "        self.desc_set = desc_set\n",
    "        self.label_set = label_set"
   ]
  },
  {
   "cell_type": "code",
   "execution_count": 8,
   "metadata": {},
   "outputs": [
    {
     "name": "stdout",
     "output_type": "stream",
     "text": [
      "Classification de l'exemple  [-2 -2] : 1  (score=  1.0 )\n",
      "Classification de l'exemple  [ 0.  -0.1] : -1  (score=  0.0 )\n",
      "Classification de l'exemple  [0.25 1.  ] : -1  (score=  0.0 )\n",
      "Classification de l'exemple  [2 2] : -1  (score=  0.0 )\n"
     ]
    },
    {
     "data": {
      "image/png": "[encoded data removed]",
      "text/plain": [
       "<Figure size 432x288 with 1 Axes>"
      ]
     },
     "metadata": {
      "needs_background": "light"
     },
     "output_type": "display_data"
    }
   ],
   "source": [
    "# Exemple d'utilisation :\n",
    "knn = ClassifierKNN(2,1)\n",
    "knn.train(data_desc, data_label)\n",
    "\n",
    "exemple = np.array([-2,-2])\n",
    "print(\"Classification de l'exemple \",exemple, \":\", knn.predict(exemple), \" (score= \", knn.score(exemple),\")\")\n",
    "exemple = np.array([0,-0.1])\n",
    "print(\"Classification de l'exemple \",exemple, \":\", knn.predict(exemple), \" (score= \", knn.score(exemple),\")\")\n",
    "exemple = np.array([0.25,1])\n",
    "print(\"Classification de l'exemple \",exemple, \":\", knn.predict(exemple), \" (score= \", knn.score(exemple),\")\")\n",
    "exemple = np.array([2,2])\n",
    "print(\"Classification de l'exemple \",exemple, \":\", knn.predict(exemple), \" (score= \", knn.score(exemple),\")\")\n",
    "\n",
    "ut.plot_frontiere(data_desc,data_label,knn,20)\n",
    "ut.plot2DSet(data_desc,data_label)\n"
   ]
  },
  {
   "cell_type": "code",
   "execution_count": 9,
   "metadata": {},
   "outputs": [
    {
     "name": "stdout",
     "output_type": "stream",
     "text": [
      "Classification de l'exemple  [-2 -2] : 1  (score=  1.0 )\n",
      "Classification de l'exemple  [ 0.  -0.1] : -1  (score=  0.0 )\n",
      "Classification de l'exemple  [0.25 1.  ] : -1  (score=  0.0 )\n",
      "Classification de l'exemple  [2 2] : -1  (score=  0.0 )\n"
     ]
    },
    {
     "data": {
      "image/png": "[encoded data removed]",
      "text/plain": [
       "<Figure size 432x288 with 1 Axes>"
      ]
     },
     "metadata": {
      "needs_background": "light"
     },
     "output_type": "display_data"
    }
   ],
   "source": [
    "# Un autre exemple d'utilisation :\n",
    "knn = ClassifierKNN(2,3)\n",
    "knn.train(data_desc, data_label)\n",
    "\n",
    "exemple = np.array([-2,-2])\n",
    "print(\"Classification de l'exemple \",exemple, \":\", knn.predict(exemple), \" (score= \", knn.score(exemple),\")\")\n",
    "exemple = np.array([0,-0.1])\n",
    "print(\"Classification de l'exemple \",exemple, \":\", knn.predict(exemple), \" (score= \", knn.score(exemple),\")\")\n",
    "exemple = np.array([0.25,1])\n",
    "print(\"Classification de l'exemple \",exemple, \":\", knn.predict(exemple), \" (score= \", knn.score(exemple),\")\")\n",
    "exemple = np.array([2,2])\n",
    "print(\"Classification de l'exemple \",exemple, \":\", knn.predict(exemple), \" (score= \", knn.score(exemple),\")\")\n",
    "\n",
    "ut.plot_frontiere(data_desc,data_label,knn,20)\n",
    "ut.plot2DSet(data_desc,data_label)\n"
   ]
  },
  {
   "cell_type": "code",
   "execution_count": 10,
   "metadata": {},
   "outputs": [
    {
     "name": "stdout",
     "output_type": "stream",
     "text": [
      "Classification de l'exemple  [1, 0.0] : 1  (score=  0.6666666666666666 )\n",
      "Classification de l'exemple  [-1.28425, 0.2521] : -1  (score=  0.3333333333333333 )\n"
     ]
    },
    {
     "data": {
      "text/plain": [
       "<matplotlib.collections.PathCollection at 0x1d0ad823f28>"
      ]
     },
     "execution_count": 10,
     "metadata": {},
     "output_type": "execute_result"
    },
    {
     "data": {
      "image/png": "[encoded data removed]",
      "text/plain": [
       "<Figure size 432x288 with 1 Axes>"
      ]
     },
     "metadata": {
      "needs_background": "light"
     },
     "output_type": "display_data"
    }
   ],
   "source": [
    "data_desc, data_label = ut.create_XOR(50, 0.21)\n",
    "ut.plot2DSet(data_desc, data_label)\n",
    "exemple = [1, 0.0]\n",
    "plt.scatter(exemple[0], exemple[1], s=300)\n",
    "knn = ClassifierKNN(2, 3)\n",
    "knn.train(data_desc, data_label)\n",
    "print(\"Classification de l'exemple \",exemple, \":\", knn.predict(exemple), \" (score= \", knn.score(exemple),\")\")\n",
    "\n",
    "\n",
    "\n",
    "knn = ClassifierKNN(2, 3)\n",
    "knn.train(data_desc, data_label)\n",
    "\n",
    "exemple = [-1.28425, 0.2521]\n",
    "print(\"Classification de l'exemple \",exemple, \":\", knn.predict(exemple), \" (score= \", knn.score(exemple),\")\")\n",
    "plt.scatter(exemple[0], exemple[1], s=300)"
   ]
  },
  {
   "cell_type": "markdown",
   "metadata": {},
   "source": [
    "## Expérimentations\n",
    "\n",
    "Pour expérimenter un classifieur, il est nécessaire de posséder deux datasets distincts: \n",
    "- le dataset d'apprentissage, qui se compose donc de 2 arrays: `train_desc` et `train_labels`\n",
    "- et le dataset de test, qui se compose de 2 arrays: `test_desc` et `test_labels`. \n",
    "\n",
    "\n",
    "On commence par construire le classifieur avec le dataset d'apprentisage, puis, on évalue sa performance en 2 temps :\n",
    "- on calcule son **accuracy d'apprentissage** qui est l'accuracy obtenue sur le dataset d'apprentissage \n",
    "- on calcule son **accuracy de test** qui est l'accuracy obtenue sur le dataset de test\n",
    "\n",
    "La première valeur mesure combien le classifieur a surappris les données d'apprentissage, la deuxième valeur mesure sa performance en généralisation."
   ]
  },
  {
   "cell_type": "markdown",
   "metadata": {},
   "source": [
    "### Différentes expérimentations sur des datasets générés\n",
    "\n",
    "<font color=\"RED\" size=\"+1\">**[Q]**</font> Comparer la performance (en train et test) de plusieurs classifieurs KNN construits avec différentes valeurs de $k$. Que pouvez vous constater ?\n",
    "Tracer la performance (accuracy d'apprentissage et de test) en fonction de la valeur de $k$ et essayer avec différentes façons de générer les dataset (gaussiennes)."
   ]
  },
  {
   "cell_type": "code",
   "execution_count": 11,
   "metadata": {},
   "outputs": [
    {
     "name": "stdout",
     "output_type": "stream",
     "text": [
      "[0, 80.0, 77.5, 75.0, 73.75]\n",
      "[0, 62.5, 63.74999999999999, 65.0, 65.0]\n"
     ]
    },
    {
     "data": {
      "text/plain": [
       "<matplotlib.legend.Legend at 0x1d0ad88eac8>"
      ]
     },
     "execution_count": 11,
     "metadata": {},
     "output_type": "execute_result"
    },
    {
     "data": {
      "image/png": "[encoded data removed]",
      "text/plain": [
       "<Figure size 432x288 with 1 Axes>"
      ]
     },
     "metadata": {
      "needs_background": "light"
     },
     "output_type": "display_data"
    }
   ],
   "source": [
    "# ------------------------ A COMPLETER :\n",
    "acc_train = [0]\n",
    "acc_test = [0]\n",
    "train_desc, labels_train = ut.create_XOR(20, 0.25652)\n",
    "test_desc, labels_test = ut.create_XOR(20, 0.25)\n",
    "knns = []\n",
    "# ut.plot2DSet(train_desc, labels_train)\n",
    "# plt.show()\n",
    "# ut.plot2DSet(test_desc, labels_test)\n",
    "for k in [3,5,6, 7]:\n",
    "    knn = ClassifierKNN(2, k)\n",
    "    knns.append(knn)\n",
    "    knn.train(train_desc, labels_train)\n",
    "    acc_train.append(knn.accuracy(train_desc, labels_train))\n",
    "\n",
    "acc_test = [0]\n",
    "for knn in knns:\n",
    "    acc_test.append(knn.accuracy(test_desc, labels_test))\n",
    "        \n",
    "print(acc_train)\n",
    "print(acc_test)\n",
    "\n",
    "plt.plot([0, 3, 5, 6, 7], acc_train, label=\"Train accuracy\")\n",
    "plt.plot([0, 3, 5, 6, 7], acc_test, label=\"Test accuracy\")\n",
    "plt.xlabel(\"K\")\n",
    "plt.ylabel(\"Acc\")\n",
    "plt.legend()"
   ]
  },
  {
   "cell_type": "markdown",
   "metadata": {},
   "source": [
    "Les accuracies d'apprentissage et de test offrent une bonne évaluation du classifieur, mais souvent il est intéressant d'avoir aussi une mesure de la robustesse de ces accuracies ainsi obtenues: c'est-à-dire combien elles sont fiables.\n",
    "\n",
    "C'est un peu comme si on souhaitait comparer 2 étudiants qui ont obtenu 12 de moyenne (sur 20) sur leur 4 premières interrogations. La seule valeur de la moyenne ne donne pas beaucoup d'information sur la note que pourrait obtenir chacun de ces étudiants lors d'une prochaine interrogation. Pour avoir plus d'information, on doit regarder leurs notes: \n",
    "- le premier étudiant a eu les 4 notes suivantes : 12, 11, 13 et 12;\n",
    "- le secont étudiant a eu les 4 notes suivantes : 20, 4, 20, 4.\n",
    "\n",
    "Ainsi, ces 2 étudiants ont tous les deux 12 de moyenne, mais on peut remarquer que le premier est \"plus stable\" que le second. Une mesure classique pour rendre compte de cela est l'*écart type* de la série des notes:\n",
    "- le premier étudiant a une moyenne de 12 avec un écart type de 0.8;\n",
    "- le second étudiant a une moyenne de 12 avec un écart type de 9.2.\n",
    "\n",
    "Pour évaluer un classifieur, on va donc mesurer son accuracy sur plusieurs datasets et calculer la moyenne des valeurs obtenues ainsi que leur écart type pour avoir une information sur sa robustesse de prédiction.\n",
    "\n",
    "Pour cela, on réalise alors une expérimentation par validation croisée (ou *cross-validation*) dont le principe est le suivant.\n",
    "\n",
    "<ol>\n",
    "    <li>Choisir un algorithme de construction de classifieur à évaluer</li>\n",
    "    <li>Générer un dataset suffisamment grand. Soit $DS$ ce dataset</li>\n",
    "    <li>Découper $DS$ en 10 datasets de taille égale tels qu'ils contiennent tous la même proportion d'exemples de chaque classe que $DS$, les exemples pour constituer chacun de ces datasets sont tirés aléatoirement parmi les exemples $DS$ par un tirage *sans remise*. On appelle $DS0$, $DS1$,..., $DS9$ ces 10 datasets.</li>\n",
    "    <li>Construire un classifieur en prenant $DS0$ comme dataset d'apprentissage et en regroupant les 9 autres datasets $DS1$,...,$DS9$ pour constituer un dataset de test et évaluer l'accuracy d'apprentissage $accA_0$ et l'accuracy de test $accT_0$ de ce classifieur.</li>\n",
    "    <li>Construire un nouveau classifier en prenant $DS1$ comme dataset d'apprentissage et les autres datasets $DS0$, $DS3$,...,$DS9$ comme dataset de test et évaluer l'accuracy d'apprentissage $accA_1$ et l'accuracy de test $accT_1$ de ce classifieur.</li>\n",
    "    <li>etc. Chaque dataset $DSi$ sert une fois comme dataset d'apprentissage et 9 fois comme dataset de test</li>\n",
    "</ol>\n",
    "    \n",
    "Au final, on obtient donc 10 valeurs d'accuracy d'apprentissage et 10 valeurs d'accuracy de test, la performance globale de l'algorithme du classifieur choisi est obtenue en donnant:\n",
    "- la moyenne des accuracies de test $\\frac{1}{10}\\sum_{i=0}^{9} accT_i$\n",
    "- l'écart type des accuracies de test $accT_0$, ..., $accT_{9}$\n",
    "\n",
    "De même, la moyenne et l'écart type des accuracies d'apprentissage peut être aussi fournie.\n",
    "\n",
    "*Remarque*: ici, comme on choisit de découper $DS$ en $10$ datasets, on parle de *validation croisée en 10 paquets* (en anglais: *10-folds cross-validation*). Dans d'autres cas, on peut choisir de réaliser un découpage avec un nombre de datasets différents. On parle alors de *validation croisée en m paquets* avec $m$ un nombre entier supérieur ou égal à 2.\n"
   ]
  },
  {
   "cell_type": "markdown",
   "metadata": {},
   "source": [
    "<font color=\"RED\" size=\"+1\">**[Q]**</font> Compléter la fonction suivante qui, étant donné un classifieur $C$, un dataset $DS$ (donné sous la forme d'un tuple (descriptions, labels)) et un entier $m$, réalise une validation croisée en $m$ paquets et rend le quadruplet composé de 2 tuples: le premier tuple donne la moyenne et l'écart type d'apprentissage, le second tuple donne la moyenne et l'écart type de test."
   ]
  },
  {
   "cell_type": "code",
   "execution_count": 42,
   "metadata": {},
   "outputs": [],
   "source": [
    "def crossvalidation(classifier, data, labels, k=10):\n",
    "    \"\"\"\n",
    "        train on one,  test on the rest\n",
    "    \n",
    "    \"\"\"\n",
    "\n",
    "    size = len(data) // k\n",
    "    data_copy = list(data)\n",
    "    labels_copy = list(labels)\n",
    "    data_indices = []\n",
    "    labels_indices = []\n",
    "    for _ in range(k):\n",
    "        fold_data = []\n",
    "        fold_labels = []\n",
    "        for _ in range(size):\n",
    "            index = np.random.randint(len(data_copy))\n",
    "            data_copy.pop(index)\n",
    "            labels_copy.pop(index)\n",
    "            fold_data.append(index)\n",
    "            fold_labels.append(index)\n",
    "        data_indices.append(fold_data)\n",
    "        labels_indices.append(fold_labels)\n",
    "    train_acc = [0]\n",
    "    test_acc = [0]\n",
    "    for i in range(k):\n",
    "        train_data = data[data_indices[i]]\n",
    "        train_label = labels[labels_indices[i]]\n",
    "        test_data = []\n",
    "        test_labels = []\n",
    "        for x, y in zip(data_indices, labels_indices):\n",
    "            if np.all(x != data_indices[i]) and np.all(labels[y] != labels_indices[i]) :\n",
    "                test_data.append(data[x])\n",
    "                test_labels.append(labels[y])\n",
    "        test_data = np.array(test_data)    \n",
    "        test_labels = np.array(test_labels)\n",
    "       \n",
    "        test_data = np.vstack(test_data)\n",
    "        test_labels = np.hstack(test_labels)\n",
    "#       print(test_data, test_labels)\n",
    "#       print(\"--------------------\")\n",
    "#       print(train_data, train_label)\n",
    "        classifier.train(train_data, train_label)\n",
    "        train_acc.append(classifier.accuracy(train_data, train_label))\n",
    "        test_acc.append(classifier.accuracy(test_data, test_labels))\n",
    "       \n",
    "    return (np.mean(train_acc), np.std(train_acc)),(np.mean(test_acc), np.std(test_acc))    \n",
    "      \n"
   ]
  },
  {
   "cell_type": "code",
   "execution_count": 43,
   "metadata": {},
   "outputs": [
    {
     "data": {
      "text/plain": [
       "((83.0, 9.0), (69.55555555555557, 7.600357366516751))"
      ]
     },
     "execution_count": 43,
     "metadata": {},
     "output_type": "execute_result"
    }
   ],
   "source": [
    "crossvalidation(ClassifierKNN(2,3), (data_desc, data_label))"
   ]
  },
  {
   "cell_type": "code",
   "execution_count": 44,
   "metadata": {},
   "outputs": [
    {
     "name": "stdout",
     "output_type": "stream",
     "text": [
      "(moyenne, std) pour apprentissage : (100.0, 0.0)\n",
      "(moyenne, std) pour test          : (67.38888888888889, 5.0555555555555545)\n"
     ]
    }
   ],
   "source": [
    "# Exemple d'utilisation:\n",
    "\n",
    "# Un autre exemple d'utilisation :\n",
    "knn = ClassifierKNN(2,1)\n",
    "\n",
    "res_apprentissage, res_test = crossvalidation(knn, (data_desc, data_label), 10)\n",
    "\n",
    "print(\"(moyenne, std) pour apprentissage :\", res_apprentissage)\n",
    "print(\"(moyenne, std) pour test          :\", res_test)"
   ]
  },
  {
   "cell_type": "code",
   "execution_count": 45,
   "metadata": {},
   "outputs": [
    {
     "name": "stdout",
     "output_type": "stream",
     "text": [
      "Le dataset généré contient  400 lignes de  2 colonnes.\n",
      "(moyenne, std) pour apprentissage : (95.25, 2.4238399287081647)\n",
      "(moyenne, std) pour test          : (90.5625, 0.30618621784789724)\n"
     ]
    },
    {
     "data": {
      "image/png": "[encoded data removed]",
      "text/plain": [
       "<Figure size 432x288 with 1 Axes>"
      ]
     },
     "metadata": {
      "needs_background": "light"
     },
     "output_type": "display_data"
    }
   ],
   "source": [
    "np.random.seed(42)   # supprimer cette ligne une fois la mise au point terminée\n",
    "\n",
    "# Un autre exemple d'utilisation:\n",
    "\n",
    "autre_desc, autre_label = ut.genere_dataset_gaussian(np.array([1,1]),np.array([[1,0],[0,1]]),np.array([-1,-1]),np.array([[1,0],[0,1]]),200)\n",
    "\n",
    "print(\"Le dataset généré contient \", np.shape(autre_desc)[0], \"lignes de \", np.shape(autre_desc)[1], \"colonnes.\")\n",
    "\n",
    "# Affichage :\n",
    "ut.plot2DSet(autre_desc,autre_label)\n",
    "\n",
    "# Classifieur :\n",
    "knn = ClassifierKNN(2,3)\n",
    "\n",
    "res_apprentissage, res_test = crossvalidation(knn, (autre_desc, autre_label), 5)\n",
    "\n",
    "print(\"(moyenne, std) pour apprentissage :\", res_apprentissage)\n",
    "print(\"(moyenne, std) pour test          :\", res_test)"
   ]
  },
  {
   "cell_type": "markdown",
   "metadata": {},
   "source": [
    "Lorsqu'on compare plusieurs classifieurs, il est intéressant de mesurer leurs performances par une validation croisée, et idéalement, réalisée avec les mêmes datasets.\n",
    "\n",
    "<font color=\"RED\" size=\"+1\">**[Q]**</font> Réécrire la fonction précédente pour qu'elle prenne en argument non pas un seul classifieur, mais une liste de classifieurs et qu'elle renvoie la liste des quadruplets résultats correspondante.\n",
    "\n",
    "*Attention*: il ne s'agit pas d'écrire une fonction qui appelle la fonction précédente, il faut la réécrire."
   ]
  },
  {
   "cell_type": "code",
   "execution_count": 46,
   "metadata": {},
   "outputs": [],
   "source": [
    "# ------------------------ A COMPLETER :\n",
    "def crossvalidation_(LC, DS, m):\n",
    "    \"\"\" List[Classifieur] * tuple[array, array] * int ->  List[tuple[tuple[float,float], tuple[float,float]]]\n",
    "        Hypothèse: m>0\n",
    "        Par défaut, m vaut 10\n",
    "    \"\"\"\n",
    "#     print(\"Il y a \", len(LC), \"classifieurs à comparer.\")\n",
    "    result = []\n",
    "    for C in LC:\n",
    "        result.append(crossvalidation(C, DS, m))\n",
    "    return result\n",
    "        \n",
    "    \n"
   ]
  },
  {
   "cell_type": "code",
   "execution_count": 47,
   "metadata": {},
   "outputs": [
    {
     "name": "stdout",
     "output_type": "stream",
     "text": [
      "\n",
      "*****\n",
      "Affichage des résultats:\n",
      "Classifieur  0\n",
      "\t(moyenne, std) pour apprentissage : (100.0, 0.0)\n",
      "\t(moyenne, std) pour test          : (89.72222222222221, 2.7971546389275797)\n",
      "Classifieur  1\n",
      "\t(moyenne, std) pour apprentissage : (93.75, 3.2113081446662823)\n",
      "\t(moyenne, std) pour test          : (91.08333333333334, 0.6854979266251696)\n",
      "Classifieur  2\n",
      "\t(moyenne, std) pour apprentissage : (93.0, 3.840572873934304)\n",
      "\t(moyenne, std) pour test          : (91.58333333333333, 1.4753635249877208)\n"
     ]
    }
   ],
   "source": [
    "# Exemple d'utilisation:\n",
    "\n",
    "# Un autre exemple d'utilisation :\n",
    "Liste_knns = []\n",
    "Liste_knns.append(ClassifierKNN(2,1))\n",
    "Liste_knns.append(ClassifierKNN(2,3))\n",
    "Liste_knns.append(ClassifierKNN(2,5))\n",
    "\n",
    "Resultats = crossvalidation_(Liste_knns, (autre_desc, autre_label), 10)\n",
    "\n",
    "print(\"\\n*****\\nAffichage des résultats:\")\n",
    "for k in range(0,len(Resultats)):\n",
    "    print(\"Classifieur \", k)\n",
    "    print(\"\\t(moyenne, std) pour apprentissage :\", Resultats[k][0])\n",
    "    print(\"\\t(moyenne, std) pour test          :\", Resultats[k][1])\n"
   ]
  },
  {
   "cell_type": "markdown",
   "metadata": {},
   "source": [
    "<font color=\"RED\" size=\"+1\">**[Q]**</font> A l'aide d'une validation croisée en 10 paquets réalisée sur un dataset généré aléatoirement, donner les performances (accuracy moyenne et écart type) de tous les classifieurs implémentés depuis le TME 2."
   ]
  },
  {
   "cell_type": "code",
   "execution_count": null,
   "metadata": {},
   "outputs": [],
   "source": [
    "# ------------------------ A COMPLETER :\n",
    "# easy to do \n"
   ]
  },
  {
   "cell_type": "markdown",
   "metadata": {},
   "source": [
    "### Expérimentations de  classifieurs sur des données réelles\n",
    "\n",
    "Téléchargez des données réelles (voir les TME précédents) et réalisez un ensemble d'expérimentations permettant de comparer les classifieurs que vous avez implémentés depuis le TME 2. \n",
    "Comparez-les en termes d'accuracy, de temps d'exécution,...\n",
    "Attention, il est donc nécessaire dans cette partie d'inclure des boîtes de code python pour faire les tests mais aussi des boîtes de texte, pour expliquer l'objectif des expériences, ainsi que d'autres boîtes pour commenter les résultats obtenus."
   ]
  },
  {
   "cell_type": "code",
   "execution_count": null,
   "metadata": {},
   "outputs": [],
   "source": []
  }
 ],
 "metadata": {
  "kernelspec": {
   "display_name": "Python 3",
   "language": "python",
   "name": "python3"
  },
  "language_info": {
   "codemirror_mode": {
    "name": "ipython",
    "version": 3
   },
   "file_extension": ".py",
   "mimetype": "text/x-python",
   "name": "python",
   "nbconvert_exporter": "python",
   "pygments_lexer": "ipython3",
   "version": "3.6.8"
  }
 },
 "nbformat": 4,
 "nbformat_minor": 2
}
