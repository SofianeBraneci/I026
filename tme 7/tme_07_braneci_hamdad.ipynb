{
 "cells": [
  {
   "cell_type": "markdown",
   "metadata": {
    "colab_type": "text",
    "id": "9iKM1671wfUv"
   },
   "source": [
    "IA & Data science (LU3IN026) -- 2019-2020\n",
    "--------\n",
    "*&copy; Equipe pédagogique: Gauvain Bourgne, Vincent Guigue, Marie-Jeanne Lesot, Christophe Marsala, Olivier Schwander.*\n"
   ]
  },
  {
   "cell_type": "markdown",
   "metadata": {
    "colab_type": "text",
    "id": "lHbnAE2LwfUx"
   },
   "source": [
    "# TD-TME07: les arbres de décision\n",
    "\n",
    "L'objectif de ce notebook est d'implémenter un algorithme d'apprentissage supervisé qui travaille sur des données catégorielles, l'algorithme de construction d'arbres de décision.\n",
    "Pour plus de détails sur cet algorithme, reportez-vous au slides du cours 6 mis en ligne sur le Moodle.\n"
   ]
  },
  {
   "cell_type": "markdown",
   "metadata": {
    "colab_type": "text",
    "id": "n_VmcgLiwfUz"
   },
   "source": [
    "## Préparation du notebook"
   ]
  },
  {
   "cell_type": "markdown",
   "metadata": {
    "colab_type": "text",
    "id": "iy_s6vnpwfU0"
   },
   "source": [
    "<font size=\"+1\" color=\"RED\">**[Q]**</font> **Indiquer dans la boîte ci-dessous vos noms et prénoms :**"
   ]
  },
  {
   "cell_type": "markdown",
   "metadata": {
    "colab_type": "text",
    "id": "2-OyfdjWwfU2"
   },
   "source": [
    "*Braneci sofiane et Hamdad Khellaf*"
   ]
  },
  {
   "cell_type": "markdown",
   "metadata": {
    "colab_type": "text",
    "id": "xSamxeOWwfU4"
   },
   "source": [
    "<font color=\"RED\" size=\"+1\">**[Q]**</font> **Renommer ce fichier ipython**\n",
    "\n",
    "Tout en haut de cette page, cliquer sur <tt>tme-07</tt> et rajouter à la suite de <tt>tme-07</tt> les noms des membres du binômes séparés par un tiret.\n",
    "\n",
    "Par exemple, pour le binôme Luke Skywalker et Han Solo, le nom de fichier devient `tme-07-Skywalker-Solo`\n",
    "\n",
    "Penser à sauvegarder fréquemment le fichier en cours de travail :\n",
    "- soit en cliquant sur l'icône \"disquette\"\n",
    "- soit par la combinaison de touches [Ctrl]-S"
   ]
  },
  {
   "cell_type": "markdown",
   "metadata": {
    "colab_type": "text",
    "id": "mySRFOZCwfU6"
   },
   "source": [
    "<font color=\"RED\" size=\"+1\">**[Q]**</font> **Mise à jour de la librairie `iads`**\n",
    "\n",
    "En premier lieu, vérifier que votre librairie `iads` est bien à jour : \n",
    "- dans le fichier `Classifieurs.py`: tous les classifieurs que vous avez implémentés depuis le début des séances. Rajouter aussi dans ce fichier la fonction `leave_one_out` écrite dans le notebook précédent.\n",
    "- dans le fichier `utils.py`: toutes les fonctions utiles que vous avez implémentées. En particulier, pensez à y mettre la fonction `categories_2_numeriques` ainsi que la classe `AdaptateurCategoriel` du TME précédent. \n",
    "\n",
    "Une fois à jour, importer la librairie pour pouvoir l'utiliser dans ce notebook.\n"
   ]
  },
  {
   "cell_type": "code",
   "execution_count": 1,
   "metadata": {
    "colab": {},
    "colab_type": "code",
    "id": "QOE6SaMUwfU-"
   },
   "outputs": [],
   "source": [
    "# Importation des librairies standards:\n",
    "import numpy as np\n",
    "import pandas as pd\n",
    "import matplotlib.pyplot as plt\n",
    "%matplotlib inline  \n",
    "\n",
    "# Importation de votre librairie iads:\n",
    "# La ligne suivante permet de préciser le chemin d'accès à la librairie iads\n",
    "import sys\n",
    "sys.path.append('../')   # iads doit être dans le répertoire frère du répertoire courant !\n",
    "\n",
    "# Importation de la librairie iads\n",
    "# import iads as iads\n",
    "\n",
    "# importation de Classifiers\n",
    "# from iads import Classifiers as cl\n",
    "import Classifiers as cl\n",
    "\n",
    "# importation de utils\n",
    "# from iads import utils as ut\n",
    "import utils as ut\n",
    "\n",
    "# importation de evaluation\n",
    "# from iads import evaluation as ev\n",
    "import evaluation as ev\n"
   ]
  },
  {
   "cell_type": "markdown",
   "metadata": {
    "colab_type": "text",
    "id": "Q9-z0l1UwfVE"
   },
   "source": [
    "Afin de réaliser les premiers essais avec les fonctions que l'on va programmer, on charge la base sur les élections vue dans le cours 6 et que l'on a utilisé dans le notebook précédent (cf. le notebook précédent pour revoir les étapes qui suivent)."
   ]
  },
  {
   "cell_type": "code",
   "execution_count": 284,
   "metadata": {
    "colab": {
     "base_uri": "https://localhost:8080/",
     "height": 288
    },
    "colab_type": "code",
    "id": "vGNBsk6jwfVG",
    "outputId": "4f229722-679e-4c84-99af-7ce8929bc37e",
    "scrolled": true
   },
   "outputs": [
    {
     "data": {
      "text/html": [
       "<div>\n",
       "<style scoped>\n",
       "    .dataframe tbody tr th:only-of-type {\n",
       "        vertical-align: middle;\n",
       "    }\n",
       "\n",
       "    .dataframe tbody tr th {\n",
       "        vertical-align: top;\n",
       "    }\n",
       "\n",
       "    .dataframe thead th {\n",
       "        text-align: right;\n",
       "    }\n",
       "</style>\n",
       "<table border=\"1\" class=\"dataframe\">\n",
       "  <thead>\n",
       "    <tr style=\"text-align: right;\">\n",
       "      <th></th>\n",
       "      <th>Adresse</th>\n",
       "      <th>Majeur?</th>\n",
       "      <th>Nationalite</th>\n",
       "      <th>Label</th>\n",
       "    </tr>\n",
       "  </thead>\n",
       "  <tbody>\n",
       "    <tr>\n",
       "      <th>0</th>\n",
       "      <td>Paris</td>\n",
       "      <td>oui</td>\n",
       "      <td>Francais</td>\n",
       "      <td>1</td>\n",
       "    </tr>\n",
       "    <tr>\n",
       "      <th>1</th>\n",
       "      <td>Paris</td>\n",
       "      <td>non</td>\n",
       "      <td>Francais</td>\n",
       "      <td>-1</td>\n",
       "    </tr>\n",
       "    <tr>\n",
       "      <th>2</th>\n",
       "      <td>Montpellier</td>\n",
       "      <td>oui</td>\n",
       "      <td>Italien</td>\n",
       "      <td>1</td>\n",
       "    </tr>\n",
       "    <tr>\n",
       "      <th>3</th>\n",
       "      <td>Paris</td>\n",
       "      <td>oui</td>\n",
       "      <td>Suisse</td>\n",
       "      <td>-1</td>\n",
       "    </tr>\n",
       "    <tr>\n",
       "      <th>4</th>\n",
       "      <td>Strasbourg</td>\n",
       "      <td>non</td>\n",
       "      <td>Italien</td>\n",
       "      <td>-1</td>\n",
       "    </tr>\n",
       "    <tr>\n",
       "      <th>5</th>\n",
       "      <td>Strasbourg</td>\n",
       "      <td>non</td>\n",
       "      <td>Francais</td>\n",
       "      <td>-1</td>\n",
       "    </tr>\n",
       "    <tr>\n",
       "      <th>6</th>\n",
       "      <td>Strasbourg</td>\n",
       "      <td>oui</td>\n",
       "      <td>Francais</td>\n",
       "      <td>1</td>\n",
       "    </tr>\n",
       "    <tr>\n",
       "      <th>7</th>\n",
       "      <td>Montpellier</td>\n",
       "      <td>oui</td>\n",
       "      <td>Suisse</td>\n",
       "      <td>-1</td>\n",
       "    </tr>\n",
       "  </tbody>\n",
       "</table>\n",
       "</div>"
      ],
      "text/plain": [
       "       Adresse Majeur? Nationalite  Label\n",
       "0        Paris     oui    Francais      1\n",
       "1        Paris     non    Francais     -1\n",
       "2  Montpellier     oui     Italien      1\n",
       "3        Paris     oui      Suisse     -1\n",
       "4   Strasbourg     non     Italien     -1\n",
       "5   Strasbourg     non    Francais     -1\n",
       "6   Strasbourg     oui    Francais      1\n",
       "7  Montpellier     oui      Suisse     -1"
      ]
     },
     "execution_count": 284,
     "metadata": {
      "tags": []
     },
     "output_type": "execute_result"
    }
   ],
   "source": [
    "# Chargement des fichiers de données :\n",
    "\n",
    "elections_df = pd.read_csv(\"elections.csv\")\n",
    "elections_df"
   ]
  },
  {
   "cell_type": "code",
   "execution_count": 285,
   "metadata": {
    "colab": {
     "base_uri": "https://localhost:8080/",
     "height": 35
    },
    "colab_type": "code",
    "id": "MNvl-J6xwfVS",
    "outputId": "cc1bce1a-caa9-419f-bdcf-7e5e13c8dc37"
   },
   "outputs": [
    {
     "name": "stdout",
     "output_type": "stream",
     "text": [
      "Noms des features:  ['Adresse', 'Majeur?', 'Nationalite']\n"
     ]
    }
   ],
   "source": [
    "# Passer du dataframe à des arrays:\n",
    "elections_desc = np.array(elections_df[['Adresse', 'Majeur?','Nationalite']])\n",
    "elections_label = np.array(elections_df['Label'])\n",
    "\n",
    "# obtenir les noms des colonnes :\n",
    "elections_noms = ['Adresse', 'Majeur?','Nationalite']\n",
    "\n",
    "print(\"Noms des features: \",elections_noms)"
   ]
  },
  {
   "cell_type": "code",
   "execution_count": null,
   "metadata": {
    "colab": {},
    "colab_type": "code",
    "id": "GQR5bPj5ISLM"
   },
   "outputs": [],
   "source": []
  },
  {
   "cell_type": "markdown",
   "metadata": {
    "colab_type": "text",
    "id": "iYjbIUBawfVX"
   },
   "source": [
    "## Premières fonctions: entropie et classe majoritaire"
   ]
  },
  {
   "cell_type": "markdown",
   "metadata": {
    "colab_type": "text",
    "id": "e_D7LatOwfVX"
   },
   "source": [
    "<font color=\"RED\" size=\"+1\">**[Q]**</font> Ecrire la fonction <code>classe_majoritaire</code> qui, étant donné un array de labels rend la classe majoritaire (celle qui est possédée par le plus grand nombre d'exemples donc...). En cas d'égalité, cette fonction rend la première classe rencontrée.\n",
    "\n",
    "**Remarque :** on utilise la fonction numpy `unique` qui permet d'obtenir les valeurs différentes d'un array ainsi que leur décompte."
   ]
  },
  {
   "cell_type": "code",
   "execution_count": 286,
   "metadata": {
    "colab": {
     "base_uri": "https://localhost:8080/",
     "height": 54
    },
    "colab_type": "code",
    "id": "gSC0WPfYwfVe",
    "outputId": "e6f549c4-4197-47f7-9fbf-3ab2ba0d4c17"
   },
   "outputs": [
    {
     "name": "stdout",
     "output_type": "stream",
     "text": [
      "Valeurs différentes dans l'array           :  [-1  1]\n",
      "Décompte de chaque valeur (respectivement) :  [5 3]\n"
     ]
    }
   ],
   "source": [
    "# Exemple d'utilisation de la fonction numpy `unique`\n",
    "\n",
    "valeurs, nb_fois = np.unique(elections_label,return_counts=True)\n",
    "\n",
    "print(\"Valeurs différentes dans l'array           : \",valeurs)\n",
    "print(\"Décompte de chaque valeur (respectivement) : \",nb_fois)"
   ]
  },
  {
   "cell_type": "code",
   "execution_count": null,
   "metadata": {
    "colab": {},
    "colab_type": "code",
    "id": "Jfe9LbGywfVr"
   },
   "outputs": [],
   "source": [
    "def classe_majoritaire(Y):\n",
    "    \"\"\" Y : (array) : array de labels\n",
    "        rend la classe majoritaire ()\n",
    "    \"\"\"\n",
    "    values, counts = np.unique(Y, return_counts=True)\n",
    "    return values[counts.argmax()]\n",
    "    #### A compléter pour répondre à la question posée"
   ]
  },
  {
   "cell_type": "code",
   "execution_count": 288,
   "metadata": {
    "colab": {
     "base_uri": "https://localhost:8080/",
     "height": 35
    },
    "colab_type": "code",
    "id": "lKRn-rtewfV1",
    "outputId": "4c7de256-6509-437a-c96e-b762e48c18d2"
   },
   "outputs": [
    {
     "data": {
      "text/plain": [
       "-1"
      ]
     },
     "execution_count": 288,
     "metadata": {
      "tags": []
     },
     "output_type": "execute_result"
    }
   ],
   "source": [
    "#Vérification sur nos données:\n",
    "classe_majoritaire(elections_label)"
   ]
  },
  {
   "cell_type": "markdown",
   "metadata": {
    "colab_type": "text",
    "id": "4BkOnwfuwfV-"
   },
   "source": [
    "### Entropie et gain d'information\n",
    "\n",
    "On note $\\{c_1, c_2,..., c_k\\}$, l'ensemble des classes possibles.\n",
    "\n",
    "Dans le cours, la mesure de désordre présentée utilise, pour toute valeur $c$ de la classe le ratio $\\frac{\\mbox{nombre de } c \\mbox{ dans } Y}{|Y|}$ qui correspond à la probabilité de la classe $c$ parmi $Y$.\n",
    "On note dans ce qui suit $p_1$ la probabilité de la classe $c_1$ parmi $Y$, etc. \n",
    "\n",
    "Ainsi, on a $P=(p_1, p_2,..., p_k)$ la distribution de probabilités sur les classes ainsi définies.\n",
    "\n",
    "L'**entropie de Shannon** de la distribution $P$ est donnée par:\n",
    "\n",
    "$ H_S(P) = -\\sum_{i=1}^{k} p_i \\log_k(p_i)$\n",
    "\n",
    "Le logarithme utilisé est le logarithme en base $k$ afin d'obtenir une valeur comprise entre $0$ et $1$ de l'entropie. \n",
    "\n",
    "Pour ce qui suit, une *distribution de probabilités* est représentée par une **liste** Python $P=[p_1,...,p_k]$ de valeurs réelles telle que\n",
    "* pour tout $i=1,..., k$ : $0 \\leq p_i \\leq 1$\n",
    "* $\\sum_{i=1}^{k}p_i = 1$\n"
   ]
  },
  {
   "cell_type": "markdown",
   "metadata": {
    "colab_type": "text",
    "id": "VZqBAgDEwfV_"
   },
   "source": [
    "<font color=\"RED\" size=\"+1\">**[Q]**</font> Ecrire la fonction `shannon` qui, étant donné une distribution de probabilités $P$ fournie sous la forme d'une liste de nombres, rend la valeur de $H_S(P)$, l'entropie de Shannon de $P$."
   ]
  },
  {
   "cell_type": "code",
   "execution_count": null,
   "metadata": {
    "colab": {},
    "colab_type": "code",
    "id": "xVb_BwG1wfWB"
   },
   "outputs": [],
   "source": [
    "import math\n",
    "def shannon(P):\n",
    "    \"\"\" list[Number] -> float\n",
    "        Hypothèse: la somme des nombres de P vaut 1\n",
    "        P correspond à une distribution de probabilité\n",
    "        rend la valeur de l'entropie de Shannon correspondante\n",
    "    \"\"\"\n",
    "    #### A compléter pour répondre à la question posée\n",
    "    base = len(P)\n",
    "    e = 0.0\n",
    "    if base == 1:\n",
    "        return 0.0\n",
    "    for p in P:\n",
    "        if p == 0: continue\n",
    "        e -= p * math.log(p, base)\n",
    "    return e"
   ]
  },
  {
   "cell_type": "code",
   "execution_count": 290,
   "metadata": {
    "colab": {
     "base_uri": "https://localhost:8080/",
     "height": 35
    },
    "colab_type": "code",
    "id": "U_I-cIjnzzyl",
    "outputId": "2a914642-84f6-4217-d449-e5fb67fc13db"
   },
   "outputs": [
    {
     "name": "stdout",
     "output_type": "stream",
     "text": [
      "H([1]) =  0.0\n"
     ]
    }
   ],
   "source": [
    "print(\"H([1]) = \", shannon([1]))"
   ]
  },
  {
   "cell_type": "code",
   "execution_count": 291,
   "metadata": {
    "colab": {
     "base_uri": "https://localhost:8080/",
     "height": 108
    },
    "colab_type": "code",
    "id": "zcvVyKZKwfWH",
    "outputId": "62d2264e-84db-4ac9-e88e-9c36886b946b"
   },
   "outputs": [
    {
     "name": "stdout",
     "output_type": "stream",
     "text": [
      "H([1]) =  0.0\n",
      "H([1,0]) =  0.0\n",
      "H([0.25, 0.25, 0.25, 0.25]) =  1.0\n",
      "H([0.7, 0.1, 0.2, 0.0]) =  0.5783898247235197\n",
      "H([1.0/3, 2.0/3]) =  0.9182958340544896\n"
     ]
    }
   ],
   "source": [
    "# Exemples d'utilisation:\n",
    "print(\"H([1]) = \", shannon([1]))\n",
    "print(\"H([1,0]) = \", shannon([1, 0]))\n",
    "print(\"H([0.25, 0.25, 0.25, 0.25]) = \", shannon([0.25, 0.25, 0.25, 0.25]))\n",
    "print(\"H([0.7, 0.1, 0.2, 0.0]) = \", shannon([0.7, 0.1, 0.2, 0.0]))\n",
    "print(\"H([1.0/3, 2.0/3]) = \", shannon([1.0/3, 2.0/3]))"
   ]
  },
  {
   "cell_type": "markdown",
   "metadata": {
    "colab_type": "text",
    "id": "wnhYGqUcwfWP"
   },
   "source": [
    "<font color=\"RED\" size=\"+1\">**[Q]**</font> Tracer, à l'aide de la fonction `plot`, la courbe donnant la valeur de `shannon([p, 1-p])` en fonction de `p`."
   ]
  },
  {
   "cell_type": "code",
   "execution_count": null,
   "metadata": {
    "colab": {},
    "colab_type": "code",
    "id": "oCRgDJAKwfWS"
   },
   "outputs": [],
   "source": [
    "# Pour plot, on a besoin de la librairie suivante:\n",
    "import matplotlib.pyplot as plt"
   ]
  },
  {
   "cell_type": "code",
   "execution_count": null,
   "metadata": {
    "colab": {},
    "colab_type": "code",
    "id": "Wf_In5FQBa6s"
   },
   "outputs": [],
   "source": []
  },
  {
   "cell_type": "code",
   "execution_count": 293,
   "metadata": {
    "colab": {
     "base_uri": "https://localhost:8080/",
     "height": 297
    },
    "colab_type": "code",
    "id": "KtNqcmelwfWZ",
    "outputId": "e39995b5-32b3-4fef-a65c-a38af4f772ac"
   },
   "outputs": [
    {
     "data": {
      "text/plain": [
       "Text(0, 0.5, 'shannon([p, 1-p])')"
      ]
     },
     "execution_count": 293,
     "metadata": {
      "tags": []
     },
     "output_type": "execute_result"
    },
    {
     "data": {
      "image/png": "[encoded data removed]",
      "text/plain": [
       "<Figure size 432x288 with 1 Axes>"
      ]
     },
     "metadata": {
      "tags": []
     },
     "output_type": "display_data"
    }
   ],
   "source": [
    "# Tracé de la courbe:\n",
    "\n",
    "## A COMPLETER\n",
    "P = np.linspace(0,1,100)\n",
    "values = []\n",
    "for p in P:\n",
    "    values.append(shannon([p, 1-p]))\n",
    "plt.plot(P, values)\n",
    "plt.xlabel('p')\n",
    "plt.ylabel('shannon([p, 1-p])')\n"
   ]
  },
  {
   "cell_type": "markdown",
   "metadata": {
    "colab_type": "text",
    "id": "SLQ7zb6DwfWe"
   },
   "source": [
    "<font color=\"RED\" size=\"+1\">**[Q]**</font> A l'aide de la fonction <code>shannon</code>, écrire la fonction <code>entropie</code> qui prend un ensemble de labels en argument et renvoie l'entropie de la distribution des classes dans cet ensemble."
   ]
  },
  {
   "cell_type": "code",
   "execution_count": null,
   "metadata": {
    "colab": {},
    "colab_type": "code",
    "id": "-FVKWPDYwfWf"
   },
   "outputs": [],
   "source": [
    "def entropie(lables):\n",
    "  # print(lables)\n",
    "    values, counts = np.unique(lables, return_counts=True)\n",
    "    probs = counts / sum(counts)\n",
    "  # print(probs, sum(probs))\n",
    "    return shannon(probs)"
   ]
  },
  {
   "cell_type": "code",
   "execution_count": 295,
   "metadata": {
    "colab": {
     "base_uri": "https://localhost:8080/",
     "height": 35
    },
    "colab_type": "code",
    "id": "k8LvmgTfJXoE",
    "outputId": "22e7a3c5-c20b-45d4-ba52-16d54726d5d8"
   },
   "outputs": [
    {
     "data": {
      "text/plain": [
       "array([ 1, -1,  1, -1, -1, -1,  1, -1])"
      ]
     },
     "execution_count": 295,
     "metadata": {
      "tags": []
     },
     "output_type": "execute_result"
    }
   ],
   "source": [
    "elections_label"
   ]
  },
  {
   "cell_type": "code",
   "execution_count": 296,
   "metadata": {
    "colab": {
     "base_uri": "https://localhost:8080/",
     "height": 35
    },
    "colab_type": "code",
    "id": "U8G0Y9VnwfWj",
    "outputId": "c6bf84d6-75b4-41e6-ebd1-4ea23d183ea2"
   },
   "outputs": [
    {
     "data": {
      "text/plain": [
       "0.9544340029249649"
      ]
     },
     "execution_count": 296,
     "metadata": {
      "tags": []
     },
     "output_type": "execute_result"
    }
   ],
   "source": [
    "# Exemple sur nos données :\n",
    "entropie(elections_label)"
   ]
  },
  {
   "cell_type": "markdown",
   "metadata": {
    "colab_type": "text",
    "id": "jmuBuYc7wfWr"
   },
   "source": [
    "## Arbres de décision\n",
    "\n",
    "Dans cette partie, on réalise l'implémentation de l'algorithme de construction d'un arbre de décision."
   ]
  },
  {
   "cell_type": "markdown",
   "metadata": {
    "colab_type": "text",
    "id": "d7SFET4swfWs"
   },
   "source": [
    "### Représentation d'un arbre en Python"
   ]
  },
  {
   "cell_type": "markdown",
   "metadata": {
    "colab_type": "text",
    "id": "6uE8yMqMwfWu"
   },
   "source": [
    "Pour représenter un arbre en Python, on a besoin de définir une structure de données adéquate. \n",
    "\n",
    "Un arbre de décision est défini par des **noeuds** qui sont de 2 types :\n",
    "- *noeud interne* : c'est un noeud qui est associé à un attribut (ie. une feature de description des exemples) et qui possède des fils qui sont aussi des noeuds. \n",
    "- *feuille* : c'est un noeud qui est associé à un label de la classe et qui a la particularité de ne pas avoir de descendants.\n",
    "\n",
    "Pour représenter des noeuds, nous définissons la classe `NoeudCategoriel` suivante:"
   ]
  },
  {
   "cell_type": "code",
   "execution_count": null,
   "metadata": {
    "colab": {},
    "colab_type": "code",
    "id": "TbCmEKnHwfWw"
   },
   "outputs": [],
   "source": [
    "# La librairie suivante est nécessaire pour l'affichage graphique de l'arbre:\n",
    "import graphviz as gv\n",
    "\n",
    "# Pour plus de détails : https://graphviz.readthedocs.io/en/stable/manual.html\n",
    "\n",
    "# Eventuellement, il peut être nécessaire d'installer graphviz sur votre compte:\n",
    "# pip install --user --install-option=\"--prefix=\" -U graphviz\n",
    "\n",
    "class NoeudCategoriel:\n",
    "    \"\"\" Classe pour représenter des noeuds d'un arbre de décision\n",
    "    \"\"\"\n",
    "    def __init__(self, num_att=-1, nom=''):\n",
    "        \"\"\" Constructeur: il prend en argument\n",
    "            - num_att (int) : le numéro de l'attribut auquel il se rapporte: de 0 à ...\n",
    "              si le noeud se rapporte à la classe, le numéro est -1, on n'a pas besoin\n",
    "              de le préciser\n",
    "            - nom (str) : une chaîne de caractères donnant le nom de l'attribut si\n",
    "              il est connu (sinon, on ne met rien et le nom sera donné de façon \n",
    "              générique: \"att_Numéro\")\n",
    "        \"\"\"\n",
    "        self.attribut = num_att    # numéro de l'attribut\n",
    "        if (nom == ''):            # son nom si connu\n",
    "            self.nom_attribut = 'att_'+str(num_att)\n",
    "        else:\n",
    "            self.nom_attribut = nom \n",
    "        self.Les_fils = None       # aucun fils à la création, ils seront ajoutés\n",
    "        self.classe   = None       # valeur de la classe si c'est une feuille\n",
    "        \n",
    "    def est_feuille(self):\n",
    "        \"\"\" rend True si l'arbre est une feuille \n",
    "            c'est une feuille s'il n'a aucun fils\n",
    "        \"\"\"\n",
    "        return self.Les_fils == None\n",
    "    \n",
    "    def ajoute_fils(self, valeur, Fils):\n",
    "        \"\"\" valeur : valeur de l'attribut de ce noeud qui doit être associée à Fils\n",
    "                     le type de cette valeur dépend de la base\n",
    "            Fils (NoeudCategoriel) : un nouveau fils pour ce noeud\n",
    "            Les fils sont stockés sous la forme d'un dictionnaire:\n",
    "            Dictionnaire {valeur_attribut : NoeudCategoriel}\n",
    "        \"\"\"\n",
    "        if self.Les_fils == None:\n",
    "            self.Les_fils = dict()\n",
    "        self.Les_fils[valeur] = Fils\n",
    "        # Rem: attention, on ne fait aucun contrôle, la nouvelle association peut\n",
    "        # écraser une association existante.\n",
    "    \n",
    "    def ajoute_feuille(self,classe):\n",
    "        \"\"\" classe: valeur de la classe\n",
    "            Ce noeud devient un noeud feuille\n",
    "        \"\"\"\n",
    "        self.classe    = classe\n",
    "        self.Les_fils  = None   # normalement, pas obligatoire ici, c'est pour être sûr\n",
    "        \n",
    "    def classifie(self, exemple):\n",
    "        \"\"\" exemple : numpy.array\n",
    "            rend la classe de l'exemple (pour nous, soit +1, soit -1 en général)\n",
    "            on rend la valeur 0 si l'exemple ne peut pas être classé (cf. les questions\n",
    "            posées en fin de ce notebook)\n",
    "        \"\"\"\n",
    "        if self.est_feuille():\n",
    "            return self.classe\n",
    "        if exemple[self.attribut] in self.Les_fils:\n",
    "            # descente récursive dans le noeud associé à la valeur de l'attribut\n",
    "            # pour cet exemple:\n",
    "            return self.Les_fils[exemple[self.attribut]].classifie(exemple)\n",
    "        else:\n",
    "            # Cas particulier : on ne trouve pas la valeur de l'exemple dans la liste des\n",
    "            # fils du noeud... Voir la fin de ce notebook pour essayer de résoudre ce mystère...\n",
    "            print('\\t*** Warning: attribut ',self.nom_attribut,' -> Valeur inconnue: ',exemple[self.attribut])\n",
    "            return 0\n",
    "    \n",
    "    def to_graph(self, g, prefixe='A'):\n",
    "        \"\"\" construit une représentation de l'arbre pour pouvoir l'afficher graphiquement\n",
    "            Cette fonction ne nous intéressera pas plus que ça, elle ne sera donc pas expliquée            \n",
    "        \"\"\"\n",
    "        if self.est_feuille():\n",
    "            g.node(prefixe,str(self.classe),shape='box')\n",
    "        else:\n",
    "            g.node(prefixe, self.nom_attribut)\n",
    "            i =0\n",
    "            for (valeur, sous_arbre) in self.Les_fils.items():\n",
    "                sous_arbre.to_graph(g,prefixe+str(i))\n",
    "                g.edge(prefixe,prefixe+str(i), valeur)\n",
    "                i = i+1        \n",
    "        return g\n"
   ]
  },
  {
   "cell_type": "code",
   "execution_count": 298,
   "metadata": {
    "colab": {
     "base_uri": "https://localhost:8080/",
     "height": 311
    },
    "colab_type": "code",
    "id": "qGX8ikSTwfW2",
    "outputId": "1d3e8a92-9a47-4df3-fb12-6fb7890976b7"
   },
   "outputs": [
    {
     "data": {
      "image/svg+xml": [
       "<?xml version=\"1.0\" encoding=\"UTF-8\" standalone=\"no\"?>\n",
       "<!DOCTYPE svg PUBLIC \"-//W3C//DTD SVG 1.1//EN\"\n",
       " \"http://www.w3.org/Graphics/SVG/1.1/DTD/svg11.dtd\">\n",
       "<!-- Generated by graphviz version 2.40.1 (20161225.0304)\n",
       " -->\n",
       "<!-- Title: %3 Pages: 1 -->\n",
       "<svg width=\"134pt\" height=\"218pt\"\n",
       " viewBox=\"0.00 0.00 134.00 218.00\" xmlns=\"http://www.w3.org/2000/svg\" xmlns:xlink=\"http://www.w3.org/1999/xlink\">\n",
       "<g id=\"graph0\" class=\"graph\" transform=\"scale(1 1) rotate(0) translate(4 214)\">\n",
       "<title>%3</title>\n",
       "<polygon fill=\"#ffffff\" stroke=\"transparent\" points=\"-4,4 -4,-214 130,-214 130,4 -4,4\"/>\n",
       "<!-- A -->\n",
       "<g id=\"node1\" class=\"node\">\n",
       "<title>A</title>\n",
       "<ellipse fill=\"none\" stroke=\"#000000\" cx=\"63\" cy=\"-192\" rx=\"32.4942\" ry=\"18\"/>\n",
       "<text text-anchor=\"middle\" x=\"63\" y=\"-188.3\" font-family=\"Times,serif\" font-size=\"14.00\" fill=\"#000000\">nom3</text>\n",
       "</g>\n",
       "<!-- A0 -->\n",
       "<g id=\"node2\" class=\"node\">\n",
       "<title>A0</title>\n",
       "<ellipse fill=\"none\" stroke=\"#000000\" cx=\"63\" cy=\"-105\" rx=\"32.4942\" ry=\"18\"/>\n",
       "<text text-anchor=\"middle\" x=\"63\" y=\"-101.3\" font-family=\"Times,serif\" font-size=\"14.00\" fill=\"#000000\">nom2</text>\n",
       "</g>\n",
       "<!-- A&#45;&gt;A0 -->\n",
       "<g id=\"edge3\" class=\"edge\">\n",
       "<title>A&#45;&gt;A0</title>\n",
       "<path fill=\"none\" stroke=\"#000000\" d=\"M63,-173.9735C63,-162.1918 63,-146.5607 63,-133.1581\"/>\n",
       "<polygon fill=\"#000000\" stroke=\"#000000\" points=\"66.5001,-133.0033 63,-123.0034 59.5001,-133.0034 66.5001,-133.0033\"/>\n",
       "<text text-anchor=\"middle\" x=\"75.5\" y=\"-144.8\" font-family=\"Times,serif\" font-size=\"14.00\" fill=\"#000000\">val3</text>\n",
       "</g>\n",
       "<!-- A00 -->\n",
       "<g id=\"node3\" class=\"node\">\n",
       "<title>A00</title>\n",
       "<polygon fill=\"none\" stroke=\"#000000\" points=\"54,-36 0,-36 0,0 54,0 54,-36\"/>\n",
       "<text text-anchor=\"middle\" x=\"27\" y=\"-14.3\" font-family=\"Times,serif\" font-size=\"14.00\" fill=\"#000000\">&#45;1</text>\n",
       "</g>\n",
       "<!-- A0&#45;&gt;A00 -->\n",
       "<g id=\"edge1\" class=\"edge\">\n",
       "<title>A0&#45;&gt;A00</title>\n",
       "<path fill=\"none\" stroke=\"#000000\" d=\"M55.7149,-87.3943C50.755,-75.408 44.0887,-59.2978 38.4277,-45.617\"/>\n",
       "<polygon fill=\"#000000\" stroke=\"#000000\" points=\"41.5798,-44.0804 34.5221,-36.1785 35.1116,-46.7569 41.5798,-44.0804\"/>\n",
       "<text text-anchor=\"middle\" x=\"60.5\" y=\"-57.8\" font-family=\"Times,serif\" font-size=\"14.00\" fill=\"#000000\">val1</text>\n",
       "</g>\n",
       "<!-- A01 -->\n",
       "<g id=\"node4\" class=\"node\">\n",
       "<title>A01</title>\n",
       "<polygon fill=\"none\" stroke=\"#000000\" points=\"126,-36 72,-36 72,0 126,0 126,-36\"/>\n",
       "<text text-anchor=\"middle\" x=\"99\" y=\"-14.3\" font-family=\"Times,serif\" font-size=\"14.00\" fill=\"#000000\">1</text>\n",
       "</g>\n",
       "<!-- A0&#45;&gt;A01 -->\n",
       "<g id=\"edge2\" class=\"edge\">\n",
       "<title>A0&#45;&gt;A01</title>\n",
       "<path fill=\"none\" stroke=\"#000000\" d=\"M70.2851,-87.3943C75.245,-75.408 81.9113,-59.2978 87.5723,-45.617\"/>\n",
       "<polygon fill=\"#000000\" stroke=\"#000000\" points=\"90.8884,-46.7569 91.4779,-36.1785 84.4202,-44.0804 90.8884,-46.7569\"/>\n",
       "<text text-anchor=\"middle\" x=\"95.5\" y=\"-57.8\" font-family=\"Times,serif\" font-size=\"14.00\" fill=\"#000000\">val2</text>\n",
       "</g>\n",
       "</g>\n",
       "</svg>\n"
      ],
      "text/plain": [
       "<graphviz.dot.Digraph at 0x7f5916c59940>"
      ]
     },
     "execution_count": 298,
     "metadata": {
      "tags": []
     },
     "output_type": "execute_result"
    }
   ],
   "source": [
    "# Exemple d'utilisation: \n",
    "un_noeud0= NoeudCategoriel() \n",
    "un_noeud0.ajoute_feuille(-1)\n",
    "\n",
    "un_noeud1= NoeudCategoriel()\n",
    "un_noeud1.ajoute_feuille(+1)\n",
    "\n",
    "un_noeud2= NoeudCategoriel(0,\"nom2\")\n",
    "un_noeud2.ajoute_fils(\"val1\",un_noeud0)\n",
    "un_noeud2.ajoute_fils(\"val2\",un_noeud1)\n",
    "\n",
    "un_noeud3 = NoeudCategoriel(1,\"nom3\")\n",
    "un_noeud3.ajoute_fils(\"val3\",un_noeud2)\n",
    "\n",
    "# L'affichage se fait en 2 temps\n",
    "# 1) on initialise un graphe orienté :\n",
    "gtree = gv.Digraph(format='png')\n",
    "# 2) on le rempli en appelant la méthode de la classe NoeudCategoriel\n",
    "un_noeud3.to_graph(gtree)"
   ]
  },
  {
   "cell_type": "markdown",
   "metadata": {
    "colab_type": "text",
    "id": "sCamrAipwfW_"
   },
   "source": [
    "### Construction de l'arbre de décision"
   ]
  },
  {
   "cell_type": "markdown",
   "metadata": {
    "colab_type": "text",
    "id": "zKtoJ0ZKwfXA"
   },
   "source": [
    "Comme on l'a vu dans le cours 6, pour construire un arbre de décision à partir d'un dataset ($X$, $Y$), il faut réaliser les étapes suivantes:\n",
    "1. calculer l'entropie de Shannon de l'ensemble des classes $Y$, on la note $H_S(Y)$.\n",
    "2. si $H_S(Y)$ est inférieure à epsilon (qui est un réel positif donné en paramètre de l'algorithme), alors construire une feuille avec cet ensemble, la classe associée à cette feuille est la classe majoritaire dans $Y$.\n",
    "3. sinon, pour chaque attribut $X_j$ qui décrit les exemples de $X$,\n",
    "    - 3.1. pour chacune des valeurs $v_{jl}$ de $X_j$ construire l'ensemble des exemples de $X$ qui possède la valeur $v_{jl}$ ainsi que l'ensemble de leurs labels.\n",
    "    - 3.2. calculer l'entropie conditionnelle de Shannon de la classe relativement à l'attribut $X_j$. On note $H_S(Y|X_j)$ cette entropie.\n",
    "4. l'attribut $X_{best}$ qui **maximise le gain d'information** est choisi pour constituer un nouveau noeud $\\eta$ de l'arbre de décision:\n",
    "    - 4.1. chaque valeur de $X_{best}$ est utilisée pour décomposer ($X$, $Y$) en autant de datasets que $X_{best}$ possède de valeurs: chaque dataset est séparant $X$ et $Y$ selon la valeur prise pour $X_{best}$. \n",
    "    - 4.2. pour chaque dataset obtenu on reprend en 1 pour construire chacun des fils de $\\eta$. \n",
    "\n",
    "\n",
    "On rappelle (cf. cours 6) que le gain d'information vaut:\n",
    "\n",
    "$$I_S(X_j,Y) = H_S(Y) - H_S(Y|X_j)$$\n",
    "\n",
    "\n",
    "**Remarque importante:** étant donné que $H_S(Y)$ est la même pour tout les $X_j$, chercher $X_j$ qui maximise le gain d'information est équivalent à chercher $X_j$ qui **minimise la valeur de l'entropie $H_S(Y|X_j)$**."
   ]
  },
  {
   "cell_type": "markdown",
   "metadata": {
    "colab_type": "text",
    "id": "BJS4QhwYwfXC"
   },
   "source": [
    "<font color=\"RED\" size=\"+1\">**[Q]**</font> Compléter la fonction `construit_AD`suivante afin qu'elle permette de construire un arbre de décision. Cette fonction rend un `NoeudCategoriel` qui correspon à l'arbre construit pour le dataset $(X,Y)$ donné."
   ]
  },
  {
   "cell_type": "code",
   "execution_count": null,
   "metadata": {
    "colab": {},
    "colab_type": "code",
    "id": "NG_vCY2ywfXD"
   },
   "outputs": [],
   "source": [
    "def construit_AD(X,Y,epsilon,LNoms = []):\n",
    "    \"\"\" X,Y : dataset\n",
    "        epsilon : seuil d'entropie pour le critère d'arrêt \n",
    "        LNoms : liste des noms de features (colonnes) de description \n",
    "    \"\"\"\n",
    "    \n",
    "    entropie_ens = entropie(Y)\n",
    "    if (entropie_ens <= epsilon):\n",
    "        # ARRET : on crée une feuille\n",
    "        noeud = NoeudCategoriel(-1,\"Label\")\n",
    "        noeud.ajoute_feuille(classe_majoritaire(Y))\n",
    "    else:\n",
    "        min_entropie = 1.1\n",
    "        i_best = -1\n",
    "        Xbest_valeurs = None\n",
    "        \n",
    "        ############################# DEBUT ########\n",
    "        \n",
    "        # COMPLETER CETTE PARTIE : ELLE DOIT PERMETTRE D'OBTENIR DANS\n",
    "        # i_best : le numéro de l'attribut qui minimise l'entropie\n",
    "        # min_entropie : la valeur de l'entropie minimale\n",
    "        # Xbest_valeurs : la liste des valeurs que peut prendre l'attribut i_best\n",
    "        #\n",
    "        # Il est donc nécessaire ici de parcourir tous les attributs et de calculer\n",
    "        # la valeur de l'entropie de la classe pour chaque attribut.\n",
    "        Xbest_valeurs = []\n",
    "        for i in range(len(LNoms)):\n",
    "            values, counts = np.unique(X[:, i], return_counts=True)\n",
    "            pAtt = counts / sum(counts)\n",
    "          # entropy conditionnelle\n",
    "            e = 0\n",
    "            for val in range(len(values)):\n",
    "                mask = (X[:, i] == values[val])\n",
    "                e+= entropie(Y[mask]) * pAtt[val]\n",
    "            if min_entropie > e:\n",
    "                Xbest_valeurs = values\n",
    "                min_entropie = e\n",
    "                i_best = i\n",
    "        \n",
    "        ############################# FIN ######## \n",
    "        \n",
    "        if len(LNoms)>0:  # si on a des noms de features\n",
    "            noeud = NoeudCategoriel(i_best,LNoms[i_best])    \n",
    "        else:\n",
    "            noeud = NoeudCategoriel(i_best)\n",
    "        for v in Xbest_valeurs:\n",
    "            noeud.ajoute_fils(v,construit_AD(X[X[:,i_best]==v], Y[X[:,i_best]==v],epsilon,LNoms))\n",
    "    return noeud"
   ]
  },
  {
   "cell_type": "code",
   "execution_count": null,
   "metadata": {
    "colab": {},
    "colab_type": "code",
    "id": "Ydf_Jlin3hDt"
   },
   "outputs": [],
   "source": [
    "root = construit_AD(elections_desc, elections_label, 0.0, elections_noms)"
   ]
  },
  {
   "cell_type": "code",
   "execution_count": 301,
   "metadata": {
    "colab": {
     "base_uri": "https://localhost:8080/",
     "height": 311
    },
    "colab_type": "code",
    "id": "Et5CrrBw34FX",
    "outputId": "a5c2b5f2-3122-4b21-b056-221f2a63f1d6"
   },
   "outputs": [
    {
     "data": {
      "image/svg+xml": [
       "<?xml version=\"1.0\" encoding=\"UTF-8\" standalone=\"no\"?>\n",
       "<!DOCTYPE svg PUBLIC \"-//W3C//DTD SVG 1.1//EN\"\n",
       " \"http://www.w3.org/Graphics/SVG/1.1/DTD/svg11.dtd\">\n",
       "<!-- Generated by graphviz version 2.40.1 (20161225.0304)\n",
       " -->\n",
       "<!-- Title: %3 Pages: 1 -->\n",
       "<svg width=\"230pt\" height=\"218pt\"\n",
       " viewBox=\"0.00 0.00 230.00 218.00\" xmlns=\"http://www.w3.org/2000/svg\" xmlns:xlink=\"http://www.w3.org/1999/xlink\">\n",
       "<g id=\"graph0\" class=\"graph\" transform=\"scale(1 1) rotate(0) translate(4 214)\">\n",
       "<title>%3</title>\n",
       "<polygon fill=\"#ffffff\" stroke=\"transparent\" points=\"-4,4 -4,-214 226,-214 226,4 -4,4\"/>\n",
       "<!-- A -->\n",
       "<g id=\"node1\" class=\"node\">\n",
       "<title>A</title>\n",
       "<ellipse fill=\"none\" stroke=\"#000000\" cx=\"50\" cy=\"-192\" rx=\"40.8928\" ry=\"18\"/>\n",
       "<text text-anchor=\"middle\" x=\"50\" y=\"-188.3\" font-family=\"Times,serif\" font-size=\"14.00\" fill=\"#000000\">Majeur?</text>\n",
       "</g>\n",
       "<!-- A0 -->\n",
       "<g id=\"node2\" class=\"node\">\n",
       "<title>A0</title>\n",
       "<polygon fill=\"none\" stroke=\"#000000\" points=\"54,-123 0,-123 0,-87 54,-87 54,-123\"/>\n",
       "<text text-anchor=\"middle\" x=\"27\" y=\"-101.3\" font-family=\"Times,serif\" font-size=\"14.00\" fill=\"#000000\">&#45;1</text>\n",
       "</g>\n",
       "<!-- A&#45;&gt;A0 -->\n",
       "<g id=\"edge1\" class=\"edge\">\n",
       "<title>A&#45;&gt;A0</title>\n",
       "<path fill=\"none\" stroke=\"#000000\" d=\"M45.2344,-173.9735C42.0888,-162.0751 37.9054,-146.2508 34.339,-132.7606\"/>\n",
       "<polygon fill=\"#000000\" stroke=\"#000000\" points=\"37.6992,-131.7766 31.7595,-123.0034 30.9317,-133.5658 37.6992,-131.7766\"/>\n",
       "<text text-anchor=\"middle\" x=\"51.5\" y=\"-144.8\" font-family=\"Times,serif\" font-size=\"14.00\" fill=\"#000000\">non</text>\n",
       "</g>\n",
       "<!-- A1 -->\n",
       "<g id=\"node3\" class=\"node\">\n",
       "<title>A1</title>\n",
       "<ellipse fill=\"none\" stroke=\"#000000\" cx=\"123\" cy=\"-105\" rx=\"51.1914\" ry=\"18\"/>\n",
       "<text text-anchor=\"middle\" x=\"123\" y=\"-101.3\" font-family=\"Times,serif\" font-size=\"14.00\" fill=\"#000000\">Nationalite</text>\n",
       "</g>\n",
       "<!-- A&#45;&gt;A1 -->\n",
       "<g id=\"edge5\" class=\"edge\">\n",
       "<title>A&#45;&gt;A1</title>\n",
       "<path fill=\"none\" stroke=\"#000000\" d=\"M64.4225,-174.8116C75.0512,-162.1444 89.6808,-144.7092 101.6606,-130.4319\"/>\n",
       "<polygon fill=\"#000000\" stroke=\"#000000\" points=\"104.611,-132.3608 108.3576,-122.4505 99.2486,-127.8613 104.611,-132.3608\"/>\n",
       "<text text-anchor=\"middle\" x=\"99.5\" y=\"-144.8\" font-family=\"Times,serif\" font-size=\"14.00\" fill=\"#000000\">oui</text>\n",
       "</g>\n",
       "<!-- A10 -->\n",
       "<g id=\"node4\" class=\"node\">\n",
       "<title>A10</title>\n",
       "<polygon fill=\"none\" stroke=\"#000000\" points=\"78,-36 24,-36 24,0 78,0 78,-36\"/>\n",
       "<text text-anchor=\"middle\" x=\"51\" y=\"-14.3\" font-family=\"Times,serif\" font-size=\"14.00\" fill=\"#000000\">1</text>\n",
       "</g>\n",
       "<!-- A1&#45;&gt;A10 -->\n",
       "<g id=\"edge2\" class=\"edge\">\n",
       "<title>A1&#45;&gt;A10</title>\n",
       "<path fill=\"none\" stroke=\"#000000\" d=\"M94.8492,-89.8988C86.3033,-84.2458 77.4734,-77.1794 71,-69 65.688,-62.2881 61.6391,-53.9921 58.6217,-46.0554\"/>\n",
       "<polygon fill=\"#000000\" stroke=\"#000000\" points=\"61.855,-44.6908 55.3339,-36.3406 55.2244,-46.9349 61.855,-44.6908\"/>\n",
       "<text text-anchor=\"middle\" x=\"95\" y=\"-57.8\" font-family=\"Times,serif\" font-size=\"14.00\" fill=\"#000000\">Francais</text>\n",
       "</g>\n",
       "<!-- A11 -->\n",
       "<g id=\"node5\" class=\"node\">\n",
       "<title>A11</title>\n",
       "<polygon fill=\"none\" stroke=\"#000000\" points=\"150,-36 96,-36 96,0 150,0 150,-36\"/>\n",
       "<text text-anchor=\"middle\" x=\"123\" y=\"-14.3\" font-family=\"Times,serif\" font-size=\"14.00\" fill=\"#000000\">1</text>\n",
       "</g>\n",
       "<!-- A1&#45;&gt;A11 -->\n",
       "<g id=\"edge3\" class=\"edge\">\n",
       "<title>A1&#45;&gt;A11</title>\n",
       "<path fill=\"none\" stroke=\"#000000\" d=\"M123,-86.9735C123,-75.1918 123,-59.5607 123,-46.1581\"/>\n",
       "<polygon fill=\"#000000\" stroke=\"#000000\" points=\"126.5001,-46.0033 123,-36.0034 119.5001,-46.0034 126.5001,-46.0033\"/>\n",
       "<text text-anchor=\"middle\" x=\"141\" y=\"-57.8\" font-family=\"Times,serif\" font-size=\"14.00\" fill=\"#000000\">Italien</text>\n",
       "</g>\n",
       "<!-- A12 -->\n",
       "<g id=\"node6\" class=\"node\">\n",
       "<title>A12</title>\n",
       "<polygon fill=\"none\" stroke=\"#000000\" points=\"222,-36 168,-36 168,0 222,0 222,-36\"/>\n",
       "<text text-anchor=\"middle\" x=\"195\" y=\"-14.3\" font-family=\"Times,serif\" font-size=\"14.00\" fill=\"#000000\">&#45;1</text>\n",
       "</g>\n",
       "<!-- A1&#45;&gt;A12 -->\n",
       "<g id=\"edge4\" class=\"edge\">\n",
       "<title>A1&#45;&gt;A12</title>\n",
       "<path fill=\"none\" stroke=\"#000000\" d=\"M143.5793,-88.4352C150.1596,-82.6434 157.2277,-75.8647 163,-69 169.1586,-61.676 175.0047,-53.0682 179.9742,-45.0315\"/>\n",
       "<polygon fill=\"#000000\" stroke=\"#000000\" points=\"183.0659,-46.6805 185.1825,-36.2992 177.054,-43.0947 183.0659,-46.6805\"/>\n",
       "<text text-anchor=\"middle\" x=\"191.5\" y=\"-57.8\" font-family=\"Times,serif\" font-size=\"14.00\" fill=\"#000000\">Suisse</text>\n",
       "</g>\n",
       "</g>\n",
       "</svg>\n"
      ],
      "text/plain": [
       "<graphviz.dot.Digraph at 0x7f5916ba72e8>"
      ]
     },
     "execution_count": 301,
     "metadata": {
      "tags": []
     },
     "output_type": "execute_result"
    }
   ],
   "source": [
    "gtree = gv.Digraph(format='png')\n",
    "# 2) on le rempli en appelant la méthode de la classe NoeudCategoriel\n",
    "root.to_graph(gtree)"
   ]
  },
  {
   "cell_type": "code",
   "execution_count": null,
   "metadata": {
    "colab": {},
    "colab_type": "code",
    "id": "ACbp8EpS33_c"
   },
   "outputs": [],
   "source": []
  },
  {
   "cell_type": "markdown",
   "metadata": {
    "colab_type": "text",
    "id": "QPtuh1-jwfXK"
   },
   "source": [
    "La classe pour implémenter un arbre de décision dérive de la classe `Classifier`. Elle utilise la fonction `construit_AD` dans sa méthode `train` pour construire un arbre à partir d'un dataset donné.\n",
    "\n",
    "<font color=\"RED\" size=\"+1\">**[Q]**</font> Compléter la classe suivante en donnant le code des méthodes `train` et `predict`.\n",
    "\n",
    "**Remarque :** la méthode `score` ne fera rien dans notre cas, on verra dans un autre notebook comment on pourrait la définir."
   ]
  },
  {
   "cell_type": "code",
   "execution_count": null,
   "metadata": {
    "colab": {},
    "colab_type": "code",
    "id": "3BkvOVCuwfXL"
   },
   "outputs": [],
   "source": [
    "class ClassifierArbreDecision(cl.Classifier):\n",
    "    \"\"\" Classe pour représenter un classifieur par arbre de décision\n",
    "    \"\"\"\n",
    "    \n",
    "    def __init__(self, input_dimension, epsilon, LNoms=[]):\n",
    "        \"\"\" Constructeur\n",
    "            Argument:\n",
    "                - intput_dimension (int) : dimension de la description des exemples\n",
    "                - epsilon (float) : paramètre de l'algorithme (cf. explications précédentes)\n",
    "                - LNoms : Liste des noms de dimensions (si connues)\n",
    "            Hypothèse : input_dimension > 0\n",
    "        \"\"\"\n",
    "        self.dimension = input_dimension\n",
    "        self.epsilon = epsilon\n",
    "        self.LNoms = LNoms\n",
    "        # l'arbre est manipulé par sa racine qui sera un Noeud\n",
    "        self.racine = None\n",
    "        \n",
    "    def toString(self):\n",
    "        \"\"\"  -> str\n",
    "            rend le nom du classifieur avec ses paramètres\n",
    "        \"\"\"\n",
    "        return 'ClassifierArbreDecision ['+str(self.dimension) + '] eps='+str(self.epsilon)\n",
    "        \n",
    "    def train(self, desc_set, label_set):\n",
    "        \"\"\" Permet d'entrainer le modele sur l'ensemble donné\n",
    "            desc_set: ndarray avec des descriptions\n",
    "            label_set: ndarray avec les labels correspondants\n",
    "            Hypothèse: desc_set et label_set ont le même nombre de lignes\n",
    "        \"\"\"        \n",
    "        ##################\n",
    "        ## COMPLETER ICI !\n",
    "        ##################\n",
    "        self.racine = construit_AD(desc_set, label_set, self.epsilon,self.LNoms)\n",
    "    \n",
    "    def score(self,x):\n",
    "        \"\"\" rend le score de prédiction sur x (valeur réelle)\n",
    "            x: une description\n",
    "        \"\"\"\n",
    "        # cette méthode ne fait rien dans notre implémentation :\n",
    "        pass\n",
    "    \n",
    "    def predict(self, x):\n",
    "        \"\"\" x (array): une description d'exemple\n",
    "            rend la prediction sur x             \n",
    "        \"\"\"\n",
    "        ##################\n",
    "        ## COMPLETER ICI !\n",
    "        ##################\n",
    "        return self.racine.classifie(x)\n",
    "\n",
    "    def affiche(self,GTree):\n",
    "        \"\"\" affichage de l'arbre sous forme graphique\n",
    "            Cette fonction modifie GTree par effet de bord\n",
    "        \"\"\"\n",
    "        self.racine.to_graph(GTree)"
   ]
  },
  {
   "cell_type": "markdown",
   "metadata": {
    "colab_type": "text",
    "id": "Sf23BOmHwfXT"
   },
   "source": [
    "### Premières expérimentations"
   ]
  },
  {
   "cell_type": "markdown",
   "metadata": {
    "colab_type": "text",
    "id": "PFGIOakTwfXU"
   },
   "source": [
    "Apprentissage d'un arbre de décision avec la base sur les élections :"
   ]
  },
  {
   "cell_type": "code",
   "execution_count": 303,
   "metadata": {
    "colab": {
     "base_uri": "https://localhost:8080/",
     "height": 311
    },
    "colab_type": "code",
    "id": "EzuzloyQwfXV",
    "outputId": "bd5b5b91-3e0c-442b-e0ca-7f7330c65dba"
   },
   "outputs": [
    {
     "data": {
      "image/svg+xml": [
       "<?xml version=\"1.0\" encoding=\"UTF-8\" standalone=\"no\"?>\n",
       "<!DOCTYPE svg PUBLIC \"-//W3C//DTD SVG 1.1//EN\"\n",
       " \"http://www.w3.org/Graphics/SVG/1.1/DTD/svg11.dtd\">\n",
       "<!-- Generated by graphviz version 2.40.1 (20161225.0304)\n",
       " -->\n",
       "<!-- Title: %3 Pages: 1 -->\n",
       "<svg width=\"230pt\" height=\"218pt\"\n",
       " viewBox=\"0.00 0.00 230.00 218.00\" xmlns=\"http://www.w3.org/2000/svg\" xmlns:xlink=\"http://www.w3.org/1999/xlink\">\n",
       "<g id=\"graph0\" class=\"graph\" transform=\"scale(1 1) rotate(0) translate(4 214)\">\n",
       "<title>%3</title>\n",
       "<polygon fill=\"#ffffff\" stroke=\"transparent\" points=\"-4,4 -4,-214 226,-214 226,4 -4,4\"/>\n",
       "<!-- A -->\n",
       "<g id=\"node1\" class=\"node\">\n",
       "<title>A</title>\n",
       "<ellipse fill=\"none\" stroke=\"#000000\" cx=\"50\" cy=\"-192\" rx=\"40.8928\" ry=\"18\"/>\n",
       "<text text-anchor=\"middle\" x=\"50\" y=\"-188.3\" font-family=\"Times,serif\" font-size=\"14.00\" fill=\"#000000\">Majeur?</text>\n",
       "</g>\n",
       "<!-- A0 -->\n",
       "<g id=\"node2\" class=\"node\">\n",
       "<title>A0</title>\n",
       "<polygon fill=\"none\" stroke=\"#000000\" points=\"54,-123 0,-123 0,-87 54,-87 54,-123\"/>\n",
       "<text text-anchor=\"middle\" x=\"27\" y=\"-101.3\" font-family=\"Times,serif\" font-size=\"14.00\" fill=\"#000000\">&#45;1</text>\n",
       "</g>\n",
       "<!-- A&#45;&gt;A0 -->\n",
       "<g id=\"edge1\" class=\"edge\">\n",
       "<title>A&#45;&gt;A0</title>\n",
       "<path fill=\"none\" stroke=\"#000000\" d=\"M45.2344,-173.9735C42.0888,-162.0751 37.9054,-146.2508 34.339,-132.7606\"/>\n",
       "<polygon fill=\"#000000\" stroke=\"#000000\" points=\"37.6992,-131.7766 31.7595,-123.0034 30.9317,-133.5658 37.6992,-131.7766\"/>\n",
       "<text text-anchor=\"middle\" x=\"51.5\" y=\"-144.8\" font-family=\"Times,serif\" font-size=\"14.00\" fill=\"#000000\">non</text>\n",
       "</g>\n",
       "<!-- A1 -->\n",
       "<g id=\"node3\" class=\"node\">\n",
       "<title>A1</title>\n",
       "<ellipse fill=\"none\" stroke=\"#000000\" cx=\"123\" cy=\"-105\" rx=\"51.1914\" ry=\"18\"/>\n",
       "<text text-anchor=\"middle\" x=\"123\" y=\"-101.3\" font-family=\"Times,serif\" font-size=\"14.00\" fill=\"#000000\">Nationalite</text>\n",
       "</g>\n",
       "<!-- A&#45;&gt;A1 -->\n",
       "<g id=\"edge5\" class=\"edge\">\n",
       "<title>A&#45;&gt;A1</title>\n",
       "<path fill=\"none\" stroke=\"#000000\" d=\"M64.4225,-174.8116C75.0512,-162.1444 89.6808,-144.7092 101.6606,-130.4319\"/>\n",
       "<polygon fill=\"#000000\" stroke=\"#000000\" points=\"104.611,-132.3608 108.3576,-122.4505 99.2486,-127.8613 104.611,-132.3608\"/>\n",
       "<text text-anchor=\"middle\" x=\"99.5\" y=\"-144.8\" font-family=\"Times,serif\" font-size=\"14.00\" fill=\"#000000\">oui</text>\n",
       "</g>\n",
       "<!-- A10 -->\n",
       "<g id=\"node4\" class=\"node\">\n",
       "<title>A10</title>\n",
       "<polygon fill=\"none\" stroke=\"#000000\" points=\"78,-36 24,-36 24,0 78,0 78,-36\"/>\n",
       "<text text-anchor=\"middle\" x=\"51\" y=\"-14.3\" font-family=\"Times,serif\" font-size=\"14.00\" fill=\"#000000\">1</text>\n",
       "</g>\n",
       "<!-- A1&#45;&gt;A10 -->\n",
       "<g id=\"edge2\" class=\"edge\">\n",
       "<title>A1&#45;&gt;A10</title>\n",
       "<path fill=\"none\" stroke=\"#000000\" d=\"M94.8492,-89.8988C86.3033,-84.2458 77.4734,-77.1794 71,-69 65.688,-62.2881 61.6391,-53.9921 58.6217,-46.0554\"/>\n",
       "<polygon fill=\"#000000\" stroke=\"#000000\" points=\"61.855,-44.6908 55.3339,-36.3406 55.2244,-46.9349 61.855,-44.6908\"/>\n",
       "<text text-anchor=\"middle\" x=\"95\" y=\"-57.8\" font-family=\"Times,serif\" font-size=\"14.00\" fill=\"#000000\">Francais</text>\n",
       "</g>\n",
       "<!-- A11 -->\n",
       "<g id=\"node5\" class=\"node\">\n",
       "<title>A11</title>\n",
       "<polygon fill=\"none\" stroke=\"#000000\" points=\"150,-36 96,-36 96,0 150,0 150,-36\"/>\n",
       "<text text-anchor=\"middle\" x=\"123\" y=\"-14.3\" font-family=\"Times,serif\" font-size=\"14.00\" fill=\"#000000\">1</text>\n",
       "</g>\n",
       "<!-- A1&#45;&gt;A11 -->\n",
       "<g id=\"edge3\" class=\"edge\">\n",
       "<title>A1&#45;&gt;A11</title>\n",
       "<path fill=\"none\" stroke=\"#000000\" d=\"M123,-86.9735C123,-75.1918 123,-59.5607 123,-46.1581\"/>\n",
       "<polygon fill=\"#000000\" stroke=\"#000000\" points=\"126.5001,-46.0033 123,-36.0034 119.5001,-46.0034 126.5001,-46.0033\"/>\n",
       "<text text-anchor=\"middle\" x=\"141\" y=\"-57.8\" font-family=\"Times,serif\" font-size=\"14.00\" fill=\"#000000\">Italien</text>\n",
       "</g>\n",
       "<!-- A12 -->\n",
       "<g id=\"node6\" class=\"node\">\n",
       "<title>A12</title>\n",
       "<polygon fill=\"none\" stroke=\"#000000\" points=\"222,-36 168,-36 168,0 222,0 222,-36\"/>\n",
       "<text text-anchor=\"middle\" x=\"195\" y=\"-14.3\" font-family=\"Times,serif\" font-size=\"14.00\" fill=\"#000000\">&#45;1</text>\n",
       "</g>\n",
       "<!-- A1&#45;&gt;A12 -->\n",
       "<g id=\"edge4\" class=\"edge\">\n",
       "<title>A1&#45;&gt;A12</title>\n",
       "<path fill=\"none\" stroke=\"#000000\" d=\"M143.5793,-88.4352C150.1596,-82.6434 157.2277,-75.8647 163,-69 169.1586,-61.676 175.0047,-53.0682 179.9742,-45.0315\"/>\n",
       "<polygon fill=\"#000000\" stroke=\"#000000\" points=\"183.0659,-46.6805 185.1825,-36.2992 177.054,-43.0947 183.0659,-46.6805\"/>\n",
       "<text text-anchor=\"middle\" x=\"191.5\" y=\"-57.8\" font-family=\"Times,serif\" font-size=\"14.00\" fill=\"#000000\">Suisse</text>\n",
       "</g>\n",
       "</g>\n",
       "</svg>\n"
      ],
      "text/plain": [
       "<graphviz.dot.Digraph at 0x7f5916c59eb8>"
      ]
     },
     "execution_count": 303,
     "metadata": {
      "tags": []
     },
     "output_type": "execute_result"
    }
   ],
   "source": [
    "# Initialiation d'un arbre pour le dataset Elections:\n",
    "arbre_elections = ClassifierArbreDecision(len(elections_noms), 0.0, elections_noms)\n",
    "\n",
    "# Construction de l'arbre de décision à partir du dataset Elections\n",
    "arbre_elections.train(elections_desc,elections_label)\n",
    "\n",
    "# Construction de la représentation graphique (affichage)\n",
    "graphe_arbre_elections = gv.Digraph(format='png')\n",
    "arbre_elections.affiche(graphe_arbre_elections)\n",
    "\n",
    "# Affichage du graphe obtenu:\n",
    "graphe_arbre_elections"
   ]
  },
  {
   "cell_type": "markdown",
   "metadata": {
    "colab_type": "text",
    "id": "JuTU8UedwfXa"
   },
   "source": [
    "Pour classer un nouvel exemple avec un arbre de décision, on utilise la méthode <code>predict</code> qui utilise la méthode `classifie` de la classe `NoeudCategoriel` pour classer un nouvel exemple et renvoyer le label +1 ou -1 selon le cas. \n",
    "\n",
    "Exemple de classification d'un exemple avec l'arbre obtenu :"
   ]
  },
  {
   "cell_type": "code",
   "execution_count": 304,
   "metadata": {
    "colab": {
     "base_uri": "https://localhost:8080/",
     "height": 35
    },
    "colab_type": "code",
    "id": "f9kEQayRwfXc",
    "outputId": "145e7a4d-5fd6-4c67-f81b-00f0a2f9d475"
   },
   "outputs": [
    {
     "data": {
      "text/plain": [
       "1"
      ]
     },
     "execution_count": 304,
     "metadata": {
      "tags": []
     },
     "output_type": "execute_result"
    }
   ],
   "source": [
    "arbre_elections.predict(elections_desc[0,:])"
   ]
  },
  {
   "cell_type": "markdown",
   "metadata": {
    "colab_type": "text",
    "id": "JoCSnvz-wfXh"
   },
   "source": [
    "Classification d'un nouvel exemple qui n'appartient à pas au dataset d'apprentissage :"
   ]
  },
  {
   "cell_type": "code",
   "execution_count": 305,
   "metadata": {
    "colab": {
     "base_uri": "https://localhost:8080/",
     "height": 35
    },
    "colab_type": "code",
    "id": "JwlEzMAxwfXh",
    "outputId": "b75c56e5-33db-4260-8c30-c4c484027929"
   },
   "outputs": [
    {
     "data": {
      "text/plain": [
       "1"
      ]
     },
     "execution_count": 305,
     "metadata": {
      "tags": []
     },
     "output_type": "execute_result"
    }
   ],
   "source": [
    "# Rappel : elections_noms = ['Adresse', 'Majeur?', 'Nationalite']\n",
    "arbre_elections.predict(np.array(['Paris','oui','Italien']))"
   ]
  },
  {
   "cell_type": "markdown",
   "metadata": {
    "colab_type": "text",
    "id": "sGLi9oHkwfXk"
   },
   "source": [
    "Mesure de l'accuracy de l'arbre obtenu :"
   ]
  },
  {
   "cell_type": "code",
   "execution_count": 306,
   "metadata": {
    "colab": {
     "base_uri": "https://localhost:8080/",
     "height": 35
    },
    "colab_type": "code",
    "id": "fxN4wyamwfXl",
    "outputId": "e39e5ed3-81a1-4afb-a1d2-61a9c7288968"
   },
   "outputs": [
    {
     "data": {
      "text/plain": [
       "100.0"
      ]
     },
     "execution_count": 306,
     "metadata": {
      "tags": []
     },
     "output_type": "execute_result"
    }
   ],
   "source": [
    "arbre_elections.accuracy(elections_desc,elections_label)"
   ]
  },
  {
   "cell_type": "markdown",
   "metadata": {
    "colab_type": "text",
    "id": "cV2pHFZOwfXs"
   },
   "source": [
    "## Première expérimentation avec la base Mushrooms"
   ]
  },
  {
   "cell_type": "markdown",
   "metadata": {
    "colab_type": "text",
    "id": "rx_Z-w2VwfXv"
   },
   "source": [
    "Pour mieux évaluer notre nouvel algortithme d'apprentissage, on va utiliser la base des champignons (mushrooms) que l'on a vu dans le notebook précédent.\n",
    "\n",
    "Dans le répertorie `data/` fourni avec ce sujet, vous pouvez trouver 6 fichiers `mushrooms-****.csv`. Ces 6 fichiers ont été obtenus en partitionant le fichier orignal `mushrooms.csv` que l'on peut trouver sur internet. Dans cette base originale, il y a 8124 champignons recensés. Ce fichier original a été découpé en 5 fichiers de 1400 champignons et 1 fichier de 1124 champignons. L'union de ces 6 fichiers permet donc de recomposer le fichier original.\n"
   ]
  },
  {
   "cell_type": "markdown",
   "metadata": {
    "colab_type": "text",
    "id": "SxR-sVTfwfXx"
   },
   "source": [
    "### Construction d'un arbre de décision\n",
    "\n",
    "Dans un premier temps, on vérifie que notre algorithme d'apprentissage fonctionne correctement en construisant un arbre de décision à partir d'un des fichiers.\n",
    "\n",
    "On commence par charger le fichier dans un dataframe et on le transforme en dataset (cf. le notebook précédent pour le détail des étapes):"
   ]
  },
  {
   "cell_type": "code",
   "execution_count": null,
   "metadata": {
    "colab": {},
    "colab_type": "code",
    "id": "6KfzsbcAwfXz"
   },
   "outputs": [],
   "source": [
    "# Chargement des fichiers de données sur les mushrooms:\n",
    "\n",
    "# On commence par travailler sur un des fichier \"mushrooms-1400\"\n",
    "mushrooms_df = pd.read_csv(\"mushrooms-1400-1.csv\")\n",
    "\n",
    "# Comme lors du TME-06, On remplace la colonne 'class' par une colonne 'Label' en remplaçant\n",
    "# les valeurs de classes par +1 et -1 (cf. le TME-06 si vous avez oublié...)\n",
    "mushrooms_df['Label'] = 0\n",
    "for i in mushrooms_df.index:\n",
    "    if mushrooms_df.loc[i,'class'] == 'e':\n",
    "        mushrooms_df.loc[i,'Label'] = 1\n",
    "    else:\n",
    "        mushrooms_df.loc[i,'Label'] = -1\n",
    "del mushrooms_df['class']   \n",
    "\n",
    "# noms des colonnes (on peut les récupérer directement):\n",
    "mushrooms_noms = ['cap-shape','cap-surface','cap-color','bruises','odor','gill-attachment',\n",
    "                  'gill-spacing','gill-size','gill-color','stalk-shape','stalk-root',\n",
    "                  'stalk-surface-above-ring','stalk-surface-below-ring','stalk-color-above-ring',\n",
    "                  'stalk-color-below-ring','veil-type','veil-color','ring-number','ring-type',\n",
    "                  'spore-print-color','population','habitat']\n",
    "\n",
    "# Passer du dataframe à un dataset (2 arrays):\n",
    "mushrooms_1_desc = np.array(mushrooms_df[mushrooms_noms])\n",
    "mushrooms_1_label = np.array(mushrooms_df['Label'])\n"
   ]
  },
  {
   "cell_type": "code",
   "execution_count": 308,
   "metadata": {
    "colab": {
     "base_uri": "https://localhost:8080/",
     "height": 545
    },
    "colab_type": "code",
    "id": "0IR55Sgw69fv",
    "outputId": "9434486a-928a-4a1a-fe85-f46d3b88284b"
   },
   "outputs": [
    {
     "name": "stdout",
     "output_type": "stream",
     "text": [
      "\n",
      "<class 'pandas.core.frame.DataFrame'>\n",
      "RangeIndex: 1400 entries, 0 to 1399\n",
      "Data columns (total 23 columns):\n",
      "cap-shape                   1400 non-null object\n",
      "cap-surface                 1400 non-null object\n",
      "cap-color                   1400 non-null object\n",
      "bruises                     1400 non-null object\n",
      "odor                        1400 non-null object\n",
      "gill-attachment             1400 non-null object\n",
      "gill-spacing                1400 non-null object\n",
      "gill-size                   1400 non-null object\n",
      "gill-color                  1400 non-null object\n",
      "stalk-shape                 1400 non-null object\n",
      "stalk-root                  1400 non-null object\n",
      "stalk-surface-above-ring    1400 non-null object\n",
      "stalk-surface-below-ring    1400 non-null object\n",
      "stalk-color-above-ring      1400 non-null object\n",
      "stalk-color-below-ring      1400 non-null object\n",
      "veil-type                   1400 non-null object\n",
      "veil-color                  1400 non-null object\n",
      "ring-number                 1400 non-null object\n",
      "ring-type                   1400 non-null object\n",
      "spore-print-color           1400 non-null object\n",
      "population                  1400 non-null object\n",
      "habitat                     1400 non-null object\n",
      "Label                       1400 non-null int64\n",
      "dtypes: int64(1), object(22)\n",
      "memory usage: 251.7+ KB\n"
     ]
    }
   ],
   "source": [
    "mushrooms_df.head()\n",
    "print()\n",
    "mushrooms_df.info()"
   ]
  },
  {
   "cell_type": "markdown",
   "metadata": {
    "colab_type": "text",
    "id": "4_q6OBEMwfX2"
   },
   "source": [
    "Ensuite, on construit l'arbre de décision correspondant.\n",
    "\n",
    "<font color=\"RED\" size=\"+1\">**[Q]**</font> Compléter le code suivant pour apprendre l'arbre et l'afficher ensuite:"
   ]
  },
  {
   "cell_type": "code",
   "execution_count": 309,
   "metadata": {
    "colab": {
     "base_uri": "https://localhost:8080/",
     "height": 564
    },
    "colab_type": "code",
    "id": "KGbsNflEwfX2",
    "outputId": "1b3862e8-383d-4714-eb61-44723475b406"
   },
   "outputs": [
    {
     "data": {
      "image/svg+xml": [
       "<?xml version=\"1.0\" encoding=\"UTF-8\" standalone=\"no\"?>\n",
       "<!DOCTYPE svg PUBLIC \"-//W3C//DTD SVG 1.1//EN\"\n",
       " \"http://www.w3.org/Graphics/SVG/1.1/DTD/svg11.dtd\">\n",
       "<!-- Generated by graphviz version 2.40.1 (20161225.0304)\n",
       " -->\n",
       "<!-- Title: %3 Pages: 1 -->\n",
       "<svg width=\"968pt\" height=\"392pt\"\n",
       " viewBox=\"0.00 0.00 968.00 392.00\" xmlns=\"http://www.w3.org/2000/svg\" xmlns:xlink=\"http://www.w3.org/1999/xlink\">\n",
       "<g id=\"graph0\" class=\"graph\" transform=\"scale(1 1) rotate(0) translate(4 388)\">\n",
       "<title>%3</title>\n",
       "<polygon fill=\"#ffffff\" stroke=\"transparent\" points=\"-4,4 -4,-388 964,-388 964,4 -4,4\"/>\n",
       "<!-- A -->\n",
       "<g id=\"node1\" class=\"node\">\n",
       "<title>A</title>\n",
       "<ellipse fill=\"none\" stroke=\"#000000\" cx=\"315\" cy=\"-366\" rx=\"28.6953\" ry=\"18\"/>\n",
       "<text text-anchor=\"middle\" x=\"315\" y=\"-362.3\" font-family=\"Times,serif\" font-size=\"14.00\" fill=\"#000000\">odor</text>\n",
       "</g>\n",
       "<!-- A0 -->\n",
       "<g id=\"node2\" class=\"node\">\n",
       "<title>A0</title>\n",
       "<polygon fill=\"none\" stroke=\"#000000\" points=\"54,-297 0,-297 0,-261 54,-261 54,-297\"/>\n",
       "<text text-anchor=\"middle\" x=\"27\" y=\"-275.3\" font-family=\"Times,serif\" font-size=\"14.00\" fill=\"#000000\">1</text>\n",
       "</g>\n",
       "<!-- A&#45;&gt;A0 -->\n",
       "<g id=\"edge1\" class=\"edge\">\n",
       "<title>A&#45;&gt;A0</title>\n",
       "<path fill=\"none\" stroke=\"#000000\" d=\"M287.465,-360.6683C242.0839,-351.4162 148.9073,-330.4568 63.8401,-297.0293\"/>\n",
       "<polygon fill=\"#000000\" stroke=\"#000000\" points=\"64.8951,-293.6817 54.3104,-293.2173 62.2953,-300.181 64.8951,-293.6817\"/>\n",
       "<text text-anchor=\"middle\" x=\"162.5\" y=\"-318.8\" font-family=\"Times,serif\" font-size=\"14.00\" fill=\"#000000\">a</text>\n",
       "</g>\n",
       "<!-- A1 -->\n",
       "<g id=\"node3\" class=\"node\">\n",
       "<title>A1</title>\n",
       "<polygon fill=\"none\" stroke=\"#000000\" points=\"126,-297 72,-297 72,-261 126,-261 126,-297\"/>\n",
       "<text text-anchor=\"middle\" x=\"99\" y=\"-275.3\" font-family=\"Times,serif\" font-size=\"14.00\" fill=\"#000000\">&#45;1</text>\n",
       "</g>\n",
       "<!-- A&#45;&gt;A1 -->\n",
       "<g id=\"edge2\" class=\"edge\">\n",
       "<title>A&#45;&gt;A1</title>\n",
       "<path fill=\"none\" stroke=\"#000000\" d=\"M289.9402,-357.2691C256.588,-345.4616 195.6905,-323.251 135.6259,-297.0963\"/>\n",
       "<polygon fill=\"#000000\" stroke=\"#000000\" points=\"136.9494,-293.8549 126.3861,-293.038 134.1344,-300.264 136.9494,-293.8549\"/>\n",
       "<text text-anchor=\"middle\" x=\"217.5\" y=\"-318.8\" font-family=\"Times,serif\" font-size=\"14.00\" fill=\"#000000\">c</text>\n",
       "</g>\n",
       "<!-- A2 -->\n",
       "<g id=\"node4\" class=\"node\">\n",
       "<title>A2</title>\n",
       "<polygon fill=\"none\" stroke=\"#000000\" points=\"198,-297 144,-297 144,-261 198,-261 198,-297\"/>\n",
       "<text text-anchor=\"middle\" x=\"171\" y=\"-275.3\" font-family=\"Times,serif\" font-size=\"14.00\" fill=\"#000000\">&#45;1</text>\n",
       "</g>\n",
       "<!-- A&#45;&gt;A2 -->\n",
       "<g id=\"edge3\" class=\"edge\">\n",
       "<title>A&#45;&gt;A2</title>\n",
       "<path fill=\"none\" stroke=\"#000000\" d=\"M294.3683,-353.535C271.5619,-339.7561 234.4076,-317.3088 206.8239,-300.6436\"/>\n",
       "<polygon fill=\"#000000\" stroke=\"#000000\" points=\"208.6038,-297.6298 198.2347,-295.4543 204.984,-303.6212 208.6038,-297.6298\"/>\n",
       "<text text-anchor=\"middle\" x=\"254.5\" y=\"-318.8\" font-family=\"Times,serif\" font-size=\"14.00\" fill=\"#000000\">f</text>\n",
       "</g>\n",
       "<!-- A3 -->\n",
       "<g id=\"node5\" class=\"node\">\n",
       "<title>A3</title>\n",
       "<polygon fill=\"none\" stroke=\"#000000\" points=\"270,-297 216,-297 216,-261 270,-261 270,-297\"/>\n",
       "<text text-anchor=\"middle\" x=\"243\" y=\"-275.3\" font-family=\"Times,serif\" font-size=\"14.00\" fill=\"#000000\">1</text>\n",
       "</g>\n",
       "<!-- A&#45;&gt;A3 -->\n",
       "<g id=\"edge4\" class=\"edge\">\n",
       "<title>A&#45;&gt;A3</title>\n",
       "<path fill=\"none\" stroke=\"#000000\" d=\"M301.4574,-349.636C291.1054,-337.1274 276.6285,-319.6345 264.6717,-305.1866\"/>\n",
       "<polygon fill=\"#000000\" stroke=\"#000000\" points=\"267.0452,-302.565 257.9731,-297.0925 261.6524,-307.028 267.0452,-302.565\"/>\n",
       "<text text-anchor=\"middle\" x=\"286\" y=\"-318.8\" font-family=\"Times,serif\" font-size=\"14.00\" fill=\"#000000\">l</text>\n",
       "</g>\n",
       "<!-- A4 -->\n",
       "<g id=\"node6\" class=\"node\">\n",
       "<title>A4</title>\n",
       "<polygon fill=\"none\" stroke=\"#000000\" points=\"342,-297 288,-297 288,-261 342,-261 342,-297\"/>\n",
       "<text text-anchor=\"middle\" x=\"315\" y=\"-275.3\" font-family=\"Times,serif\" font-size=\"14.00\" fill=\"#000000\">&#45;1</text>\n",
       "</g>\n",
       "<!-- A&#45;&gt;A4 -->\n",
       "<g id=\"edge5\" class=\"edge\">\n",
       "<title>A&#45;&gt;A4</title>\n",
       "<path fill=\"none\" stroke=\"#000000\" d=\"M315,-347.9735C315,-336.1918 315,-320.5607 315,-307.1581\"/>\n",
       "<polygon fill=\"#000000\" stroke=\"#000000\" points=\"318.5001,-307.0033 315,-297.0034 311.5001,-307.0034 318.5001,-307.0033\"/>\n",
       "<text text-anchor=\"middle\" x=\"321\" y=\"-318.8\" font-family=\"Times,serif\" font-size=\"14.00\" fill=\"#000000\">m</text>\n",
       "</g>\n",
       "<!-- A5 -->\n",
       "<g id=\"node7\" class=\"node\">\n",
       "<title>A5</title>\n",
       "<ellipse fill=\"none\" stroke=\"#000000\" cx=\"433\" cy=\"-279\" rx=\"73.387\" ry=\"18\"/>\n",
       "<text text-anchor=\"middle\" x=\"433\" y=\"-275.3\" font-family=\"Times,serif\" font-size=\"14.00\" fill=\"#000000\">spore&#45;print&#45;color</text>\n",
       "</g>\n",
       "<!-- A&#45;&gt;A5 -->\n",
       "<g id=\"edge25\" class=\"edge\">\n",
       "<title>A&#45;&gt;A5</title>\n",
       "<path fill=\"none\" stroke=\"#000000\" d=\"M333.6975,-352.2146C351.8265,-338.8483 379.6802,-318.312 401.2794,-302.3872\"/>\n",
       "<polygon fill=\"#000000\" stroke=\"#000000\" points=\"403.541,-305.0683 409.5128,-296.3168 399.3869,-299.4341 403.541,-305.0683\"/>\n",
       "<text text-anchor=\"middle\" x=\"386\" y=\"-318.8\" font-family=\"Times,serif\" font-size=\"14.00\" fill=\"#000000\">n</text>\n",
       "</g>\n",
       "<!-- A6 -->\n",
       "<g id=\"node27\" class=\"node\">\n",
       "<title>A6</title>\n",
       "<polygon fill=\"none\" stroke=\"#000000\" points=\"578,-297 524,-297 524,-261 578,-261 578,-297\"/>\n",
       "<text text-anchor=\"middle\" x=\"551\" y=\"-275.3\" font-family=\"Times,serif\" font-size=\"14.00\" fill=\"#000000\">&#45;1</text>\n",
       "</g>\n",
       "<!-- A&#45;&gt;A6 -->\n",
       "<g id=\"edge26\" class=\"edge\">\n",
       "<title>A&#45;&gt;A6</title>\n",
       "<path fill=\"none\" stroke=\"#000000\" d=\"M340.9785,-358.2392C377.7912,-346.9856 447.2732,-324.8024 514.2289,-297.0837\"/>\n",
       "<polygon fill=\"#000000\" stroke=\"#000000\" points=\"515.784,-300.2271 523.6562,-293.1363 513.0803,-293.7703 515.784,-300.2271\"/>\n",
       "<text text-anchor=\"middle\" x=\"471\" y=\"-318.8\" font-family=\"Times,serif\" font-size=\"14.00\" fill=\"#000000\">p</text>\n",
       "</g>\n",
       "<!-- A7 -->\n",
       "<g id=\"node28\" class=\"node\">\n",
       "<title>A7</title>\n",
       "<polygon fill=\"none\" stroke=\"#000000\" points=\"650,-297 596,-297 596,-261 650,-261 650,-297\"/>\n",
       "<text text-anchor=\"middle\" x=\"623\" y=\"-275.3\" font-family=\"Times,serif\" font-size=\"14.00\" fill=\"#000000\">&#45;1</text>\n",
       "</g>\n",
       "<!-- A&#45;&gt;A7 -->\n",
       "<g id=\"edge27\" class=\"edge\">\n",
       "<title>A&#45;&gt;A7</title>\n",
       "<path fill=\"none\" stroke=\"#000000\" d=\"M342.7751,-361.454C391.1864,-353.006 493.9217,-332.7476 586.2281,-296.9808\"/>\n",
       "<polygon fill=\"#000000\" stroke=\"#000000\" points=\"587.6835,-300.1692 595.699,-293.2407 585.1124,-293.6584 587.6835,-300.1692\"/>\n",
       "<text text-anchor=\"middle\" x=\"540\" y=\"-318.8\" font-family=\"Times,serif\" font-size=\"14.00\" fill=\"#000000\">s</text>\n",
       "</g>\n",
       "<!-- A8 -->\n",
       "<g id=\"node29\" class=\"node\">\n",
       "<title>A8</title>\n",
       "<polygon fill=\"none\" stroke=\"#000000\" points=\"722,-297 668,-297 668,-261 722,-261 722,-297\"/>\n",
       "<text text-anchor=\"middle\" x=\"695\" y=\"-275.3\" font-family=\"Times,serif\" font-size=\"14.00\" fill=\"#000000\">&#45;1</text>\n",
       "</g>\n",
       "<!-- A&#45;&gt;A8 -->\n",
       "<g id=\"edge28\" class=\"edge\">\n",
       "<title>A&#45;&gt;A8</title>\n",
       "<path fill=\"none\" stroke=\"#000000\" d=\"M343.6017,-363.6995C402.2375,-358.2708 539.836,-341.8585 658.1433,-296.9793\"/>\n",
       "<polygon fill=\"#000000\" stroke=\"#000000\" points=\"659.652,-300.1483 667.7107,-293.2701 657.1216,-293.6216 659.652,-300.1483\"/>\n",
       "<text text-anchor=\"middle\" x=\"609\" y=\"-318.8\" font-family=\"Times,serif\" font-size=\"14.00\" fill=\"#000000\">y</text>\n",
       "</g>\n",
       "<!-- A50 -->\n",
       "<g id=\"node8\" class=\"node\">\n",
       "<title>A50</title>\n",
       "<polygon fill=\"none\" stroke=\"#000000\" points=\"208,-210 154,-210 154,-174 208,-174 208,-210\"/>\n",
       "<text text-anchor=\"middle\" x=\"181\" y=\"-188.3\" font-family=\"Times,serif\" font-size=\"14.00\" fill=\"#000000\">1</text>\n",
       "</g>\n",
       "<!-- A5&#45;&gt;A50 -->\n",
       "<g id=\"edge6\" class=\"edge\">\n",
       "<title>A5&#45;&gt;A50</title>\n",
       "<path fill=\"none\" stroke=\"#000000\" d=\"M383.2793,-265.6321C341.1236,-253.7373 279.1012,-234.9165 217.7652,-210.0525\"/>\n",
       "<polygon fill=\"#000000\" stroke=\"#000000\" points=\"218.9073,-206.7379 208.3274,-206.1757 216.2475,-213.2129 218.9073,-206.7379\"/>\n",
       "<text text-anchor=\"middle\" x=\"309\" y=\"-231.8\" font-family=\"Times,serif\" font-size=\"14.00\" fill=\"#000000\">b</text>\n",
       "</g>\n",
       "<!-- A51 -->\n",
       "<g id=\"node9\" class=\"node\">\n",
       "<title>A51</title>\n",
       "<polygon fill=\"none\" stroke=\"#000000\" points=\"280,-210 226,-210 226,-174 280,-174 280,-210\"/>\n",
       "<text text-anchor=\"middle\" x=\"253\" y=\"-188.3\" font-family=\"Times,serif\" font-size=\"14.00\" fill=\"#000000\">1</text>\n",
       "</g>\n",
       "<!-- A5&#45;&gt;A51 -->\n",
       "<g id=\"edge7\" class=\"edge\">\n",
       "<title>A5&#45;&gt;A51</title>\n",
       "<path fill=\"none\" stroke=\"#000000\" d=\"M399.1718,-262.9875C371.882,-250.0261 332.2911,-231.1241 289.3202,-210.1239\"/>\n",
       "<polygon fill=\"#000000\" stroke=\"#000000\" points=\"290.6231,-206.8649 280.1026,-205.6123 287.5457,-213.1522 290.6231,-206.8649\"/>\n",
       "<text text-anchor=\"middle\" x=\"360\" y=\"-231.8\" font-family=\"Times,serif\" font-size=\"14.00\" fill=\"#000000\">h</text>\n",
       "</g>\n",
       "<!-- A52 -->\n",
       "<g id=\"node10\" class=\"node\">\n",
       "<title>A52</title>\n",
       "<polygon fill=\"none\" stroke=\"#000000\" points=\"352,-210 298,-210 298,-174 352,-174 352,-210\"/>\n",
       "<text text-anchor=\"middle\" x=\"325\" y=\"-188.3\" font-family=\"Times,serif\" font-size=\"14.00\" fill=\"#000000\">1</text>\n",
       "</g>\n",
       "<!-- A5&#45;&gt;A52 -->\n",
       "<g id=\"edge8\" class=\"edge\">\n",
       "<title>A5&#45;&gt;A52</title>\n",
       "<path fill=\"none\" stroke=\"#000000\" d=\"M411.4042,-261.6033C395.3897,-248.7028 373.3416,-230.9418 355.5261,-216.5905\"/>\n",
       "<polygon fill=\"#000000\" stroke=\"#000000\" points=\"357.6585,-213.8139 347.6753,-210.2662 353.2672,-219.2652 357.6585,-213.8139\"/>\n",
       "<text text-anchor=\"middle\" x=\"390\" y=\"-231.8\" font-family=\"Times,serif\" font-size=\"14.00\" fill=\"#000000\">k</text>\n",
       "</g>\n",
       "<!-- A53 -->\n",
       "<g id=\"node11\" class=\"node\">\n",
       "<title>A53</title>\n",
       "<polygon fill=\"none\" stroke=\"#000000\" points=\"424,-210 370,-210 370,-174 424,-174 424,-210\"/>\n",
       "<text text-anchor=\"middle\" x=\"397\" y=\"-188.3\" font-family=\"Times,serif\" font-size=\"14.00\" fill=\"#000000\">1</text>\n",
       "</g>\n",
       "<!-- A5&#45;&gt;A53 -->\n",
       "<g id=\"edge9\" class=\"edge\">\n",
       "<title>A5&#45;&gt;A53</title>\n",
       "<path fill=\"none\" stroke=\"#000000\" d=\"M425.5408,-260.9735C420.569,-248.9585 413.9407,-232.9401 408.3233,-219.3646\"/>\n",
       "<polygon fill=\"#000000\" stroke=\"#000000\" points=\"411.5073,-217.9053 404.4497,-210.0034 405.0392,-220.5818 411.5073,-217.9053\"/>\n",
       "<text text-anchor=\"middle\" x=\"422\" y=\"-231.8\" font-family=\"Times,serif\" font-size=\"14.00\" fill=\"#000000\">n</text>\n",
       "</g>\n",
       "<!-- A54 -->\n",
       "<g id=\"node12\" class=\"node\">\n",
       "<title>A54</title>\n",
       "<polygon fill=\"none\" stroke=\"#000000\" points=\"496,-210 442,-210 442,-174 496,-174 496,-210\"/>\n",
       "<text text-anchor=\"middle\" x=\"469\" y=\"-188.3\" font-family=\"Times,serif\" font-size=\"14.00\" fill=\"#000000\">1</text>\n",
       "</g>\n",
       "<!-- A5&#45;&gt;A54 -->\n",
       "<g id=\"edge10\" class=\"edge\">\n",
       "<title>A5&#45;&gt;A54</title>\n",
       "<path fill=\"none\" stroke=\"#000000\" d=\"M440.4592,-260.9735C445.431,-248.9585 452.0593,-232.9401 457.6767,-219.3646\"/>\n",
       "<polygon fill=\"#000000\" stroke=\"#000000\" points=\"460.9608,-220.5818 461.5503,-210.0034 454.4927,-217.9053 460.9608,-220.5818\"/>\n",
       "<text text-anchor=\"middle\" x=\"458\" y=\"-231.8\" font-family=\"Times,serif\" font-size=\"14.00\" fill=\"#000000\">o</text>\n",
       "</g>\n",
       "<!-- A55 -->\n",
       "<g id=\"node13\" class=\"node\">\n",
       "<title>A55</title>\n",
       "<polygon fill=\"none\" stroke=\"#000000\" points=\"568,-210 514,-210 514,-174 568,-174 568,-210\"/>\n",
       "<text text-anchor=\"middle\" x=\"541\" y=\"-188.3\" font-family=\"Times,serif\" font-size=\"14.00\" fill=\"#000000\">&#45;1</text>\n",
       "</g>\n",
       "<!-- A5&#45;&gt;A55 -->\n",
       "<g id=\"edge11\" class=\"edge\">\n",
       "<title>A5&#45;&gt;A55</title>\n",
       "<path fill=\"none\" stroke=\"#000000\" d=\"M454.5958,-261.6033C470.6103,-248.7028 492.6584,-230.9418 510.4739,-216.5905\"/>\n",
       "<polygon fill=\"#000000\" stroke=\"#000000\" points=\"512.7328,-219.2652 518.3247,-210.2662 508.3415,-213.8139 512.7328,-219.2652\"/>\n",
       "<text text-anchor=\"middle\" x=\"496.5\" y=\"-231.8\" font-family=\"Times,serif\" font-size=\"14.00\" fill=\"#000000\">r</text>\n",
       "</g>\n",
       "<!-- A56 -->\n",
       "<g id=\"node14\" class=\"node\">\n",
       "<title>A56</title>\n",
       "<ellipse fill=\"none\" stroke=\"#000000\" cx=\"631\" cy=\"-192\" rx=\"45.4919\" ry=\"18\"/>\n",
       "<text text-anchor=\"middle\" x=\"631\" y=\"-188.3\" font-family=\"Times,serif\" font-size=\"14.00\" fill=\"#000000\">cap&#45;color</text>\n",
       "</g>\n",
       "<!-- A5&#45;&gt;A56 -->\n",
       "<g id=\"edge23\" class=\"edge\">\n",
       "<title>A5&#45;&gt;A56</title>\n",
       "<path fill=\"none\" stroke=\"#000000\" d=\"M468.8563,-263.245C503.3314,-248.0968 555.3399,-225.2446 591.1082,-209.5282\"/>\n",
       "<polygon fill=\"#000000\" stroke=\"#000000\" points=\"592.5368,-212.7235 600.284,-205.4964 589.7208,-206.3149 592.5368,-212.7235\"/>\n",
       "<text text-anchor=\"middle\" x=\"549.5\" y=\"-231.8\" font-family=\"Times,serif\" font-size=\"14.00\" fill=\"#000000\">w</text>\n",
       "</g>\n",
       "<!-- A57 -->\n",
       "<g id=\"node26\" class=\"node\">\n",
       "<title>A57</title>\n",
       "<polygon fill=\"none\" stroke=\"#000000\" points=\"748,-210 694,-210 694,-174 748,-174 748,-210\"/>\n",
       "<text text-anchor=\"middle\" x=\"721\" y=\"-188.3\" font-family=\"Times,serif\" font-size=\"14.00\" fill=\"#000000\">1</text>\n",
       "</g>\n",
       "<!-- A5&#45;&gt;A57 -->\n",
       "<g id=\"edge24\" class=\"edge\">\n",
       "<title>A5&#45;&gt;A57</title>\n",
       "<path fill=\"none\" stroke=\"#000000\" d=\"M488.5607,-267.1018C538.0747,-255.7593 612.3987,-236.9147 684.0941,-210.0009\"/>\n",
       "<polygon fill=\"#000000\" stroke=\"#000000\" points=\"685.6352,-213.1593 693.7327,-206.327 683.1419,-206.6183 685.6352,-213.1593\"/>\n",
       "<text text-anchor=\"middle\" x=\"635\" y=\"-231.8\" font-family=\"Times,serif\" font-size=\"14.00\" fill=\"#000000\">y</text>\n",
       "</g>\n",
       "<!-- A560 -->\n",
       "<g id=\"node15\" class=\"node\">\n",
       "<title>A560</title>\n",
       "<polygon fill=\"none\" stroke=\"#000000\" points=\"406,-123 352,-123 352,-87 406,-87 406,-123\"/>\n",
       "<text text-anchor=\"middle\" x=\"379\" y=\"-101.3\" font-family=\"Times,serif\" font-size=\"14.00\" fill=\"#000000\">1</text>\n",
       "</g>\n",
       "<!-- A56&#45;&gt;A560 -->\n",
       "<g id=\"edge12\" class=\"edge\">\n",
       "<title>A56&#45;&gt;A560</title>\n",
       "<path fill=\"none\" stroke=\"#000000\" d=\"M596.2068,-180.1796C589.832,-178.0774 583.2267,-175.9409 577,-174 507.8917,-152.4592 486.5217,-151.7998 415.6943,-123.0258\"/>\n",
       "<polygon fill=\"#000000\" stroke=\"#000000\" points=\"416.9072,-119.7402 406.3274,-119.1757 414.246,-126.2146 416.9072,-119.7402\"/>\n",
       "<text text-anchor=\"middle\" x=\"516\" y=\"-144.8\" font-family=\"Times,serif\" font-size=\"14.00\" fill=\"#000000\">b</text>\n",
       "</g>\n",
       "<!-- A561 -->\n",
       "<g id=\"node16\" class=\"node\">\n",
       "<title>A561</title>\n",
       "<polygon fill=\"none\" stroke=\"#000000\" points=\"478,-123 424,-123 424,-87 478,-87 478,-123\"/>\n",
       "<text text-anchor=\"middle\" x=\"451\" y=\"-101.3\" font-family=\"Times,serif\" font-size=\"14.00\" fill=\"#000000\">1</text>\n",
       "</g>\n",
       "<!-- A56&#45;&gt;A561 -->\n",
       "<g id=\"edge13\" class=\"edge\">\n",
       "<title>A56&#45;&gt;A561</title>\n",
       "<path fill=\"none\" stroke=\"#000000\" d=\"M601.696,-178.1354C574.3714,-165.1683 532.268,-145.089 487.1606,-123.0456\"/>\n",
       "<polygon fill=\"#000000\" stroke=\"#000000\" points=\"488.6232,-119.8647 478.1026,-118.6123 485.5459,-126.1521 488.6232,-119.8647\"/>\n",
       "<text text-anchor=\"middle\" x=\"557.5\" y=\"-144.8\" font-family=\"Times,serif\" font-size=\"14.00\" fill=\"#000000\">c</text>\n",
       "</g>\n",
       "<!-- A562 -->\n",
       "<g id=\"node17\" class=\"node\">\n",
       "<title>A562</title>\n",
       "<polygon fill=\"none\" stroke=\"#000000\" points=\"550,-123 496,-123 496,-87 550,-87 550,-123\"/>\n",
       "<text text-anchor=\"middle\" x=\"523\" y=\"-101.3\" font-family=\"Times,serif\" font-size=\"14.00\" fill=\"#000000\">1</text>\n",
       "</g>\n",
       "<!-- A56&#45;&gt;A562 -->\n",
       "<g id=\"edge14\" class=\"edge\">\n",
       "<title>A56&#45;&gt;A562</title>\n",
       "<path fill=\"none\" stroke=\"#000000\" d=\"M610.9391,-175.8399C594.8576,-162.8853 572.0227,-144.4905 553.6523,-129.6922\"/>\n",
       "<polygon fill=\"#000000\" stroke=\"#000000\" points=\"555.5496,-126.7261 545.5664,-123.1785 551.1583,-132.1774 555.5496,-126.7261\"/>\n",
       "<text text-anchor=\"middle\" x=\"587.5\" y=\"-144.8\" font-family=\"Times,serif\" font-size=\"14.00\" fill=\"#000000\">e</text>\n",
       "</g>\n",
       "<!-- A563 -->\n",
       "<g id=\"node18\" class=\"node\">\n",
       "<title>A563</title>\n",
       "<polygon fill=\"none\" stroke=\"#000000\" points=\"622,-123 568,-123 568,-87 622,-87 622,-123\"/>\n",
       "<text text-anchor=\"middle\" x=\"595\" y=\"-101.3\" font-family=\"Times,serif\" font-size=\"14.00\" fill=\"#000000\">1</text>\n",
       "</g>\n",
       "<!-- A56&#45;&gt;A563 -->\n",
       "<g id=\"edge15\" class=\"edge\">\n",
       "<title>A56&#45;&gt;A563</title>\n",
       "<path fill=\"none\" stroke=\"#000000\" d=\"M623.5408,-173.9735C618.569,-161.9585 611.9407,-145.9401 606.3233,-132.3646\"/>\n",
       "<polygon fill=\"#000000\" stroke=\"#000000\" points=\"609.5073,-130.9053 602.4497,-123.0034 603.0392,-133.5818 609.5073,-130.9053\"/>\n",
       "<text text-anchor=\"middle\" x=\"620\" y=\"-144.8\" font-family=\"Times,serif\" font-size=\"14.00\" fill=\"#000000\">g</text>\n",
       "</g>\n",
       "<!-- A564 -->\n",
       "<g id=\"node19\" class=\"node\">\n",
       "<title>A564</title>\n",
       "<polygon fill=\"none\" stroke=\"#000000\" points=\"694,-123 640,-123 640,-87 694,-87 694,-123\"/>\n",
       "<text text-anchor=\"middle\" x=\"667\" y=\"-101.3\" font-family=\"Times,serif\" font-size=\"14.00\" fill=\"#000000\">1</text>\n",
       "</g>\n",
       "<!-- A56&#45;&gt;A564 -->\n",
       "<g id=\"edge16\" class=\"edge\">\n",
       "<title>A56&#45;&gt;A564</title>\n",
       "<path fill=\"none\" stroke=\"#000000\" d=\"M638.4592,-173.9735C643.431,-161.9585 650.0593,-145.9401 655.6767,-132.3646\"/>\n",
       "<polygon fill=\"#000000\" stroke=\"#000000\" points=\"658.9608,-133.5818 659.5503,-123.0034 652.4927,-130.9053 658.9608,-133.5818\"/>\n",
       "<text text-anchor=\"middle\" x=\"656\" y=\"-144.8\" font-family=\"Times,serif\" font-size=\"14.00\" fill=\"#000000\">n</text>\n",
       "</g>\n",
       "<!-- A565 -->\n",
       "<g id=\"node20\" class=\"node\">\n",
       "<title>A565</title>\n",
       "<polygon fill=\"none\" stroke=\"#000000\" points=\"766,-123 712,-123 712,-87 766,-87 766,-123\"/>\n",
       "<text text-anchor=\"middle\" x=\"739\" y=\"-101.3\" font-family=\"Times,serif\" font-size=\"14.00\" fill=\"#000000\">1</text>\n",
       "</g>\n",
       "<!-- A56&#45;&gt;A565 -->\n",
       "<g id=\"edge17\" class=\"edge\">\n",
       "<title>A56&#45;&gt;A565</title>\n",
       "<path fill=\"none\" stroke=\"#000000\" d=\"M651.0609,-175.8399C667.1424,-162.8853 689.9773,-144.4905 708.3477,-129.6922\"/>\n",
       "<polygon fill=\"#000000\" stroke=\"#000000\" points=\"710.8417,-132.1774 716.4336,-123.1785 706.4504,-126.7261 710.8417,-132.1774\"/>\n",
       "<text text-anchor=\"middle\" x=\"695\" y=\"-144.8\" font-family=\"Times,serif\" font-size=\"14.00\" fill=\"#000000\">p</text>\n",
       "</g>\n",
       "<!-- A566 -->\n",
       "<g id=\"node21\" class=\"node\">\n",
       "<title>A566</title>\n",
       "<ellipse fill=\"none\" stroke=\"#000000\" cx=\"836\" cy=\"-105\" rx=\"51.9908\" ry=\"18\"/>\n",
       "<text text-anchor=\"middle\" x=\"836\" y=\"-101.3\" font-family=\"Times,serif\" font-size=\"14.00\" fill=\"#000000\">cap&#45;surface</text>\n",
       "</g>\n",
       "<!-- A56&#45;&gt;A566 -->\n",
       "<g id=\"edge21\" class=\"edge\">\n",
       "<title>A56&#45;&gt;A566</title>\n",
       "<path fill=\"none\" stroke=\"#000000\" d=\"M662.1351,-178.7866C697.1393,-163.9311 754.1879,-139.7203 793.3284,-123.1094\"/>\n",
       "<polygon fill=\"#000000\" stroke=\"#000000\" points=\"795.0312,-126.189 802.8692,-119.0604 792.2965,-119.7452 795.0312,-126.189\"/>\n",
       "<text text-anchor=\"middle\" x=\"750.5\" y=\"-144.8\" font-family=\"Times,serif\" font-size=\"14.00\" fill=\"#000000\">w</text>\n",
       "</g>\n",
       "<!-- A567 -->\n",
       "<g id=\"node25\" class=\"node\">\n",
       "<title>A567</title>\n",
       "<polygon fill=\"none\" stroke=\"#000000\" points=\"960,-123 906,-123 906,-87 960,-87 960,-123\"/>\n",
       "<text text-anchor=\"middle\" x=\"933\" y=\"-101.3\" font-family=\"Times,serif\" font-size=\"14.00\" fill=\"#000000\">&#45;1</text>\n",
       "</g>\n",
       "<!-- A56&#45;&gt;A567 -->\n",
       "<g id=\"edge22\" class=\"edge\">\n",
       "<title>A56&#45;&gt;A567</title>\n",
       "<path fill=\"none\" stroke=\"#000000\" d=\"M665.4307,-180.0314C671.9019,-177.922 678.6344,-175.8211 685,-174 775.1697,-148.2033 804.1062,-155.6954 896.3379,-122.8379\"/>\n",
       "<polygon fill=\"#000000\" stroke=\"#000000\" points=\"897.5592,-126.1181 905.7669,-119.4185 895.1727,-119.5374 897.5592,-126.1181\"/>\n",
       "<text text-anchor=\"middle\" x=\"840\" y=\"-144.8\" font-family=\"Times,serif\" font-size=\"14.00\" fill=\"#000000\">y</text>\n",
       "</g>\n",
       "<!-- A5660 -->\n",
       "<g id=\"node22\" class=\"node\">\n",
       "<title>A5660</title>\n",
       "<polygon fill=\"none\" stroke=\"#000000\" points=\"791,-36 737,-36 737,0 791,0 791,-36\"/>\n",
       "<text text-anchor=\"middle\" x=\"764\" y=\"-14.3\" font-family=\"Times,serif\" font-size=\"14.00\" fill=\"#000000\">1</text>\n",
       "</g>\n",
       "<!-- A566&#45;&gt;A5660 -->\n",
       "<g id=\"edge18\" class=\"edge\">\n",
       "<title>A566&#45;&gt;A5660</title>\n",
       "<path fill=\"none\" stroke=\"#000000\" d=\"M821.4297,-87.3943C811.1249,-74.9425 797.1368,-58.0403 785.5458,-44.0346\"/>\n",
       "<polygon fill=\"#000000\" stroke=\"#000000\" points=\"788.1163,-41.6509 779.0442,-36.1785 782.7236,-46.1139 788.1163,-41.6509\"/>\n",
       "<text text-anchor=\"middle\" x=\"806.5\" y=\"-57.8\" font-family=\"Times,serif\" font-size=\"14.00\" fill=\"#000000\">f</text>\n",
       "</g>\n",
       "<!-- A5661 -->\n",
       "<g id=\"node23\" class=\"node\">\n",
       "<title>A5661</title>\n",
       "<polygon fill=\"none\" stroke=\"#000000\" points=\"863,-36 809,-36 809,0 863,0 863,-36\"/>\n",
       "<text text-anchor=\"middle\" x=\"836\" y=\"-14.3\" font-family=\"Times,serif\" font-size=\"14.00\" fill=\"#000000\">&#45;1</text>\n",
       "</g>\n",
       "<!-- A566&#45;&gt;A5661 -->\n",
       "<g id=\"edge19\" class=\"edge\">\n",
       "<title>A566&#45;&gt;A5661</title>\n",
       "<path fill=\"none\" stroke=\"#000000\" d=\"M836,-86.9735C836,-75.1918 836,-59.5607 836,-46.1581\"/>\n",
       "<polygon fill=\"#000000\" stroke=\"#000000\" points=\"839.5001,-46.0033 836,-36.0034 832.5001,-46.0034 839.5001,-46.0033\"/>\n",
       "<text text-anchor=\"middle\" x=\"840\" y=\"-57.8\" font-family=\"Times,serif\" font-size=\"14.00\" fill=\"#000000\">g</text>\n",
       "</g>\n",
       "<!-- A5662 -->\n",
       "<g id=\"node24\" class=\"node\">\n",
       "<title>A5662</title>\n",
       "<polygon fill=\"none\" stroke=\"#000000\" points=\"935,-36 881,-36 881,0 935,0 935,-36\"/>\n",
       "<text text-anchor=\"middle\" x=\"908\" y=\"-14.3\" font-family=\"Times,serif\" font-size=\"14.00\" fill=\"#000000\">1</text>\n",
       "</g>\n",
       "<!-- A566&#45;&gt;A5662 -->\n",
       "<g id=\"edge20\" class=\"edge\">\n",
       "<title>A566&#45;&gt;A5662</title>\n",
       "<path fill=\"none\" stroke=\"#000000\" d=\"M850.5703,-87.3943C860.8751,-74.9425 874.8632,-58.0403 886.4542,-44.0346\"/>\n",
       "<polygon fill=\"#000000\" stroke=\"#000000\" points=\"889.2764,-46.1139 892.9558,-36.1785 883.8837,-41.6509 889.2764,-46.1139\"/>\n",
       "<text text-anchor=\"middle\" x=\"879\" y=\"-57.8\" font-family=\"Times,serif\" font-size=\"14.00\" fill=\"#000000\">s</text>\n",
       "</g>\n",
       "</g>\n",
       "</svg>\n"
      ],
      "text/plain": [
       "<graphviz.dot.Digraph at 0x7f5916f779b0>"
      ]
     },
     "execution_count": 309,
     "metadata": {
      "tags": []
     },
     "output_type": "execute_result"
    }
   ],
   "source": [
    "# construction de l'arbre de décision à partir du dataset Elections:\n",
    "arbre_mushrooms_1 = ClassifierArbreDecision(len(mushrooms_noms), 0.0, mushrooms_noms)\n",
    "\n",
    "#################################\n",
    "arbre_mushrooms_1.train(mushrooms_1_desc, mushrooms_1_label)\n",
    "gr_arbre_mushrooms_1 = gv.Digraph(format='png')\n",
    "arbre_mushrooms_1.affiche(gr_arbre_mushrooms_1)\n",
    "\n",
    "#################################\n",
    "\n",
    "\n",
    "# Affichage du graphe obtenu:\n",
    "gr_arbre_mushrooms_1"
   ]
  },
  {
   "cell_type": "markdown",
   "metadata": {
    "colab_type": "text",
    "id": "Ybup1UxpwfX6"
   },
   "source": [
    "### Classification avec l'arbre de décision obtenu"
   ]
  },
  {
   "cell_type": "markdown",
   "metadata": {
    "colab_type": "text",
    "id": "djvS2esAwfX6"
   },
   "source": [
    "Exemple de classification d'un exemple:"
   ]
  },
  {
   "cell_type": "code",
   "execution_count": 310,
   "metadata": {
    "colab": {
     "base_uri": "https://localhost:8080/",
     "height": 35
    },
    "colab_type": "code",
    "id": "aSAN-U6AwfX7",
    "outputId": "e96edb30-e169-4bd5-bb35-a528a9ed96fb"
   },
   "outputs": [
    {
     "data": {
      "text/plain": [
       "-1"
      ]
     },
     "execution_count": 310,
     "metadata": {
      "tags": []
     },
     "output_type": "execute_result"
    }
   ],
   "source": [
    "arbre_mushrooms_1.predict(mushrooms_1_desc[0,:])"
   ]
  },
  {
   "cell_type": "markdown",
   "metadata": {
    "colab_type": "text",
    "id": "n1jXgvvZwfYA"
   },
   "source": [
    "Calcul de l'accuracy sur le dataset d'apprentissage :"
   ]
  },
  {
   "cell_type": "code",
   "execution_count": 311,
   "metadata": {
    "colab": {
     "base_uri": "https://localhost:8080/",
     "height": 35
    },
    "colab_type": "code",
    "id": "DSzUUvLqwfYA",
    "outputId": "486854b2-7a3c-4c44-a9c8-8b7fe8c15434"
   },
   "outputs": [
    {
     "data": {
      "text/plain": [
       "100.0"
      ]
     },
     "execution_count": 311,
     "metadata": {
      "tags": []
     },
     "output_type": "execute_result"
    }
   ],
   "source": [
    "arbre_mushrooms_1.accuracy(mushrooms_1_desc,mushrooms_1_label)"
   ]
  },
  {
   "cell_type": "markdown",
   "metadata": {
    "colab_type": "text",
    "id": "W95IL1PQwfYH"
   },
   "source": [
    "<font color=\"RED\" size=\"+1\">**[Q]**</font> Toujours avec le dataset `mushrooms_1` précédent, construire un nouvel arbre de décision en utilisant comme valeur d'epsilon : $0.25$.\n",
    "\n",
    "Que constatez-vous ? "
   ]
  },
  {
   "cell_type": "code",
   "execution_count": 312,
   "metadata": {
    "colab": {
     "base_uri": "https://localhost:8080/",
     "height": 215
    },
    "colab_type": "code",
    "id": "-v-053zAwfYH",
    "outputId": "6476d512-a600-48d9-a8de-3bd563869362"
   },
   "outputs": [
    {
     "data": {
      "image/svg+xml": [
       "<?xml version=\"1.0\" encoding=\"UTF-8\" standalone=\"no\"?>\n",
       "<!DOCTYPE svg PUBLIC \"-//W3C//DTD SVG 1.1//EN\"\n",
       " \"http://www.w3.org/Graphics/SVG/1.1/DTD/svg11.dtd\">\n",
       "<!-- Generated by graphviz version 2.40.1 (20161225.0304)\n",
       " -->\n",
       "<!-- Title: %3 Pages: 1 -->\n",
       "<svg width=\"638pt\" height=\"131pt\"\n",
       " viewBox=\"0.00 0.00 638.00 131.00\" xmlns=\"http://www.w3.org/2000/svg\" xmlns:xlink=\"http://www.w3.org/1999/xlink\">\n",
       "<g id=\"graph0\" class=\"graph\" transform=\"scale(1 1) rotate(0) translate(4 127)\">\n",
       "<title>%3</title>\n",
       "<polygon fill=\"#ffffff\" stroke=\"transparent\" points=\"-4,4 -4,-127 634,-127 634,4 -4,4\"/>\n",
       "<!-- A -->\n",
       "<g id=\"node1\" class=\"node\">\n",
       "<title>A</title>\n",
       "<ellipse fill=\"none\" stroke=\"#000000\" cx=\"315\" cy=\"-105\" rx=\"28.6953\" ry=\"18\"/>\n",
       "<text text-anchor=\"middle\" x=\"315\" y=\"-101.3\" font-family=\"Times,serif\" font-size=\"14.00\" fill=\"#000000\">odor</text>\n",
       "</g>\n",
       "<!-- A0 -->\n",
       "<g id=\"node2\" class=\"node\">\n",
       "<title>A0</title>\n",
       "<polygon fill=\"none\" stroke=\"#000000\" points=\"54,-36 0,-36 0,0 54,0 54,-36\"/>\n",
       "<text text-anchor=\"middle\" x=\"27\" y=\"-14.3\" font-family=\"Times,serif\" font-size=\"14.00\" fill=\"#000000\">1</text>\n",
       "</g>\n",
       "<!-- A&#45;&gt;A0 -->\n",
       "<g id=\"edge1\" class=\"edge\">\n",
       "<title>A&#45;&gt;A0</title>\n",
       "<path fill=\"none\" stroke=\"#000000\" d=\"M287.465,-99.6683C242.0839,-90.4162 148.9073,-69.4568 63.8401,-36.0293\"/>\n",
       "<polygon fill=\"#000000\" stroke=\"#000000\" points=\"64.8951,-32.6817 54.3104,-32.2173 62.2953,-39.181 64.8951,-32.6817\"/>\n",
       "<text text-anchor=\"middle\" x=\"162.5\" y=\"-57.8\" font-family=\"Times,serif\" font-size=\"14.00\" fill=\"#000000\">a</text>\n",
       "</g>\n",
       "<!-- A1 -->\n",
       "<g id=\"node3\" class=\"node\">\n",
       "<title>A1</title>\n",
       "<polygon fill=\"none\" stroke=\"#000000\" points=\"126,-36 72,-36 72,0 126,0 126,-36\"/>\n",
       "<text text-anchor=\"middle\" x=\"99\" y=\"-14.3\" font-family=\"Times,serif\" font-size=\"14.00\" fill=\"#000000\">&#45;1</text>\n",
       "</g>\n",
       "<!-- A&#45;&gt;A1 -->\n",
       "<g id=\"edge2\" class=\"edge\">\n",
       "<title>A&#45;&gt;A1</title>\n",
       "<path fill=\"none\" stroke=\"#000000\" d=\"M289.9402,-96.2691C256.588,-84.4616 195.6905,-62.251 135.6259,-36.0963\"/>\n",
       "<polygon fill=\"#000000\" stroke=\"#000000\" points=\"136.9494,-32.8549 126.3861,-32.038 134.1344,-39.264 136.9494,-32.8549\"/>\n",
       "<text text-anchor=\"middle\" x=\"217.5\" y=\"-57.8\" font-family=\"Times,serif\" font-size=\"14.00\" fill=\"#000000\">c</text>\n",
       "</g>\n",
       "<!-- A2 -->\n",
       "<g id=\"node4\" class=\"node\">\n",
       "<title>A2</title>\n",
       "<polygon fill=\"none\" stroke=\"#000000\" points=\"198,-36 144,-36 144,0 198,0 198,-36\"/>\n",
       "<text text-anchor=\"middle\" x=\"171\" y=\"-14.3\" font-family=\"Times,serif\" font-size=\"14.00\" fill=\"#000000\">&#45;1</text>\n",
       "</g>\n",
       "<!-- A&#45;&gt;A2 -->\n",
       "<g id=\"edge3\" class=\"edge\">\n",
       "<title>A&#45;&gt;A2</title>\n",
       "<path fill=\"none\" stroke=\"#000000\" d=\"M294.3683,-92.535C271.5619,-78.7561 234.4076,-56.3088 206.8239,-39.6436\"/>\n",
       "<polygon fill=\"#000000\" stroke=\"#000000\" points=\"208.6038,-36.6298 198.2347,-34.4543 204.984,-42.6212 208.6038,-36.6298\"/>\n",
       "<text text-anchor=\"middle\" x=\"254.5\" y=\"-57.8\" font-family=\"Times,serif\" font-size=\"14.00\" fill=\"#000000\">f</text>\n",
       "</g>\n",
       "<!-- A3 -->\n",
       "<g id=\"node5\" class=\"node\">\n",
       "<title>A3</title>\n",
       "<polygon fill=\"none\" stroke=\"#000000\" points=\"270,-36 216,-36 216,0 270,0 270,-36\"/>\n",
       "<text text-anchor=\"middle\" x=\"243\" y=\"-14.3\" font-family=\"Times,serif\" font-size=\"14.00\" fill=\"#000000\">1</text>\n",
       "</g>\n",
       "<!-- A&#45;&gt;A3 -->\n",
       "<g id=\"edge4\" class=\"edge\">\n",
       "<title>A&#45;&gt;A3</title>\n",
       "<path fill=\"none\" stroke=\"#000000\" d=\"M301.4574,-88.636C291.1054,-76.1274 276.6285,-58.6345 264.6717,-44.1866\"/>\n",
       "<polygon fill=\"#000000\" stroke=\"#000000\" points=\"267.0452,-41.565 257.9731,-36.0925 261.6524,-46.028 267.0452,-41.565\"/>\n",
       "<text text-anchor=\"middle\" x=\"286\" y=\"-57.8\" font-family=\"Times,serif\" font-size=\"14.00\" fill=\"#000000\">l</text>\n",
       "</g>\n",
       "<!-- A4 -->\n",
       "<g id=\"node6\" class=\"node\">\n",
       "<title>A4</title>\n",
       "<polygon fill=\"none\" stroke=\"#000000\" points=\"342,-36 288,-36 288,0 342,0 342,-36\"/>\n",
       "<text text-anchor=\"middle\" x=\"315\" y=\"-14.3\" font-family=\"Times,serif\" font-size=\"14.00\" fill=\"#000000\">&#45;1</text>\n",
       "</g>\n",
       "<!-- A&#45;&gt;A4 -->\n",
       "<g id=\"edge5\" class=\"edge\">\n",
       "<title>A&#45;&gt;A4</title>\n",
       "<path fill=\"none\" stroke=\"#000000\" d=\"M315,-86.9735C315,-75.1918 315,-59.5607 315,-46.1581\"/>\n",
       "<polygon fill=\"#000000\" stroke=\"#000000\" points=\"318.5001,-46.0033 315,-36.0034 311.5001,-46.0034 318.5001,-46.0033\"/>\n",
       "<text text-anchor=\"middle\" x=\"321\" y=\"-57.8\" font-family=\"Times,serif\" font-size=\"14.00\" fill=\"#000000\">m</text>\n",
       "</g>\n",
       "<!-- A5 -->\n",
       "<g id=\"node7\" class=\"node\">\n",
       "<title>A5</title>\n",
       "<polygon fill=\"none\" stroke=\"#000000\" points=\"414,-36 360,-36 360,0 414,0 414,-36\"/>\n",
       "<text text-anchor=\"middle\" x=\"387\" y=\"-14.3\" font-family=\"Times,serif\" font-size=\"14.00\" fill=\"#000000\">1</text>\n",
       "</g>\n",
       "<!-- A&#45;&gt;A5 -->\n",
       "<g id=\"edge6\" class=\"edge\">\n",
       "<title>A&#45;&gt;A5</title>\n",
       "<path fill=\"none\" stroke=\"#000000\" d=\"M328.5426,-88.636C338.8946,-76.1274 353.3715,-58.6345 365.3283,-44.1866\"/>\n",
       "<polygon fill=\"#000000\" stroke=\"#000000\" points=\"368.3476,-46.028 372.0269,-36.0925 362.9548,-41.565 368.3476,-46.028\"/>\n",
       "<text text-anchor=\"middle\" x=\"360\" y=\"-57.8\" font-family=\"Times,serif\" font-size=\"14.00\" fill=\"#000000\">n</text>\n",
       "</g>\n",
       "<!-- A6 -->\n",
       "<g id=\"node8\" class=\"node\">\n",
       "<title>A6</title>\n",
       "<polygon fill=\"none\" stroke=\"#000000\" points=\"486,-36 432,-36 432,0 486,0 486,-36\"/>\n",
       "<text text-anchor=\"middle\" x=\"459\" y=\"-14.3\" font-family=\"Times,serif\" font-size=\"14.00\" fill=\"#000000\">&#45;1</text>\n",
       "</g>\n",
       "<!-- A&#45;&gt;A6 -->\n",
       "<g id=\"edge7\" class=\"edge\">\n",
       "<title>A&#45;&gt;A6</title>\n",
       "<path fill=\"none\" stroke=\"#000000\" d=\"M335.6317,-92.535C358.4381,-78.7561 395.5924,-56.3088 423.1761,-39.6436\"/>\n",
       "<polygon fill=\"#000000\" stroke=\"#000000\" points=\"425.016,-42.6212 431.7653,-34.4543 421.3962,-36.6298 425.016,-42.6212\"/>\n",
       "<text text-anchor=\"middle\" x=\"399\" y=\"-57.8\" font-family=\"Times,serif\" font-size=\"14.00\" fill=\"#000000\">p</text>\n",
       "</g>\n",
       "<!-- A7 -->\n",
       "<g id=\"node9\" class=\"node\">\n",
       "<title>A7</title>\n",
       "<polygon fill=\"none\" stroke=\"#000000\" points=\"558,-36 504,-36 504,0 558,0 558,-36\"/>\n",
       "<text text-anchor=\"middle\" x=\"531\" y=\"-14.3\" font-family=\"Times,serif\" font-size=\"14.00\" fill=\"#000000\">&#45;1</text>\n",
       "</g>\n",
       "<!-- A&#45;&gt;A7 -->\n",
       "<g id=\"edge8\" class=\"edge\">\n",
       "<title>A&#45;&gt;A7</title>\n",
       "<path fill=\"none\" stroke=\"#000000\" d=\"M340.0598,-96.2691C373.412,-84.4616 434.3095,-62.251 494.3741,-36.0963\"/>\n",
       "<polygon fill=\"#000000\" stroke=\"#000000\" points=\"495.8656,-39.264 503.6139,-32.038 493.0506,-32.8549 495.8656,-39.264\"/>\n",
       "<text text-anchor=\"middle\" x=\"454\" y=\"-57.8\" font-family=\"Times,serif\" font-size=\"14.00\" fill=\"#000000\">s</text>\n",
       "</g>\n",
       "<!-- A8 -->\n",
       "<g id=\"node10\" class=\"node\">\n",
       "<title>A8</title>\n",
       "<polygon fill=\"none\" stroke=\"#000000\" points=\"630,-36 576,-36 576,0 630,0 630,-36\"/>\n",
       "<text text-anchor=\"middle\" x=\"603\" y=\"-14.3\" font-family=\"Times,serif\" font-size=\"14.00\" fill=\"#000000\">&#45;1</text>\n",
       "</g>\n",
       "<!-- A&#45;&gt;A8 -->\n",
       "<g id=\"edge9\" class=\"edge\">\n",
       "<title>A&#45;&gt;A8</title>\n",
       "<path fill=\"none\" stroke=\"#000000\" d=\"M342.5258,-99.6454C387.8936,-90.3604 481.0512,-69.3539 566.1583,-36.0254\"/>\n",
       "<polygon fill=\"#000000\" stroke=\"#000000\" points=\"567.6993,-39.1791 575.6928,-32.2253 565.1076,-32.6765 567.6993,-39.1791\"/>\n",
       "<text text-anchor=\"middle\" x=\"517\" y=\"-57.8\" font-family=\"Times,serif\" font-size=\"14.00\" fill=\"#000000\">y</text>\n",
       "</g>\n",
       "</g>\n",
       "</svg>\n"
      ],
      "text/plain": [
       "<graphviz.dot.Digraph at 0x7f591973db00>"
      ]
     },
     "execution_count": 312,
     "metadata": {
      "tags": []
     },
     "output_type": "execute_result"
    }
   ],
   "source": [
    "#################################\n",
    "\n",
    "tree = ClassifierArbreDecision(len(mushrooms_noms), 0.25, mushrooms_noms)\n",
    "tree.train(mushrooms_1_desc, mushrooms_1_label)\n",
    "#################################\n",
    "gr_arbre_mushrooms_1_bis = gv.Digraph(format='png')\n",
    "tree.affiche(gr_arbre_mushrooms_1_bis)\n",
    "\n",
    "# Affichage du graphe obtenu:\n",
    "gr_arbre_mushrooms_1_bis"
   ]
  },
  {
   "cell_type": "markdown",
   "metadata": {
    "colab_type": "text",
    "id": "LwqslBwSwfYK"
   },
   "source": [
    "<font color=\"RED\" size=\"+1\">**[Q]**</font> Déterminer l'accuracy de ce nouvel arbre."
   ]
  },
  {
   "cell_type": "code",
   "execution_count": 313,
   "metadata": {
    "colab": {
     "base_uri": "https://localhost:8080/",
     "height": 35
    },
    "colab_type": "code",
    "id": "jAqMTSsKwfYL",
    "outputId": "9ce0046a-6cb1-4d55-e372-5603d9907ad3"
   },
   "outputs": [
    {
     "data": {
      "text/plain": [
       "98.92857142857143"
      ]
     },
     "execution_count": 313,
     "metadata": {
      "tags": []
     },
     "output_type": "execute_result"
    }
   ],
   "source": [
    "tree.accuracy(mushrooms_1_desc,mushrooms_1_label)"
   ]
  },
  {
   "cell_type": "markdown",
   "metadata": {
    "colab_type": "text",
    "id": "vEFrm9B0wfYP"
   },
   "source": [
    "<font color=\"RED\" size=\"+1\">**[Q]**</font> D'après ces résultats, de ces 2 arbres, quel est celui qui a sur-appris ? "
   ]
  },
  {
   "cell_type": "markdown",
   "metadata": {
    "colab_type": "text",
    "id": "q0YRnQcAwfYQ"
   },
   "source": [
    "En se basant uniquement sur l'accuracy et la taille des arbres, alors on remarque bien que le 1er modèle est en sur-appritissage.\n",
    "Mais cela n'est la  bonne méthode pour affirmer qu'un modèle est en sur-apprentissage, il faudrait utiliser la cross validation."
   ]
  },
  {
   "cell_type": "markdown",
   "metadata": {
    "colab_type": "text",
    "id": "_eDsj8qhwfYR"
   },
   "source": [
    "## Plus d'expérimentations avec la base Mushrooms\n",
    "\n",
    "On décide maintenant d'évaluer plus en détail ce nouvel algorithme. On souhaite:\n",
    "1. construire un arbre avec chaque fichier `mushrooms-1400-*.csv` \n",
    "2. pour chaque arbre construit, évaluer son accuracy:\n",
    "    - sur le dataset d'apprentissage\n",
    "    - sur les 4 autres fichiers `mushrooms-1400-*.csv`\n",
    "    - sur le fichier `mushrooms-1124.csv`\n",
    "    \n",
    "    \n",
    "**Remarque :** normalement, tous ces tests devraient pouvoir se faire dans un temps raisonnable, dans le cas contraire, faites les un par un."
   ]
  },
  {
   "cell_type": "code",
   "execution_count": null,
   "metadata": {
    "colab": {},
    "colab_type": "code",
    "id": "v-26NRN4wfYT"
   },
   "outputs": [],
   "source": [
    "# noms des colonnes (on peut les récupérer directement):\n",
    "mushrooms_noms = ['cap-shape','cap-surface','cap-color','bruises','odor','gill-attachment',\n",
    "                  'gill-spacing','gill-size','gill-color','stalk-shape','stalk-root',\n",
    "                  'stalk-surface-above-ring','stalk-surface-below-ring','stalk-color-above-ring',\n",
    "                  'stalk-color-below-ring','veil-type','veil-color','ring-number','ring-type',\n",
    "                  'spore-print-color','population','habitat']\n",
    "\n",
    "# Chargement des fichiers mushrooms et apprentissage\n",
    "mushrooms_desc = []\n",
    "mushrooms_label = []\n",
    "arbres_mushrooms = []\n",
    "for j in range(0,5):\n",
    "    mushrooms_df = pd.read_csv(\"mushrooms-1400-\"+str(j+1)+\".csv\")\n",
    "    # Conversion des labels\n",
    "    mushrooms_df['Label'] = 0\n",
    "    for i in mushrooms_df.index:\n",
    "        if mushrooms_df.loc[i,'class'] == 'e':\n",
    "            mushrooms_df.loc[i,'Label'] = 1\n",
    "        else:\n",
    "            mushrooms_df.loc[i,'Label'] = -1\n",
    "    del mushrooms_df['class']   \n",
    "    # Passer du dataframe à un dataset (2 arrays):\n",
    "    mushrooms_desc.append(np.array(mushrooms_df[mushrooms_noms]))\n",
    "    mushrooms_label.append(np.array(mushrooms_df['Label']))\n",
    "    \n",
    "    # Apprentissage\n",
    "    arbres_mushrooms.append(ClassifierArbreDecision(len(mushrooms_noms), 0.0, mushrooms_noms))\n",
    "    arbres_mushrooms[j].train(mushrooms_desc[j],mushrooms_label[j])"
   ]
  },
  {
   "cell_type": "code",
   "execution_count": 315,
   "metadata": {
    "colab": {
     "base_uri": "https://localhost:8080/",
     "height": 564
    },
    "colab_type": "code",
    "id": "K87PIRN-baaS",
    "outputId": "a2b43ab8-7e44-40d2-d1b6-a0ded4a61446"
   },
   "outputs": [
    {
     "data": {
      "image/svg+xml": [
       "<?xml version=\"1.0\" encoding=\"UTF-8\" standalone=\"no\"?>\n",
       "<!DOCTYPE svg PUBLIC \"-//W3C//DTD SVG 1.1//EN\"\n",
       " \"http://www.w3.org/Graphics/SVG/1.1/DTD/svg11.dtd\">\n",
       "<!-- Generated by graphviz version 2.40.1 (20161225.0304)\n",
       " -->\n",
       "<!-- Title: %3 Pages: 1 -->\n",
       "<svg width=\"968pt\" height=\"392pt\"\n",
       " viewBox=\"0.00 0.00 968.00 392.00\" xmlns=\"http://www.w3.org/2000/svg\" xmlns:xlink=\"http://www.w3.org/1999/xlink\">\n",
       "<g id=\"graph0\" class=\"graph\" transform=\"scale(1 1) rotate(0) translate(4 388)\">\n",
       "<title>%3</title>\n",
       "<polygon fill=\"#ffffff\" stroke=\"transparent\" points=\"-4,4 -4,-388 964,-388 964,4 -4,4\"/>\n",
       "<!-- A -->\n",
       "<g id=\"node1\" class=\"node\">\n",
       "<title>A</title>\n",
       "<ellipse fill=\"none\" stroke=\"#000000\" cx=\"315\" cy=\"-366\" rx=\"28.6953\" ry=\"18\"/>\n",
       "<text text-anchor=\"middle\" x=\"315\" y=\"-362.3\" font-family=\"Times,serif\" font-size=\"14.00\" fill=\"#000000\">odor</text>\n",
       "</g>\n",
       "<!-- A0 -->\n",
       "<g id=\"node2\" class=\"node\">\n",
       "<title>A0</title>\n",
       "<polygon fill=\"none\" stroke=\"#000000\" points=\"54,-297 0,-297 0,-261 54,-261 54,-297\"/>\n",
       "<text text-anchor=\"middle\" x=\"27\" y=\"-275.3\" font-family=\"Times,serif\" font-size=\"14.00\" fill=\"#000000\">1</text>\n",
       "</g>\n",
       "<!-- A&#45;&gt;A0 -->\n",
       "<g id=\"edge1\" class=\"edge\">\n",
       "<title>A&#45;&gt;A0</title>\n",
       "<path fill=\"none\" stroke=\"#000000\" d=\"M287.465,-360.6683C242.0839,-351.4162 148.9073,-330.4568 63.8401,-297.0293\"/>\n",
       "<polygon fill=\"#000000\" stroke=\"#000000\" points=\"64.8951,-293.6817 54.3104,-293.2173 62.2953,-300.181 64.8951,-293.6817\"/>\n",
       "<text text-anchor=\"middle\" x=\"162.5\" y=\"-318.8\" font-family=\"Times,serif\" font-size=\"14.00\" fill=\"#000000\">a</text>\n",
       "</g>\n",
       "<!-- A1 -->\n",
       "<g id=\"node3\" class=\"node\">\n",
       "<title>A1</title>\n",
       "<polygon fill=\"none\" stroke=\"#000000\" points=\"126,-297 72,-297 72,-261 126,-261 126,-297\"/>\n",
       "<text text-anchor=\"middle\" x=\"99\" y=\"-275.3\" font-family=\"Times,serif\" font-size=\"14.00\" fill=\"#000000\">&#45;1</text>\n",
       "</g>\n",
       "<!-- A&#45;&gt;A1 -->\n",
       "<g id=\"edge2\" class=\"edge\">\n",
       "<title>A&#45;&gt;A1</title>\n",
       "<path fill=\"none\" stroke=\"#000000\" d=\"M289.9402,-357.2691C256.588,-345.4616 195.6905,-323.251 135.6259,-297.0963\"/>\n",
       "<polygon fill=\"#000000\" stroke=\"#000000\" points=\"136.9494,-293.8549 126.3861,-293.038 134.1344,-300.264 136.9494,-293.8549\"/>\n",
       "<text text-anchor=\"middle\" x=\"217.5\" y=\"-318.8\" font-family=\"Times,serif\" font-size=\"14.00\" fill=\"#000000\">c</text>\n",
       "</g>\n",
       "<!-- A2 -->\n",
       "<g id=\"node4\" class=\"node\">\n",
       "<title>A2</title>\n",
       "<polygon fill=\"none\" stroke=\"#000000\" points=\"198,-297 144,-297 144,-261 198,-261 198,-297\"/>\n",
       "<text text-anchor=\"middle\" x=\"171\" y=\"-275.3\" font-family=\"Times,serif\" font-size=\"14.00\" fill=\"#000000\">&#45;1</text>\n",
       "</g>\n",
       "<!-- A&#45;&gt;A2 -->\n",
       "<g id=\"edge3\" class=\"edge\">\n",
       "<title>A&#45;&gt;A2</title>\n",
       "<path fill=\"none\" stroke=\"#000000\" d=\"M294.3683,-353.535C271.5619,-339.7561 234.4076,-317.3088 206.8239,-300.6436\"/>\n",
       "<polygon fill=\"#000000\" stroke=\"#000000\" points=\"208.6038,-297.6298 198.2347,-295.4543 204.984,-303.6212 208.6038,-297.6298\"/>\n",
       "<text text-anchor=\"middle\" x=\"254.5\" y=\"-318.8\" font-family=\"Times,serif\" font-size=\"14.00\" fill=\"#000000\">f</text>\n",
       "</g>\n",
       "<!-- A3 -->\n",
       "<g id=\"node5\" class=\"node\">\n",
       "<title>A3</title>\n",
       "<polygon fill=\"none\" stroke=\"#000000\" points=\"270,-297 216,-297 216,-261 270,-261 270,-297\"/>\n",
       "<text text-anchor=\"middle\" x=\"243\" y=\"-275.3\" font-family=\"Times,serif\" font-size=\"14.00\" fill=\"#000000\">1</text>\n",
       "</g>\n",
       "<!-- A&#45;&gt;A3 -->\n",
       "<g id=\"edge4\" class=\"edge\">\n",
       "<title>A&#45;&gt;A3</title>\n",
       "<path fill=\"none\" stroke=\"#000000\" d=\"M301.4574,-349.636C291.1054,-337.1274 276.6285,-319.6345 264.6717,-305.1866\"/>\n",
       "<polygon fill=\"#000000\" stroke=\"#000000\" points=\"267.0452,-302.565 257.9731,-297.0925 261.6524,-307.028 267.0452,-302.565\"/>\n",
       "<text text-anchor=\"middle\" x=\"286\" y=\"-318.8\" font-family=\"Times,serif\" font-size=\"14.00\" fill=\"#000000\">l</text>\n",
       "</g>\n",
       "<!-- A4 -->\n",
       "<g id=\"node6\" class=\"node\">\n",
       "<title>A4</title>\n",
       "<polygon fill=\"none\" stroke=\"#000000\" points=\"342,-297 288,-297 288,-261 342,-261 342,-297\"/>\n",
       "<text text-anchor=\"middle\" x=\"315\" y=\"-275.3\" font-family=\"Times,serif\" font-size=\"14.00\" fill=\"#000000\">&#45;1</text>\n",
       "</g>\n",
       "<!-- A&#45;&gt;A4 -->\n",
       "<g id=\"edge5\" class=\"edge\">\n",
       "<title>A&#45;&gt;A4</title>\n",
       "<path fill=\"none\" stroke=\"#000000\" d=\"M315,-347.9735C315,-336.1918 315,-320.5607 315,-307.1581\"/>\n",
       "<polygon fill=\"#000000\" stroke=\"#000000\" points=\"318.5001,-307.0033 315,-297.0034 311.5001,-307.0034 318.5001,-307.0033\"/>\n",
       "<text text-anchor=\"middle\" x=\"321\" y=\"-318.8\" font-family=\"Times,serif\" font-size=\"14.00\" fill=\"#000000\">m</text>\n",
       "</g>\n",
       "<!-- A5 -->\n",
       "<g id=\"node7\" class=\"node\">\n",
       "<title>A5</title>\n",
       "<ellipse fill=\"none\" stroke=\"#000000\" cx=\"433\" cy=\"-279\" rx=\"73.387\" ry=\"18\"/>\n",
       "<text text-anchor=\"middle\" x=\"433\" y=\"-275.3\" font-family=\"Times,serif\" font-size=\"14.00\" fill=\"#000000\">spore&#45;print&#45;color</text>\n",
       "</g>\n",
       "<!-- A&#45;&gt;A5 -->\n",
       "<g id=\"edge25\" class=\"edge\">\n",
       "<title>A&#45;&gt;A5</title>\n",
       "<path fill=\"none\" stroke=\"#000000\" d=\"M333.6975,-352.2146C351.8265,-338.8483 379.6802,-318.312 401.2794,-302.3872\"/>\n",
       "<polygon fill=\"#000000\" stroke=\"#000000\" points=\"403.541,-305.0683 409.5128,-296.3168 399.3869,-299.4341 403.541,-305.0683\"/>\n",
       "<text text-anchor=\"middle\" x=\"386\" y=\"-318.8\" font-family=\"Times,serif\" font-size=\"14.00\" fill=\"#000000\">n</text>\n",
       "</g>\n",
       "<!-- A6 -->\n",
       "<g id=\"node27\" class=\"node\">\n",
       "<title>A6</title>\n",
       "<polygon fill=\"none\" stroke=\"#000000\" points=\"578,-297 524,-297 524,-261 578,-261 578,-297\"/>\n",
       "<text text-anchor=\"middle\" x=\"551\" y=\"-275.3\" font-family=\"Times,serif\" font-size=\"14.00\" fill=\"#000000\">&#45;1</text>\n",
       "</g>\n",
       "<!-- A&#45;&gt;A6 -->\n",
       "<g id=\"edge26\" class=\"edge\">\n",
       "<title>A&#45;&gt;A6</title>\n",
       "<path fill=\"none\" stroke=\"#000000\" d=\"M340.9785,-358.2392C377.7912,-346.9856 447.2732,-324.8024 514.2289,-297.0837\"/>\n",
       "<polygon fill=\"#000000\" stroke=\"#000000\" points=\"515.784,-300.2271 523.6562,-293.1363 513.0803,-293.7703 515.784,-300.2271\"/>\n",
       "<text text-anchor=\"middle\" x=\"471\" y=\"-318.8\" font-family=\"Times,serif\" font-size=\"14.00\" fill=\"#000000\">p</text>\n",
       "</g>\n",
       "<!-- A7 -->\n",
       "<g id=\"node28\" class=\"node\">\n",
       "<title>A7</title>\n",
       "<polygon fill=\"none\" stroke=\"#000000\" points=\"650,-297 596,-297 596,-261 650,-261 650,-297\"/>\n",
       "<text text-anchor=\"middle\" x=\"623\" y=\"-275.3\" font-family=\"Times,serif\" font-size=\"14.00\" fill=\"#000000\">&#45;1</text>\n",
       "</g>\n",
       "<!-- A&#45;&gt;A7 -->\n",
       "<g id=\"edge27\" class=\"edge\">\n",
       "<title>A&#45;&gt;A7</title>\n",
       "<path fill=\"none\" stroke=\"#000000\" d=\"M342.7751,-361.454C391.1864,-353.006 493.9217,-332.7476 586.2281,-296.9808\"/>\n",
       "<polygon fill=\"#000000\" stroke=\"#000000\" points=\"587.6835,-300.1692 595.699,-293.2407 585.1124,-293.6584 587.6835,-300.1692\"/>\n",
       "<text text-anchor=\"middle\" x=\"540\" y=\"-318.8\" font-family=\"Times,serif\" font-size=\"14.00\" fill=\"#000000\">s</text>\n",
       "</g>\n",
       "<!-- A8 -->\n",
       "<g id=\"node29\" class=\"node\">\n",
       "<title>A8</title>\n",
       "<polygon fill=\"none\" stroke=\"#000000\" points=\"722,-297 668,-297 668,-261 722,-261 722,-297\"/>\n",
       "<text text-anchor=\"middle\" x=\"695\" y=\"-275.3\" font-family=\"Times,serif\" font-size=\"14.00\" fill=\"#000000\">&#45;1</text>\n",
       "</g>\n",
       "<!-- A&#45;&gt;A8 -->\n",
       "<g id=\"edge28\" class=\"edge\">\n",
       "<title>A&#45;&gt;A8</title>\n",
       "<path fill=\"none\" stroke=\"#000000\" d=\"M343.6017,-363.6995C402.2375,-358.2708 539.836,-341.8585 658.1433,-296.9793\"/>\n",
       "<polygon fill=\"#000000\" stroke=\"#000000\" points=\"659.652,-300.1483 667.7107,-293.2701 657.1216,-293.6216 659.652,-300.1483\"/>\n",
       "<text text-anchor=\"middle\" x=\"609\" y=\"-318.8\" font-family=\"Times,serif\" font-size=\"14.00\" fill=\"#000000\">y</text>\n",
       "</g>\n",
       "<!-- A50 -->\n",
       "<g id=\"node8\" class=\"node\">\n",
       "<title>A50</title>\n",
       "<polygon fill=\"none\" stroke=\"#000000\" points=\"208,-210 154,-210 154,-174 208,-174 208,-210\"/>\n",
       "<text text-anchor=\"middle\" x=\"181\" y=\"-188.3\" font-family=\"Times,serif\" font-size=\"14.00\" fill=\"#000000\">1</text>\n",
       "</g>\n",
       "<!-- A5&#45;&gt;A50 -->\n",
       "<g id=\"edge6\" class=\"edge\">\n",
       "<title>A5&#45;&gt;A50</title>\n",
       "<path fill=\"none\" stroke=\"#000000\" d=\"M383.2793,-265.6321C341.1236,-253.7373 279.1012,-234.9165 217.7652,-210.0525\"/>\n",
       "<polygon fill=\"#000000\" stroke=\"#000000\" points=\"218.9073,-206.7379 208.3274,-206.1757 216.2475,-213.2129 218.9073,-206.7379\"/>\n",
       "<text text-anchor=\"middle\" x=\"309\" y=\"-231.8\" font-family=\"Times,serif\" font-size=\"14.00\" fill=\"#000000\">b</text>\n",
       "</g>\n",
       "<!-- A51 -->\n",
       "<g id=\"node9\" class=\"node\">\n",
       "<title>A51</title>\n",
       "<polygon fill=\"none\" stroke=\"#000000\" points=\"280,-210 226,-210 226,-174 280,-174 280,-210\"/>\n",
       "<text text-anchor=\"middle\" x=\"253\" y=\"-188.3\" font-family=\"Times,serif\" font-size=\"14.00\" fill=\"#000000\">1</text>\n",
       "</g>\n",
       "<!-- A5&#45;&gt;A51 -->\n",
       "<g id=\"edge7\" class=\"edge\">\n",
       "<title>A5&#45;&gt;A51</title>\n",
       "<path fill=\"none\" stroke=\"#000000\" d=\"M399.1718,-262.9875C371.882,-250.0261 332.2911,-231.1241 289.3202,-210.1239\"/>\n",
       "<polygon fill=\"#000000\" stroke=\"#000000\" points=\"290.6231,-206.8649 280.1026,-205.6123 287.5457,-213.1522 290.6231,-206.8649\"/>\n",
       "<text text-anchor=\"middle\" x=\"360\" y=\"-231.8\" font-family=\"Times,serif\" font-size=\"14.00\" fill=\"#000000\">h</text>\n",
       "</g>\n",
       "<!-- A52 -->\n",
       "<g id=\"node10\" class=\"node\">\n",
       "<title>A52</title>\n",
       "<polygon fill=\"none\" stroke=\"#000000\" points=\"352,-210 298,-210 298,-174 352,-174 352,-210\"/>\n",
       "<text text-anchor=\"middle\" x=\"325\" y=\"-188.3\" font-family=\"Times,serif\" font-size=\"14.00\" fill=\"#000000\">1</text>\n",
       "</g>\n",
       "<!-- A5&#45;&gt;A52 -->\n",
       "<g id=\"edge8\" class=\"edge\">\n",
       "<title>A5&#45;&gt;A52</title>\n",
       "<path fill=\"none\" stroke=\"#000000\" d=\"M411.4042,-261.6033C395.3897,-248.7028 373.3416,-230.9418 355.5261,-216.5905\"/>\n",
       "<polygon fill=\"#000000\" stroke=\"#000000\" points=\"357.6585,-213.8139 347.6753,-210.2662 353.2672,-219.2652 357.6585,-213.8139\"/>\n",
       "<text text-anchor=\"middle\" x=\"390\" y=\"-231.8\" font-family=\"Times,serif\" font-size=\"14.00\" fill=\"#000000\">k</text>\n",
       "</g>\n",
       "<!-- A53 -->\n",
       "<g id=\"node11\" class=\"node\">\n",
       "<title>A53</title>\n",
       "<polygon fill=\"none\" stroke=\"#000000\" points=\"424,-210 370,-210 370,-174 424,-174 424,-210\"/>\n",
       "<text text-anchor=\"middle\" x=\"397\" y=\"-188.3\" font-family=\"Times,serif\" font-size=\"14.00\" fill=\"#000000\">1</text>\n",
       "</g>\n",
       "<!-- A5&#45;&gt;A53 -->\n",
       "<g id=\"edge9\" class=\"edge\">\n",
       "<title>A5&#45;&gt;A53</title>\n",
       "<path fill=\"none\" stroke=\"#000000\" d=\"M425.5408,-260.9735C420.569,-248.9585 413.9407,-232.9401 408.3233,-219.3646\"/>\n",
       "<polygon fill=\"#000000\" stroke=\"#000000\" points=\"411.5073,-217.9053 404.4497,-210.0034 405.0392,-220.5818 411.5073,-217.9053\"/>\n",
       "<text text-anchor=\"middle\" x=\"422\" y=\"-231.8\" font-family=\"Times,serif\" font-size=\"14.00\" fill=\"#000000\">n</text>\n",
       "</g>\n",
       "<!-- A54 -->\n",
       "<g id=\"node12\" class=\"node\">\n",
       "<title>A54</title>\n",
       "<polygon fill=\"none\" stroke=\"#000000\" points=\"496,-210 442,-210 442,-174 496,-174 496,-210\"/>\n",
       "<text text-anchor=\"middle\" x=\"469\" y=\"-188.3\" font-family=\"Times,serif\" font-size=\"14.00\" fill=\"#000000\">1</text>\n",
       "</g>\n",
       "<!-- A5&#45;&gt;A54 -->\n",
       "<g id=\"edge10\" class=\"edge\">\n",
       "<title>A5&#45;&gt;A54</title>\n",
       "<path fill=\"none\" stroke=\"#000000\" d=\"M440.4592,-260.9735C445.431,-248.9585 452.0593,-232.9401 457.6767,-219.3646\"/>\n",
       "<polygon fill=\"#000000\" stroke=\"#000000\" points=\"460.9608,-220.5818 461.5503,-210.0034 454.4927,-217.9053 460.9608,-220.5818\"/>\n",
       "<text text-anchor=\"middle\" x=\"458\" y=\"-231.8\" font-family=\"Times,serif\" font-size=\"14.00\" fill=\"#000000\">o</text>\n",
       "</g>\n",
       "<!-- A55 -->\n",
       "<g id=\"node13\" class=\"node\">\n",
       "<title>A55</title>\n",
       "<polygon fill=\"none\" stroke=\"#000000\" points=\"568,-210 514,-210 514,-174 568,-174 568,-210\"/>\n",
       "<text text-anchor=\"middle\" x=\"541\" y=\"-188.3\" font-family=\"Times,serif\" font-size=\"14.00\" fill=\"#000000\">&#45;1</text>\n",
       "</g>\n",
       "<!-- A5&#45;&gt;A55 -->\n",
       "<g id=\"edge11\" class=\"edge\">\n",
       "<title>A5&#45;&gt;A55</title>\n",
       "<path fill=\"none\" stroke=\"#000000\" d=\"M454.5958,-261.6033C470.6103,-248.7028 492.6584,-230.9418 510.4739,-216.5905\"/>\n",
       "<polygon fill=\"#000000\" stroke=\"#000000\" points=\"512.7328,-219.2652 518.3247,-210.2662 508.3415,-213.8139 512.7328,-219.2652\"/>\n",
       "<text text-anchor=\"middle\" x=\"496.5\" y=\"-231.8\" font-family=\"Times,serif\" font-size=\"14.00\" fill=\"#000000\">r</text>\n",
       "</g>\n",
       "<!-- A56 -->\n",
       "<g id=\"node14\" class=\"node\">\n",
       "<title>A56</title>\n",
       "<ellipse fill=\"none\" stroke=\"#000000\" cx=\"631\" cy=\"-192\" rx=\"45.4919\" ry=\"18\"/>\n",
       "<text text-anchor=\"middle\" x=\"631\" y=\"-188.3\" font-family=\"Times,serif\" font-size=\"14.00\" fill=\"#000000\">cap&#45;color</text>\n",
       "</g>\n",
       "<!-- A5&#45;&gt;A56 -->\n",
       "<g id=\"edge23\" class=\"edge\">\n",
       "<title>A5&#45;&gt;A56</title>\n",
       "<path fill=\"none\" stroke=\"#000000\" d=\"M468.8563,-263.245C503.3314,-248.0968 555.3399,-225.2446 591.1082,-209.5282\"/>\n",
       "<polygon fill=\"#000000\" stroke=\"#000000\" points=\"592.5368,-212.7235 600.284,-205.4964 589.7208,-206.3149 592.5368,-212.7235\"/>\n",
       "<text text-anchor=\"middle\" x=\"549.5\" y=\"-231.8\" font-family=\"Times,serif\" font-size=\"14.00\" fill=\"#000000\">w</text>\n",
       "</g>\n",
       "<!-- A57 -->\n",
       "<g id=\"node26\" class=\"node\">\n",
       "<title>A57</title>\n",
       "<polygon fill=\"none\" stroke=\"#000000\" points=\"748,-210 694,-210 694,-174 748,-174 748,-210\"/>\n",
       "<text text-anchor=\"middle\" x=\"721\" y=\"-188.3\" font-family=\"Times,serif\" font-size=\"14.00\" fill=\"#000000\">1</text>\n",
       "</g>\n",
       "<!-- A5&#45;&gt;A57 -->\n",
       "<g id=\"edge24\" class=\"edge\">\n",
       "<title>A5&#45;&gt;A57</title>\n",
       "<path fill=\"none\" stroke=\"#000000\" d=\"M488.5607,-267.1018C538.0747,-255.7593 612.3987,-236.9147 684.0941,-210.0009\"/>\n",
       "<polygon fill=\"#000000\" stroke=\"#000000\" points=\"685.6352,-213.1593 693.7327,-206.327 683.1419,-206.6183 685.6352,-213.1593\"/>\n",
       "<text text-anchor=\"middle\" x=\"635\" y=\"-231.8\" font-family=\"Times,serif\" font-size=\"14.00\" fill=\"#000000\">y</text>\n",
       "</g>\n",
       "<!-- A560 -->\n",
       "<g id=\"node15\" class=\"node\">\n",
       "<title>A560</title>\n",
       "<polygon fill=\"none\" stroke=\"#000000\" points=\"406,-123 352,-123 352,-87 406,-87 406,-123\"/>\n",
       "<text text-anchor=\"middle\" x=\"379\" y=\"-101.3\" font-family=\"Times,serif\" font-size=\"14.00\" fill=\"#000000\">1</text>\n",
       "</g>\n",
       "<!-- A56&#45;&gt;A560 -->\n",
       "<g id=\"edge12\" class=\"edge\">\n",
       "<title>A56&#45;&gt;A560</title>\n",
       "<path fill=\"none\" stroke=\"#000000\" d=\"M596.2068,-180.1796C589.832,-178.0774 583.2267,-175.9409 577,-174 507.8917,-152.4592 486.5217,-151.7998 415.6943,-123.0258\"/>\n",
       "<polygon fill=\"#000000\" stroke=\"#000000\" points=\"416.9072,-119.7402 406.3274,-119.1757 414.246,-126.2146 416.9072,-119.7402\"/>\n",
       "<text text-anchor=\"middle\" x=\"516\" y=\"-144.8\" font-family=\"Times,serif\" font-size=\"14.00\" fill=\"#000000\">b</text>\n",
       "</g>\n",
       "<!-- A561 -->\n",
       "<g id=\"node16\" class=\"node\">\n",
       "<title>A561</title>\n",
       "<polygon fill=\"none\" stroke=\"#000000\" points=\"478,-123 424,-123 424,-87 478,-87 478,-123\"/>\n",
       "<text text-anchor=\"middle\" x=\"451\" y=\"-101.3\" font-family=\"Times,serif\" font-size=\"14.00\" fill=\"#000000\">1</text>\n",
       "</g>\n",
       "<!-- A56&#45;&gt;A561 -->\n",
       "<g id=\"edge13\" class=\"edge\">\n",
       "<title>A56&#45;&gt;A561</title>\n",
       "<path fill=\"none\" stroke=\"#000000\" d=\"M601.696,-178.1354C574.3714,-165.1683 532.268,-145.089 487.1606,-123.0456\"/>\n",
       "<polygon fill=\"#000000\" stroke=\"#000000\" points=\"488.6232,-119.8647 478.1026,-118.6123 485.5459,-126.1521 488.6232,-119.8647\"/>\n",
       "<text text-anchor=\"middle\" x=\"557.5\" y=\"-144.8\" font-family=\"Times,serif\" font-size=\"14.00\" fill=\"#000000\">c</text>\n",
       "</g>\n",
       "<!-- A562 -->\n",
       "<g id=\"node17\" class=\"node\">\n",
       "<title>A562</title>\n",
       "<polygon fill=\"none\" stroke=\"#000000\" points=\"550,-123 496,-123 496,-87 550,-87 550,-123\"/>\n",
       "<text text-anchor=\"middle\" x=\"523\" y=\"-101.3\" font-family=\"Times,serif\" font-size=\"14.00\" fill=\"#000000\">1</text>\n",
       "</g>\n",
       "<!-- A56&#45;&gt;A562 -->\n",
       "<g id=\"edge14\" class=\"edge\">\n",
       "<title>A56&#45;&gt;A562</title>\n",
       "<path fill=\"none\" stroke=\"#000000\" d=\"M610.9391,-175.8399C594.8576,-162.8853 572.0227,-144.4905 553.6523,-129.6922\"/>\n",
       "<polygon fill=\"#000000\" stroke=\"#000000\" points=\"555.5496,-126.7261 545.5664,-123.1785 551.1583,-132.1774 555.5496,-126.7261\"/>\n",
       "<text text-anchor=\"middle\" x=\"587.5\" y=\"-144.8\" font-family=\"Times,serif\" font-size=\"14.00\" fill=\"#000000\">e</text>\n",
       "</g>\n",
       "<!-- A563 -->\n",
       "<g id=\"node18\" class=\"node\">\n",
       "<title>A563</title>\n",
       "<polygon fill=\"none\" stroke=\"#000000\" points=\"622,-123 568,-123 568,-87 622,-87 622,-123\"/>\n",
       "<text text-anchor=\"middle\" x=\"595\" y=\"-101.3\" font-family=\"Times,serif\" font-size=\"14.00\" fill=\"#000000\">1</text>\n",
       "</g>\n",
       "<!-- A56&#45;&gt;A563 -->\n",
       "<g id=\"edge15\" class=\"edge\">\n",
       "<title>A56&#45;&gt;A563</title>\n",
       "<path fill=\"none\" stroke=\"#000000\" d=\"M623.5408,-173.9735C618.569,-161.9585 611.9407,-145.9401 606.3233,-132.3646\"/>\n",
       "<polygon fill=\"#000000\" stroke=\"#000000\" points=\"609.5073,-130.9053 602.4497,-123.0034 603.0392,-133.5818 609.5073,-130.9053\"/>\n",
       "<text text-anchor=\"middle\" x=\"620\" y=\"-144.8\" font-family=\"Times,serif\" font-size=\"14.00\" fill=\"#000000\">g</text>\n",
       "</g>\n",
       "<!-- A564 -->\n",
       "<g id=\"node19\" class=\"node\">\n",
       "<title>A564</title>\n",
       "<polygon fill=\"none\" stroke=\"#000000\" points=\"694,-123 640,-123 640,-87 694,-87 694,-123\"/>\n",
       "<text text-anchor=\"middle\" x=\"667\" y=\"-101.3\" font-family=\"Times,serif\" font-size=\"14.00\" fill=\"#000000\">1</text>\n",
       "</g>\n",
       "<!-- A56&#45;&gt;A564 -->\n",
       "<g id=\"edge16\" class=\"edge\">\n",
       "<title>A56&#45;&gt;A564</title>\n",
       "<path fill=\"none\" stroke=\"#000000\" d=\"M638.4592,-173.9735C643.431,-161.9585 650.0593,-145.9401 655.6767,-132.3646\"/>\n",
       "<polygon fill=\"#000000\" stroke=\"#000000\" points=\"658.9608,-133.5818 659.5503,-123.0034 652.4927,-130.9053 658.9608,-133.5818\"/>\n",
       "<text text-anchor=\"middle\" x=\"656\" y=\"-144.8\" font-family=\"Times,serif\" font-size=\"14.00\" fill=\"#000000\">n</text>\n",
       "</g>\n",
       "<!-- A565 -->\n",
       "<g id=\"node20\" class=\"node\">\n",
       "<title>A565</title>\n",
       "<polygon fill=\"none\" stroke=\"#000000\" points=\"766,-123 712,-123 712,-87 766,-87 766,-123\"/>\n",
       "<text text-anchor=\"middle\" x=\"739\" y=\"-101.3\" font-family=\"Times,serif\" font-size=\"14.00\" fill=\"#000000\">1</text>\n",
       "</g>\n",
       "<!-- A56&#45;&gt;A565 -->\n",
       "<g id=\"edge17\" class=\"edge\">\n",
       "<title>A56&#45;&gt;A565</title>\n",
       "<path fill=\"none\" stroke=\"#000000\" d=\"M651.0609,-175.8399C667.1424,-162.8853 689.9773,-144.4905 708.3477,-129.6922\"/>\n",
       "<polygon fill=\"#000000\" stroke=\"#000000\" points=\"710.8417,-132.1774 716.4336,-123.1785 706.4504,-126.7261 710.8417,-132.1774\"/>\n",
       "<text text-anchor=\"middle\" x=\"695\" y=\"-144.8\" font-family=\"Times,serif\" font-size=\"14.00\" fill=\"#000000\">p</text>\n",
       "</g>\n",
       "<!-- A566 -->\n",
       "<g id=\"node21\" class=\"node\">\n",
       "<title>A566</title>\n",
       "<ellipse fill=\"none\" stroke=\"#000000\" cx=\"836\" cy=\"-105\" rx=\"51.9908\" ry=\"18\"/>\n",
       "<text text-anchor=\"middle\" x=\"836\" y=\"-101.3\" font-family=\"Times,serif\" font-size=\"14.00\" fill=\"#000000\">cap&#45;surface</text>\n",
       "</g>\n",
       "<!-- A56&#45;&gt;A566 -->\n",
       "<g id=\"edge21\" class=\"edge\">\n",
       "<title>A56&#45;&gt;A566</title>\n",
       "<path fill=\"none\" stroke=\"#000000\" d=\"M662.1351,-178.7866C697.1393,-163.9311 754.1879,-139.7203 793.3284,-123.1094\"/>\n",
       "<polygon fill=\"#000000\" stroke=\"#000000\" points=\"795.0312,-126.189 802.8692,-119.0604 792.2965,-119.7452 795.0312,-126.189\"/>\n",
       "<text text-anchor=\"middle\" x=\"750.5\" y=\"-144.8\" font-family=\"Times,serif\" font-size=\"14.00\" fill=\"#000000\">w</text>\n",
       "</g>\n",
       "<!-- A567 -->\n",
       "<g id=\"node25\" class=\"node\">\n",
       "<title>A567</title>\n",
       "<polygon fill=\"none\" stroke=\"#000000\" points=\"960,-123 906,-123 906,-87 960,-87 960,-123\"/>\n",
       "<text text-anchor=\"middle\" x=\"933\" y=\"-101.3\" font-family=\"Times,serif\" font-size=\"14.00\" fill=\"#000000\">&#45;1</text>\n",
       "</g>\n",
       "<!-- A56&#45;&gt;A567 -->\n",
       "<g id=\"edge22\" class=\"edge\">\n",
       "<title>A56&#45;&gt;A567</title>\n",
       "<path fill=\"none\" stroke=\"#000000\" d=\"M665.4307,-180.0314C671.9019,-177.922 678.6344,-175.8211 685,-174 775.1697,-148.2033 804.1062,-155.6954 896.3379,-122.8379\"/>\n",
       "<polygon fill=\"#000000\" stroke=\"#000000\" points=\"897.5592,-126.1181 905.7669,-119.4185 895.1727,-119.5374 897.5592,-126.1181\"/>\n",
       "<text text-anchor=\"middle\" x=\"840\" y=\"-144.8\" font-family=\"Times,serif\" font-size=\"14.00\" fill=\"#000000\">y</text>\n",
       "</g>\n",
       "<!-- A5660 -->\n",
       "<g id=\"node22\" class=\"node\">\n",
       "<title>A5660</title>\n",
       "<polygon fill=\"none\" stroke=\"#000000\" points=\"791,-36 737,-36 737,0 791,0 791,-36\"/>\n",
       "<text text-anchor=\"middle\" x=\"764\" y=\"-14.3\" font-family=\"Times,serif\" font-size=\"14.00\" fill=\"#000000\">1</text>\n",
       "</g>\n",
       "<!-- A566&#45;&gt;A5660 -->\n",
       "<g id=\"edge18\" class=\"edge\">\n",
       "<title>A566&#45;&gt;A5660</title>\n",
       "<path fill=\"none\" stroke=\"#000000\" d=\"M821.4297,-87.3943C811.1249,-74.9425 797.1368,-58.0403 785.5458,-44.0346\"/>\n",
       "<polygon fill=\"#000000\" stroke=\"#000000\" points=\"788.1163,-41.6509 779.0442,-36.1785 782.7236,-46.1139 788.1163,-41.6509\"/>\n",
       "<text text-anchor=\"middle\" x=\"806.5\" y=\"-57.8\" font-family=\"Times,serif\" font-size=\"14.00\" fill=\"#000000\">f</text>\n",
       "</g>\n",
       "<!-- A5661 -->\n",
       "<g id=\"node23\" class=\"node\">\n",
       "<title>A5661</title>\n",
       "<polygon fill=\"none\" stroke=\"#000000\" points=\"863,-36 809,-36 809,0 863,0 863,-36\"/>\n",
       "<text text-anchor=\"middle\" x=\"836\" y=\"-14.3\" font-family=\"Times,serif\" font-size=\"14.00\" fill=\"#000000\">&#45;1</text>\n",
       "</g>\n",
       "<!-- A566&#45;&gt;A5661 -->\n",
       "<g id=\"edge19\" class=\"edge\">\n",
       "<title>A566&#45;&gt;A5661</title>\n",
       "<path fill=\"none\" stroke=\"#000000\" d=\"M836,-86.9735C836,-75.1918 836,-59.5607 836,-46.1581\"/>\n",
       "<polygon fill=\"#000000\" stroke=\"#000000\" points=\"839.5001,-46.0033 836,-36.0034 832.5001,-46.0034 839.5001,-46.0033\"/>\n",
       "<text text-anchor=\"middle\" x=\"840\" y=\"-57.8\" font-family=\"Times,serif\" font-size=\"14.00\" fill=\"#000000\">g</text>\n",
       "</g>\n",
       "<!-- A5662 -->\n",
       "<g id=\"node24\" class=\"node\">\n",
       "<title>A5662</title>\n",
       "<polygon fill=\"none\" stroke=\"#000000\" points=\"935,-36 881,-36 881,0 935,0 935,-36\"/>\n",
       "<text text-anchor=\"middle\" x=\"908\" y=\"-14.3\" font-family=\"Times,serif\" font-size=\"14.00\" fill=\"#000000\">1</text>\n",
       "</g>\n",
       "<!-- A566&#45;&gt;A5662 -->\n",
       "<g id=\"edge20\" class=\"edge\">\n",
       "<title>A566&#45;&gt;A5662</title>\n",
       "<path fill=\"none\" stroke=\"#000000\" d=\"M850.5703,-87.3943C860.8751,-74.9425 874.8632,-58.0403 886.4542,-44.0346\"/>\n",
       "<polygon fill=\"#000000\" stroke=\"#000000\" points=\"889.2764,-46.1139 892.9558,-36.1785 883.8837,-41.6509 889.2764,-46.1139\"/>\n",
       "<text text-anchor=\"middle\" x=\"879\" y=\"-57.8\" font-family=\"Times,serif\" font-size=\"14.00\" fill=\"#000000\">s</text>\n",
       "</g>\n",
       "</g>\n",
       "</svg>\n"
      ],
      "text/plain": [
       "<graphviz.dot.Digraph at 0x7f5916b6c438>"
      ]
     },
     "execution_count": 315,
     "metadata": {
      "tags": []
     },
     "output_type": "execute_result"
    }
   ],
   "source": [
    "gr = gv.Digraph(format='png')\n",
    "arbres_mushrooms[0].affiche(gr)\n",
    "gr"
   ]
  },
  {
   "cell_type": "code",
   "execution_count": 316,
   "metadata": {
    "colab": {
     "base_uri": "https://localhost:8080/",
     "height": 564
    },
    "colab_type": "code",
    "id": "o8r1vxyaauSI",
    "outputId": "69b2282f-e298-4061-b785-2ed8950fcbb2"
   },
   "outputs": [
    {
     "data": {
      "image/svg+xml": [
       "<?xml version=\"1.0\" encoding=\"UTF-8\" standalone=\"no\"?>\n",
       "<!DOCTYPE svg PUBLIC \"-//W3C//DTD SVG 1.1//EN\"\n",
       " \"http://www.w3.org/Graphics/SVG/1.1/DTD/svg11.dtd\">\n",
       "<!-- Generated by graphviz version 2.40.1 (20161225.0304)\n",
       " -->\n",
       "<!-- Title: %3 Pages: 1 -->\n",
       "<svg width=\"821pt\" height=\"392pt\"\n",
       " viewBox=\"0.00 0.00 821.00 392.00\" xmlns=\"http://www.w3.org/2000/svg\" xmlns:xlink=\"http://www.w3.org/1999/xlink\">\n",
       "<g id=\"graph0\" class=\"graph\" transform=\"scale(1 1) rotate(0) translate(4 388)\">\n",
       "<title>%3</title>\n",
       "<polygon fill=\"#ffffff\" stroke=\"transparent\" points=\"-4,4 -4,-388 817,-388 817,4 -4,4\"/>\n",
       "<!-- A -->\n",
       "<g id=\"node1\" class=\"node\">\n",
       "<title>A</title>\n",
       "<ellipse fill=\"none\" stroke=\"#000000\" cx=\"315\" cy=\"-366\" rx=\"28.6953\" ry=\"18\"/>\n",
       "<text text-anchor=\"middle\" x=\"315\" y=\"-362.3\" font-family=\"Times,serif\" font-size=\"14.00\" fill=\"#000000\">odor</text>\n",
       "</g>\n",
       "<!-- A0 -->\n",
       "<g id=\"node2\" class=\"node\">\n",
       "<title>A0</title>\n",
       "<polygon fill=\"none\" stroke=\"#000000\" points=\"54,-297 0,-297 0,-261 54,-261 54,-297\"/>\n",
       "<text text-anchor=\"middle\" x=\"27\" y=\"-275.3\" font-family=\"Times,serif\" font-size=\"14.00\" fill=\"#000000\">1</text>\n",
       "</g>\n",
       "<!-- A&#45;&gt;A0 -->\n",
       "<g id=\"edge1\" class=\"edge\">\n",
       "<title>A&#45;&gt;A0</title>\n",
       "<path fill=\"none\" stroke=\"#000000\" d=\"M287.465,-360.6683C242.0839,-351.4162 148.9073,-330.4568 63.8401,-297.0293\"/>\n",
       "<polygon fill=\"#000000\" stroke=\"#000000\" points=\"64.8951,-293.6817 54.3104,-293.2173 62.2953,-300.181 64.8951,-293.6817\"/>\n",
       "<text text-anchor=\"middle\" x=\"162.5\" y=\"-318.8\" font-family=\"Times,serif\" font-size=\"14.00\" fill=\"#000000\">a</text>\n",
       "</g>\n",
       "<!-- A1 -->\n",
       "<g id=\"node3\" class=\"node\">\n",
       "<title>A1</title>\n",
       "<polygon fill=\"none\" stroke=\"#000000\" points=\"126,-297 72,-297 72,-261 126,-261 126,-297\"/>\n",
       "<text text-anchor=\"middle\" x=\"99\" y=\"-275.3\" font-family=\"Times,serif\" font-size=\"14.00\" fill=\"#000000\">&#45;1</text>\n",
       "</g>\n",
       "<!-- A&#45;&gt;A1 -->\n",
       "<g id=\"edge2\" class=\"edge\">\n",
       "<title>A&#45;&gt;A1</title>\n",
       "<path fill=\"none\" stroke=\"#000000\" d=\"M289.9402,-357.2691C256.588,-345.4616 195.6905,-323.251 135.6259,-297.0963\"/>\n",
       "<polygon fill=\"#000000\" stroke=\"#000000\" points=\"136.9494,-293.8549 126.3861,-293.038 134.1344,-300.264 136.9494,-293.8549\"/>\n",
       "<text text-anchor=\"middle\" x=\"217.5\" y=\"-318.8\" font-family=\"Times,serif\" font-size=\"14.00\" fill=\"#000000\">c</text>\n",
       "</g>\n",
       "<!-- A2 -->\n",
       "<g id=\"node4\" class=\"node\">\n",
       "<title>A2</title>\n",
       "<polygon fill=\"none\" stroke=\"#000000\" points=\"198,-297 144,-297 144,-261 198,-261 198,-297\"/>\n",
       "<text text-anchor=\"middle\" x=\"171\" y=\"-275.3\" font-family=\"Times,serif\" font-size=\"14.00\" fill=\"#000000\">&#45;1</text>\n",
       "</g>\n",
       "<!-- A&#45;&gt;A2 -->\n",
       "<g id=\"edge3\" class=\"edge\">\n",
       "<title>A&#45;&gt;A2</title>\n",
       "<path fill=\"none\" stroke=\"#000000\" d=\"M294.3683,-353.535C271.5619,-339.7561 234.4076,-317.3088 206.8239,-300.6436\"/>\n",
       "<polygon fill=\"#000000\" stroke=\"#000000\" points=\"208.6038,-297.6298 198.2347,-295.4543 204.984,-303.6212 208.6038,-297.6298\"/>\n",
       "<text text-anchor=\"middle\" x=\"254.5\" y=\"-318.8\" font-family=\"Times,serif\" font-size=\"14.00\" fill=\"#000000\">f</text>\n",
       "</g>\n",
       "<!-- A3 -->\n",
       "<g id=\"node5\" class=\"node\">\n",
       "<title>A3</title>\n",
       "<polygon fill=\"none\" stroke=\"#000000\" points=\"270,-297 216,-297 216,-261 270,-261 270,-297\"/>\n",
       "<text text-anchor=\"middle\" x=\"243\" y=\"-275.3\" font-family=\"Times,serif\" font-size=\"14.00\" fill=\"#000000\">1</text>\n",
       "</g>\n",
       "<!-- A&#45;&gt;A3 -->\n",
       "<g id=\"edge4\" class=\"edge\">\n",
       "<title>A&#45;&gt;A3</title>\n",
       "<path fill=\"none\" stroke=\"#000000\" d=\"M301.4574,-349.636C291.1054,-337.1274 276.6285,-319.6345 264.6717,-305.1866\"/>\n",
       "<polygon fill=\"#000000\" stroke=\"#000000\" points=\"267.0452,-302.565 257.9731,-297.0925 261.6524,-307.028 267.0452,-302.565\"/>\n",
       "<text text-anchor=\"middle\" x=\"286\" y=\"-318.8\" font-family=\"Times,serif\" font-size=\"14.00\" fill=\"#000000\">l</text>\n",
       "</g>\n",
       "<!-- A4 -->\n",
       "<g id=\"node6\" class=\"node\">\n",
       "<title>A4</title>\n",
       "<polygon fill=\"none\" stroke=\"#000000\" points=\"342,-297 288,-297 288,-261 342,-261 342,-297\"/>\n",
       "<text text-anchor=\"middle\" x=\"315\" y=\"-275.3\" font-family=\"Times,serif\" font-size=\"14.00\" fill=\"#000000\">&#45;1</text>\n",
       "</g>\n",
       "<!-- A&#45;&gt;A4 -->\n",
       "<g id=\"edge5\" class=\"edge\">\n",
       "<title>A&#45;&gt;A4</title>\n",
       "<path fill=\"none\" stroke=\"#000000\" d=\"M315,-347.9735C315,-336.1918 315,-320.5607 315,-307.1581\"/>\n",
       "<polygon fill=\"#000000\" stroke=\"#000000\" points=\"318.5001,-307.0033 315,-297.0034 311.5001,-307.0034 318.5001,-307.0033\"/>\n",
       "<text text-anchor=\"middle\" x=\"321\" y=\"-318.8\" font-family=\"Times,serif\" font-size=\"14.00\" fill=\"#000000\">m</text>\n",
       "</g>\n",
       "<!-- A5 -->\n",
       "<g id=\"node7\" class=\"node\">\n",
       "<title>A5</title>\n",
       "<ellipse fill=\"none\" stroke=\"#000000\" cx=\"433\" cy=\"-279\" rx=\"73.387\" ry=\"18\"/>\n",
       "<text text-anchor=\"middle\" x=\"433\" y=\"-275.3\" font-family=\"Times,serif\" font-size=\"14.00\" fill=\"#000000\">spore&#45;print&#45;color</text>\n",
       "</g>\n",
       "<!-- A&#45;&gt;A5 -->\n",
       "<g id=\"edge23\" class=\"edge\">\n",
       "<title>A&#45;&gt;A5</title>\n",
       "<path fill=\"none\" stroke=\"#000000\" d=\"M333.6975,-352.2146C351.8265,-338.8483 379.6802,-318.312 401.2794,-302.3872\"/>\n",
       "<polygon fill=\"#000000\" stroke=\"#000000\" points=\"403.541,-305.0683 409.5128,-296.3168 399.3869,-299.4341 403.541,-305.0683\"/>\n",
       "<text text-anchor=\"middle\" x=\"386\" y=\"-318.8\" font-family=\"Times,serif\" font-size=\"14.00\" fill=\"#000000\">n</text>\n",
       "</g>\n",
       "<!-- A6 -->\n",
       "<g id=\"node25\" class=\"node\">\n",
       "<title>A6</title>\n",
       "<polygon fill=\"none\" stroke=\"#000000\" points=\"578,-297 524,-297 524,-261 578,-261 578,-297\"/>\n",
       "<text text-anchor=\"middle\" x=\"551\" y=\"-275.3\" font-family=\"Times,serif\" font-size=\"14.00\" fill=\"#000000\">&#45;1</text>\n",
       "</g>\n",
       "<!-- A&#45;&gt;A6 -->\n",
       "<g id=\"edge24\" class=\"edge\">\n",
       "<title>A&#45;&gt;A6</title>\n",
       "<path fill=\"none\" stroke=\"#000000\" d=\"M340.9785,-358.2392C377.7912,-346.9856 447.2732,-324.8024 514.2289,-297.0837\"/>\n",
       "<polygon fill=\"#000000\" stroke=\"#000000\" points=\"515.784,-300.2271 523.6562,-293.1363 513.0803,-293.7703 515.784,-300.2271\"/>\n",
       "<text text-anchor=\"middle\" x=\"471\" y=\"-318.8\" font-family=\"Times,serif\" font-size=\"14.00\" fill=\"#000000\">p</text>\n",
       "</g>\n",
       "<!-- A7 -->\n",
       "<g id=\"node26\" class=\"node\">\n",
       "<title>A7</title>\n",
       "<polygon fill=\"none\" stroke=\"#000000\" points=\"650,-297 596,-297 596,-261 650,-261 650,-297\"/>\n",
       "<text text-anchor=\"middle\" x=\"623\" y=\"-275.3\" font-family=\"Times,serif\" font-size=\"14.00\" fill=\"#000000\">&#45;1</text>\n",
       "</g>\n",
       "<!-- A&#45;&gt;A7 -->\n",
       "<g id=\"edge25\" class=\"edge\">\n",
       "<title>A&#45;&gt;A7</title>\n",
       "<path fill=\"none\" stroke=\"#000000\" d=\"M342.7751,-361.454C391.1864,-353.006 493.9217,-332.7476 586.2281,-296.9808\"/>\n",
       "<polygon fill=\"#000000\" stroke=\"#000000\" points=\"587.6835,-300.1692 595.699,-293.2407 585.1124,-293.6584 587.6835,-300.1692\"/>\n",
       "<text text-anchor=\"middle\" x=\"540\" y=\"-318.8\" font-family=\"Times,serif\" font-size=\"14.00\" fill=\"#000000\">s</text>\n",
       "</g>\n",
       "<!-- A8 -->\n",
       "<g id=\"node27\" class=\"node\">\n",
       "<title>A8</title>\n",
       "<polygon fill=\"none\" stroke=\"#000000\" points=\"722,-297 668,-297 668,-261 722,-261 722,-297\"/>\n",
       "<text text-anchor=\"middle\" x=\"695\" y=\"-275.3\" font-family=\"Times,serif\" font-size=\"14.00\" fill=\"#000000\">&#45;1</text>\n",
       "</g>\n",
       "<!-- A&#45;&gt;A8 -->\n",
       "<g id=\"edge26\" class=\"edge\">\n",
       "<title>A&#45;&gt;A8</title>\n",
       "<path fill=\"none\" stroke=\"#000000\" d=\"M343.6017,-363.6995C402.2375,-358.2708 539.836,-341.8585 658.1433,-296.9793\"/>\n",
       "<polygon fill=\"#000000\" stroke=\"#000000\" points=\"659.652,-300.1483 667.7107,-293.2701 657.1216,-293.6216 659.652,-300.1483\"/>\n",
       "<text text-anchor=\"middle\" x=\"609\" y=\"-318.8\" font-family=\"Times,serif\" font-size=\"14.00\" fill=\"#000000\">y</text>\n",
       "</g>\n",
       "<!-- A50 -->\n",
       "<g id=\"node8\" class=\"node\">\n",
       "<title>A50</title>\n",
       "<polygon fill=\"none\" stroke=\"#000000\" points=\"208,-210 154,-210 154,-174 208,-174 208,-210\"/>\n",
       "<text text-anchor=\"middle\" x=\"181\" y=\"-188.3\" font-family=\"Times,serif\" font-size=\"14.00\" fill=\"#000000\">1</text>\n",
       "</g>\n",
       "<!-- A5&#45;&gt;A50 -->\n",
       "<g id=\"edge6\" class=\"edge\">\n",
       "<title>A5&#45;&gt;A50</title>\n",
       "<path fill=\"none\" stroke=\"#000000\" d=\"M383.2793,-265.6321C341.1236,-253.7373 279.1012,-234.9165 217.7652,-210.0525\"/>\n",
       "<polygon fill=\"#000000\" stroke=\"#000000\" points=\"218.9073,-206.7379 208.3274,-206.1757 216.2475,-213.2129 218.9073,-206.7379\"/>\n",
       "<text text-anchor=\"middle\" x=\"309\" y=\"-231.8\" font-family=\"Times,serif\" font-size=\"14.00\" fill=\"#000000\">b</text>\n",
       "</g>\n",
       "<!-- A51 -->\n",
       "<g id=\"node9\" class=\"node\">\n",
       "<title>A51</title>\n",
       "<polygon fill=\"none\" stroke=\"#000000\" points=\"280,-210 226,-210 226,-174 280,-174 280,-210\"/>\n",
       "<text text-anchor=\"middle\" x=\"253\" y=\"-188.3\" font-family=\"Times,serif\" font-size=\"14.00\" fill=\"#000000\">1</text>\n",
       "</g>\n",
       "<!-- A5&#45;&gt;A51 -->\n",
       "<g id=\"edge7\" class=\"edge\">\n",
       "<title>A5&#45;&gt;A51</title>\n",
       "<path fill=\"none\" stroke=\"#000000\" d=\"M399.1718,-262.9875C371.882,-250.0261 332.2911,-231.1241 289.3202,-210.1239\"/>\n",
       "<polygon fill=\"#000000\" stroke=\"#000000\" points=\"290.6231,-206.8649 280.1026,-205.6123 287.5457,-213.1522 290.6231,-206.8649\"/>\n",
       "<text text-anchor=\"middle\" x=\"360\" y=\"-231.8\" font-family=\"Times,serif\" font-size=\"14.00\" fill=\"#000000\">h</text>\n",
       "</g>\n",
       "<!-- A52 -->\n",
       "<g id=\"node10\" class=\"node\">\n",
       "<title>A52</title>\n",
       "<polygon fill=\"none\" stroke=\"#000000\" points=\"352,-210 298,-210 298,-174 352,-174 352,-210\"/>\n",
       "<text text-anchor=\"middle\" x=\"325\" y=\"-188.3\" font-family=\"Times,serif\" font-size=\"14.00\" fill=\"#000000\">1</text>\n",
       "</g>\n",
       "<!-- A5&#45;&gt;A52 -->\n",
       "<g id=\"edge8\" class=\"edge\">\n",
       "<title>A5&#45;&gt;A52</title>\n",
       "<path fill=\"none\" stroke=\"#000000\" d=\"M411.4042,-261.6033C395.3897,-248.7028 373.3416,-230.9418 355.5261,-216.5905\"/>\n",
       "<polygon fill=\"#000000\" stroke=\"#000000\" points=\"357.6585,-213.8139 347.6753,-210.2662 353.2672,-219.2652 357.6585,-213.8139\"/>\n",
       "<text text-anchor=\"middle\" x=\"390\" y=\"-231.8\" font-family=\"Times,serif\" font-size=\"14.00\" fill=\"#000000\">k</text>\n",
       "</g>\n",
       "<!-- A53 -->\n",
       "<g id=\"node11\" class=\"node\">\n",
       "<title>A53</title>\n",
       "<polygon fill=\"none\" stroke=\"#000000\" points=\"424,-210 370,-210 370,-174 424,-174 424,-210\"/>\n",
       "<text text-anchor=\"middle\" x=\"397\" y=\"-188.3\" font-family=\"Times,serif\" font-size=\"14.00\" fill=\"#000000\">1</text>\n",
       "</g>\n",
       "<!-- A5&#45;&gt;A53 -->\n",
       "<g id=\"edge9\" class=\"edge\">\n",
       "<title>A5&#45;&gt;A53</title>\n",
       "<path fill=\"none\" stroke=\"#000000\" d=\"M425.5408,-260.9735C420.569,-248.9585 413.9407,-232.9401 408.3233,-219.3646\"/>\n",
       "<polygon fill=\"#000000\" stroke=\"#000000\" points=\"411.5073,-217.9053 404.4497,-210.0034 405.0392,-220.5818 411.5073,-217.9053\"/>\n",
       "<text text-anchor=\"middle\" x=\"422\" y=\"-231.8\" font-family=\"Times,serif\" font-size=\"14.00\" fill=\"#000000\">n</text>\n",
       "</g>\n",
       "<!-- A54 -->\n",
       "<g id=\"node12\" class=\"node\">\n",
       "<title>A54</title>\n",
       "<polygon fill=\"none\" stroke=\"#000000\" points=\"496,-210 442,-210 442,-174 496,-174 496,-210\"/>\n",
       "<text text-anchor=\"middle\" x=\"469\" y=\"-188.3\" font-family=\"Times,serif\" font-size=\"14.00\" fill=\"#000000\">1</text>\n",
       "</g>\n",
       "<!-- A5&#45;&gt;A54 -->\n",
       "<g id=\"edge10\" class=\"edge\">\n",
       "<title>A5&#45;&gt;A54</title>\n",
       "<path fill=\"none\" stroke=\"#000000\" d=\"M440.4592,-260.9735C445.431,-248.9585 452.0593,-232.9401 457.6767,-219.3646\"/>\n",
       "<polygon fill=\"#000000\" stroke=\"#000000\" points=\"460.9608,-220.5818 461.5503,-210.0034 454.4927,-217.9053 460.9608,-220.5818\"/>\n",
       "<text text-anchor=\"middle\" x=\"458\" y=\"-231.8\" font-family=\"Times,serif\" font-size=\"14.00\" fill=\"#000000\">o</text>\n",
       "</g>\n",
       "<!-- A55 -->\n",
       "<g id=\"node13\" class=\"node\">\n",
       "<title>A55</title>\n",
       "<polygon fill=\"none\" stroke=\"#000000\" points=\"568,-210 514,-210 514,-174 568,-174 568,-210\"/>\n",
       "<text text-anchor=\"middle\" x=\"541\" y=\"-188.3\" font-family=\"Times,serif\" font-size=\"14.00\" fill=\"#000000\">&#45;1</text>\n",
       "</g>\n",
       "<!-- A5&#45;&gt;A55 -->\n",
       "<g id=\"edge11\" class=\"edge\">\n",
       "<title>A5&#45;&gt;A55</title>\n",
       "<path fill=\"none\" stroke=\"#000000\" d=\"M454.5958,-261.6033C470.6103,-248.7028 492.6584,-230.9418 510.4739,-216.5905\"/>\n",
       "<polygon fill=\"#000000\" stroke=\"#000000\" points=\"512.7328,-219.2652 518.3247,-210.2662 508.3415,-213.8139 512.7328,-219.2652\"/>\n",
       "<text text-anchor=\"middle\" x=\"496.5\" y=\"-231.8\" font-family=\"Times,serif\" font-size=\"14.00\" fill=\"#000000\">r</text>\n",
       "</g>\n",
       "<!-- A56 -->\n",
       "<g id=\"node14\" class=\"node\">\n",
       "<title>A56</title>\n",
       "<ellipse fill=\"none\" stroke=\"#000000\" cx=\"622\" cy=\"-192\" rx=\"35.9954\" ry=\"18\"/>\n",
       "<text text-anchor=\"middle\" x=\"622\" y=\"-188.3\" font-family=\"Times,serif\" font-size=\"14.00\" fill=\"#000000\">habitat</text>\n",
       "</g>\n",
       "<!-- A5&#45;&gt;A56 -->\n",
       "<g id=\"edge21\" class=\"edge\">\n",
       "<title>A5&#45;&gt;A56</title>\n",
       "<path fill=\"none\" stroke=\"#000000\" d=\"M467.6655,-263.0429C501.3692,-247.5284 552.323,-224.0735 586.3558,-208.4076\"/>\n",
       "<polygon fill=\"#000000\" stroke=\"#000000\" points=\"587.8574,-211.5695 595.4777,-204.2087 584.9304,-205.2108 587.8574,-211.5695\"/>\n",
       "<text text-anchor=\"middle\" x=\"544.5\" y=\"-231.8\" font-family=\"Times,serif\" font-size=\"14.00\" fill=\"#000000\">w</text>\n",
       "</g>\n",
       "<!-- A57 -->\n",
       "<g id=\"node24\" class=\"node\">\n",
       "<title>A57</title>\n",
       "<polygon fill=\"none\" stroke=\"#000000\" points=\"730,-210 676,-210 676,-174 730,-174 730,-210\"/>\n",
       "<text text-anchor=\"middle\" x=\"703\" y=\"-188.3\" font-family=\"Times,serif\" font-size=\"14.00\" fill=\"#000000\">1</text>\n",
       "</g>\n",
       "<!-- A5&#45;&gt;A57 -->\n",
       "<g id=\"edge22\" class=\"edge\">\n",
       "<title>A5&#45;&gt;A57</title>\n",
       "<path fill=\"none\" stroke=\"#000000\" d=\"M485.4716,-266.3697C531.3327,-254.6963 599.6394,-235.7758 666.3155,-209.9582\"/>\n",
       "<polygon fill=\"#000000\" stroke=\"#000000\" points=\"667.6813,-213.1821 675.7104,-206.2695 665.123,-206.6664 667.6813,-213.1821\"/>\n",
       "<text text-anchor=\"middle\" x=\"621\" y=\"-231.8\" font-family=\"Times,serif\" font-size=\"14.00\" fill=\"#000000\">y</text>\n",
       "</g>\n",
       "<!-- A560 -->\n",
       "<g id=\"node15\" class=\"node\">\n",
       "<title>A560</title>\n",
       "<polygon fill=\"none\" stroke=\"#000000\" points=\"485,-123 431,-123 431,-87 485,-87 485,-123\"/>\n",
       "<text text-anchor=\"middle\" x=\"458\" y=\"-101.3\" font-family=\"Times,serif\" font-size=\"14.00\" fill=\"#000000\">&#45;1</text>\n",
       "</g>\n",
       "<!-- A56&#45;&gt;A560 -->\n",
       "<g id=\"edge12\" class=\"edge\">\n",
       "<title>A56&#45;&gt;A560</title>\n",
       "<path fill=\"none\" stroke=\"#000000\" d=\"M597.0919,-178.7866C569.6076,-164.2065 525.1356,-140.6146 493.8931,-124.0409\"/>\n",
       "<polygon fill=\"#000000\" stroke=\"#000000\" points=\"495.531,-120.9478 485.0568,-119.3533 492.2506,-127.1316 495.531,-120.9478\"/>\n",
       "<text text-anchor=\"middle\" x=\"554\" y=\"-144.8\" font-family=\"Times,serif\" font-size=\"14.00\" fill=\"#000000\">d</text>\n",
       "</g>\n",
       "<!-- A561 -->\n",
       "<g id=\"node16\" class=\"node\">\n",
       "<title>A561</title>\n",
       "<polygon fill=\"none\" stroke=\"#000000\" points=\"557,-123 503,-123 503,-87 557,-87 557,-123\"/>\n",
       "<text text-anchor=\"middle\" x=\"530\" y=\"-101.3\" font-family=\"Times,serif\" font-size=\"14.00\" fill=\"#000000\">1</text>\n",
       "</g>\n",
       "<!-- A56&#45;&gt;A561 -->\n",
       "<g id=\"edge13\" class=\"edge\">\n",
       "<title>A56&#45;&gt;A561</title>\n",
       "<path fill=\"none\" stroke=\"#000000\" d=\"M605.1258,-176.0429C591.5736,-163.2272 572.2919,-144.9934 556.6561,-130.2074\"/>\n",
       "<polygon fill=\"#000000\" stroke=\"#000000\" points=\"558.9848,-127.5924 549.3142,-123.2646 554.1752,-132.6785 558.9848,-127.5924\"/>\n",
       "<text text-anchor=\"middle\" x=\"586\" y=\"-144.8\" font-family=\"Times,serif\" font-size=\"14.00\" fill=\"#000000\">g</text>\n",
       "</g>\n",
       "<!-- A562 -->\n",
       "<g id=\"node17\" class=\"node\">\n",
       "<title>A562</title>\n",
       "<ellipse fill=\"none\" stroke=\"#000000\" cx=\"622\" cy=\"-105\" rx=\"47.3916\" ry=\"18\"/>\n",
       "<text text-anchor=\"middle\" x=\"622\" y=\"-101.3\" font-family=\"Times,serif\" font-size=\"14.00\" fill=\"#000000\">cap&#45;shape</text>\n",
       "</g>\n",
       "<!-- A56&#45;&gt;A562 -->\n",
       "<g id=\"edge18\" class=\"edge\">\n",
       "<title>A56&#45;&gt;A562</title>\n",
       "<path fill=\"none\" stroke=\"#000000\" d=\"M622,-173.9735C622,-162.1918 622,-146.5607 622,-133.1581\"/>\n",
       "<polygon fill=\"#000000\" stroke=\"#000000\" points=\"625.5001,-133.0033 622,-123.0034 618.5001,-133.0034 625.5001,-133.0033\"/>\n",
       "<text text-anchor=\"middle\" x=\"624\" y=\"-144.8\" font-family=\"Times,serif\" font-size=\"14.00\" fill=\"#000000\">l</text>\n",
       "</g>\n",
       "<!-- A563 -->\n",
       "<g id=\"node22\" class=\"node\">\n",
       "<title>A563</title>\n",
       "<polygon fill=\"none\" stroke=\"#000000\" points=\"741,-123 687,-123 687,-87 741,-87 741,-123\"/>\n",
       "<text text-anchor=\"middle\" x=\"714\" y=\"-101.3\" font-family=\"Times,serif\" font-size=\"14.00\" fill=\"#000000\">1</text>\n",
       "</g>\n",
       "<!-- A56&#45;&gt;A563 -->\n",
       "<g id=\"edge19\" class=\"edge\">\n",
       "<title>A56&#45;&gt;A563</title>\n",
       "<path fill=\"none\" stroke=\"#000000\" d=\"M638.8742,-176.0429C652.4264,-163.2272 671.7081,-144.9934 687.3439,-130.2074\"/>\n",
       "<polygon fill=\"#000000\" stroke=\"#000000\" points=\"689.8248,-132.6785 694.6858,-123.2646 685.0152,-127.5924 689.8248,-132.6785\"/>\n",
       "<text text-anchor=\"middle\" x=\"677\" y=\"-144.8\" font-family=\"Times,serif\" font-size=\"14.00\" fill=\"#000000\">p</text>\n",
       "</g>\n",
       "<!-- A564 -->\n",
       "<g id=\"node23\" class=\"node\">\n",
       "<title>A564</title>\n",
       "<polygon fill=\"none\" stroke=\"#000000\" points=\"813,-123 759,-123 759,-87 813,-87 813,-123\"/>\n",
       "<text text-anchor=\"middle\" x=\"786\" y=\"-101.3\" font-family=\"Times,serif\" font-size=\"14.00\" fill=\"#000000\">1</text>\n",
       "</g>\n",
       "<!-- A56&#45;&gt;A564 -->\n",
       "<g id=\"edge20\" class=\"edge\">\n",
       "<title>A56&#45;&gt;A564</title>\n",
       "<path fill=\"none\" stroke=\"#000000\" d=\"M646.9081,-178.7866C674.3924,-164.2065 718.8644,-140.6146 750.1069,-124.0409\"/>\n",
       "<polygon fill=\"#000000\" stroke=\"#000000\" points=\"751.7494,-127.1316 758.9432,-119.3533 748.469,-120.9478 751.7494,-127.1316\"/>\n",
       "<text text-anchor=\"middle\" x=\"718.5\" y=\"-144.8\" font-family=\"Times,serif\" font-size=\"14.00\" fill=\"#000000\">w</text>\n",
       "</g>\n",
       "<!-- A5620 -->\n",
       "<g id=\"node18\" class=\"node\">\n",
       "<title>A5620</title>\n",
       "<polygon fill=\"none\" stroke=\"#000000\" points=\"541,-36 487,-36 487,0 541,0 541,-36\"/>\n",
       "<text text-anchor=\"middle\" x=\"514\" y=\"-14.3\" font-family=\"Times,serif\" font-size=\"14.00\" fill=\"#000000\">&#45;1</text>\n",
       "</g>\n",
       "<!-- A562&#45;&gt;A5620 -->\n",
       "<g id=\"edge14\" class=\"edge\">\n",
       "<title>A562&#45;&gt;A5620</title>\n",
       "<path fill=\"none\" stroke=\"#000000\" d=\"M601.686,-88.636C585.5776,-75.6598 562.8106,-57.3196 544.5125,-42.5795\"/>\n",
       "<polygon fill=\"#000000\" stroke=\"#000000\" points=\"546.4429,-39.6402 536.4596,-36.0925 542.0515,-45.0915 546.4429,-39.6402\"/>\n",
       "<text text-anchor=\"middle\" x=\"579\" y=\"-57.8\" font-family=\"Times,serif\" font-size=\"14.00\" fill=\"#000000\">b</text>\n",
       "</g>\n",
       "<!-- A5621 -->\n",
       "<g id=\"node19\" class=\"node\">\n",
       "<title>A5621</title>\n",
       "<polygon fill=\"none\" stroke=\"#000000\" points=\"613,-36 559,-36 559,0 613,0 613,-36\"/>\n",
       "<text text-anchor=\"middle\" x=\"586\" y=\"-14.3\" font-family=\"Times,serif\" font-size=\"14.00\" fill=\"#000000\">1</text>\n",
       "</g>\n",
       "<!-- A562&#45;&gt;A5621 -->\n",
       "<g id=\"edge15\" class=\"edge\">\n",
       "<title>A562&#45;&gt;A5621</title>\n",
       "<path fill=\"none\" stroke=\"#000000\" d=\"M614.5408,-86.9735C609.569,-74.9585 602.9407,-58.9401 597.3233,-45.3646\"/>\n",
       "<polygon fill=\"#000000\" stroke=\"#000000\" points=\"600.5073,-43.9053 593.4497,-36.0034 594.0392,-46.5818 600.5073,-43.9053\"/>\n",
       "<text text-anchor=\"middle\" x=\"609.5\" y=\"-57.8\" font-family=\"Times,serif\" font-size=\"14.00\" fill=\"#000000\">f</text>\n",
       "</g>\n",
       "<!-- A5622 -->\n",
       "<g id=\"node20\" class=\"node\">\n",
       "<title>A5622</title>\n",
       "<polygon fill=\"none\" stroke=\"#000000\" points=\"685,-36 631,-36 631,0 685,0 685,-36\"/>\n",
       "<text text-anchor=\"middle\" x=\"658\" y=\"-14.3\" font-family=\"Times,serif\" font-size=\"14.00\" fill=\"#000000\">1</text>\n",
       "</g>\n",
       "<!-- A562&#45;&gt;A5622 -->\n",
       "<g id=\"edge16\" class=\"edge\">\n",
       "<title>A562&#45;&gt;A5622</title>\n",
       "<path fill=\"none\" stroke=\"#000000\" d=\"M629.4592,-86.9735C634.431,-74.9585 641.0593,-58.9401 646.6767,-45.3646\"/>\n",
       "<polygon fill=\"#000000\" stroke=\"#000000\" points=\"649.9608,-46.5818 650.5503,-36.0034 643.4927,-43.9053 649.9608,-46.5818\"/>\n",
       "<text text-anchor=\"middle\" x=\"647\" y=\"-57.8\" font-family=\"Times,serif\" font-size=\"14.00\" fill=\"#000000\">k</text>\n",
       "</g>\n",
       "<!-- A5623 -->\n",
       "<g id=\"node21\" class=\"node\">\n",
       "<title>A5623</title>\n",
       "<polygon fill=\"none\" stroke=\"#000000\" points=\"757,-36 703,-36 703,0 757,0 757,-36\"/>\n",
       "<text text-anchor=\"middle\" x=\"730\" y=\"-14.3\" font-family=\"Times,serif\" font-size=\"14.00\" fill=\"#000000\">1</text>\n",
       "</g>\n",
       "<!-- A562&#45;&gt;A5623 -->\n",
       "<g id=\"edge17\" class=\"edge\">\n",
       "<title>A562&#45;&gt;A5623</title>\n",
       "<path fill=\"none\" stroke=\"#000000\" d=\"M642.314,-88.636C658.4224,-75.6598 681.1894,-57.3196 699.4875,-42.5795\"/>\n",
       "<polygon fill=\"#000000\" stroke=\"#000000\" points=\"701.9485,-45.0915 707.5404,-36.0925 697.5571,-39.6402 701.9485,-45.0915\"/>\n",
       "<text text-anchor=\"middle\" x=\"686\" y=\"-57.8\" font-family=\"Times,serif\" font-size=\"14.00\" fill=\"#000000\">x</text>\n",
       "</g>\n",
       "</g>\n",
       "</svg>\n"
      ],
      "text/plain": [
       "<graphviz.dot.Digraph at 0x7f5916b6c668>"
      ]
     },
     "execution_count": 316,
     "metadata": {
      "tags": []
     },
     "output_type": "execute_result"
    }
   ],
   "source": [
    "gr = gv.Digraph(format='png')\n",
    "arbres_mushrooms[2].affiche(gr)\n",
    "gr"
   ]
  },
  {
   "cell_type": "code",
   "execution_count": null,
   "metadata": {
    "colab": {},
    "colab_type": "code",
    "id": "L9p28seywfYY"
   },
   "outputs": [],
   "source": [
    "# Fichier qui va nous servir à tester\n",
    "mushrooms_df = pd.read_csv(\"mushrooms-1124.csv\")\n",
    "# Conversion des labels\n",
    "mushrooms_df['Label'] = 0\n",
    "for i in mushrooms_df.index:\n",
    "    if mushrooms_df.loc[i,'class'] == 'e':\n",
    "        mushrooms_df.loc[i,'Label'] = 1\n",
    "    else:\n",
    "        mushrooms_df.loc[i,'Label'] = -1\n",
    "del mushrooms_df['class']   \n",
    "# Passer du dataframe à un dataset (2 arrays):\n",
    "mushrooms_test_desc = np.array(mushrooms_df[mushrooms_noms])\n",
    "mushrooms_test_label = np.array(mushrooms_df['Label'])"
   ]
  },
  {
   "cell_type": "markdown",
   "metadata": {
    "colab_type": "text",
    "id": "lBKL_WyRwfYf"
   },
   "source": [
    "<font color=\"RED\" size=\"+1\">**[Q]**</font> Donner les instructions permettant d'obtenir le taux de bonne classification (accuracy) de chacun des arbres construits sur les autres bases, sur le modèle suivant:"
   ]
  },
  {
   "cell_type": "code",
   "execution_count": 318,
   "metadata": {
    "colab": {
     "base_uri": "https://localhost:8080/",
     "height": 799
    },
    "colab_type": "code",
    "id": "WnST-7enwfYj",
    "outputId": "098274d3-b574-4ea9-a8b6-bd80afb54ea2"
   },
   "outputs": [
    {
     "name": "stdout",
     "output_type": "stream",
     "text": [
      "Appritissage avec mushrooms-1400-1\n",
      "\tclassification  de mushrooms-1400-1 : 100.0\n",
      "\tclassification  de mushrooms-1400-2 : 100.0\n",
      "\tclassification  de mushrooms-1400-3 : 99.64285714285714\n",
      "\t*** Warning: attribut  cap-surface  -> Valeur inconnue:  y\n",
      "\t*** Warning: attribut  cap-surface  -> Valeur inconnue:  y\n",
      "\t*** Warning: attribut  cap-surface  -> Valeur inconnue:  y\n",
      "\tclassification  de mushrooms-1400-4 : 99.57142857142857\n",
      "\tclassification  de mushrooms-1400-5 : 99.71428571428571\n",
      "\t*** Warning: attribut  cap-surface  -> Valeur inconnue:  y\n",
      "\t-->classification de mushroom-1124 :99.55516014234875\n",
      "Appritissage avec mushrooms-1400-2\n",
      "\tclassification  de mushrooms-1400-1 : 99.85714285714286\n",
      "\tclassification  de mushrooms-1400-2 : 100.0\n",
      "\tclassification  de mushrooms-1400-3 : 99.64285714285714\n",
      "\tclassification  de mushrooms-1400-4 : 99.57142857142857\n",
      "\tclassification  de mushrooms-1400-5 : 99.64285714285714\n",
      "\t-->classification de mushroom-1124 :99.4661921708185\n",
      "Appritissage avec mushrooms-1400-3\n",
      "\tclassification  de mushrooms-1400-1 : 99.64285714285714\n",
      "\t*** Warning: attribut  cap-shape  -> Valeur inconnue:  c\n",
      "\t*** Warning: attribut  cap-shape  -> Valeur inconnue:  c\n",
      "\tclassification  de mushrooms-1400-2 : 99.64285714285714\n",
      "\tclassification  de mushrooms-1400-3 : 100.0\n",
      "\t*** Warning: attribut  cap-shape  -> Valeur inconnue:  c\n",
      "\tclassification  de mushrooms-1400-4 : 99.57142857142857\n",
      "\t*** Warning: attribut  cap-shape  -> Valeur inconnue:  c\n",
      "\tclassification  de mushrooms-1400-5 : 99.71428571428571\n",
      "\t-->classification de mushroom-1124 :100.0\n",
      "Appritissage avec mushrooms-1400-4\n",
      "\tclassification  de mushrooms-1400-1 : 100.0\n",
      "\tclassification  de mushrooms-1400-2 : 100.0\n",
      "\tclassification  de mushrooms-1400-3 : 100.0\n",
      "\tclassification  de mushrooms-1400-4 : 100.0\n",
      "\tclassification  de mushrooms-1400-5 : 100.0\n",
      "\t-->classification de mushroom-1124 :100.0\n",
      "Appritissage avec mushrooms-1400-5\n",
      "\tclassification  de mushrooms-1400-1 : 99.64285714285714\n",
      "\tclassification  de mushrooms-1400-2 : 99.71428571428571\n",
      "\tclassification  de mushrooms-1400-3 : 99.71428571428571\n",
      "\tclassification  de mushrooms-1400-4 : 99.5\n",
      "\tclassification  de mushrooms-1400-5 : 100.0\n",
      "\t-->classification de mushroom-1124 :99.644128113879\n"
     ]
    }
   ],
   "source": [
    "for i in range(len(arbres_mushrooms[:])):\n",
    "    model = arbres_mushrooms[i]\n",
    "  # model.train(mushrooms_desc[i], mushrooms_label[i])\n",
    "    print('Appritissage avec mushrooms-1400-'+str(i+1))\n",
    "    for j in range(len(mushrooms_desc)):\n",
    "        label = mushrooms_label[j]\n",
    "        data = mushrooms_desc[j]\n",
    "        print('\\tclassification  de mushrooms-1400-'+str(j+1)+ ' : '+ str(model.accuracy(data, label)))\n",
    "    print('\\t-->classification de mushroom-1124 :' + str(model.accuracy(mushrooms_test_desc,mushrooms_test_label )))"
   ]
  },
  {
   "cell_type": "markdown",
   "metadata": {
    "colab_type": "text",
    "id": "1_cjHEH2wfYs"
   },
   "source": [
    "<font color=\"RED\" size=\"+1\">**[Q]**</font> On peut remarquer que pour certains arbres, la classification de certains exemples produit un warning.\n",
    "En étudiant les exemples suivant et leur classification par le premier arbre, expliquez pourquoi un warning se produit.\n",
    "Est-ce normal ? Pourrait-on trouver une solution pour ces cas-là ?\n"
   ]
  },
  {
   "cell_type": "markdown",
   "metadata": {
    "colab_type": "text",
    "id": "FwhMw73Mr0-e"
   },
   "source": [
    "<font color='red'>Réponse</font>\n",
    "\n",
    "Cela est pricipalement lié à la notion de gain d'information, par construction ID3 cherche à maxmiser le gain d'information, lorsque le temps est venu de traiter l'attribut son gain d'information étais minimal, de ce fait il n'a pas étais inclue dans l'arbre de décision. "
   ]
  },
  {
   "cell_type": "code",
   "execution_count": 319,
   "metadata": {
    "colab": {
     "base_uri": "https://localhost:8080/",
     "height": 126
    },
    "colab_type": "code",
    "id": "xs14lNOswfYt",
    "outputId": "6158d020-f77b-4f2d-c98b-c2ffd3e7625d"
   },
   "outputs": [
    {
     "name": "stdout",
     "output_type": "stream",
     "text": [
      "\t*** Warning: attribut  cap-surface  -> Valeur inconnue:  y\n",
      "962  --> pas de prédiction, le label rendu est  0\n",
      "\t*** Warning: attribut  cap-surface  -> Valeur inconnue:  y\n",
      "1219  --> pas de prédiction, le label rendu est  0\n",
      "\t*** Warning: attribut  cap-surface  -> Valeur inconnue:  y\n",
      "1349  --> pas de prédiction, le label rendu est  0\n"
     ]
    }
   ],
   "source": [
    "for i in range(0,1400):\n",
    "    prediction = arbres_mushrooms[0].predict(mushrooms_desc[3][i,:])\n",
    "    if prediction == 0:\n",
    "        print(i,\" --> pas de prédiction, le label rendu est \",prediction)\n"
   ]
  },
  {
   "cell_type": "markdown",
   "metadata": {
    "colab_type": "text",
    "id": "qtVZJOwRwfYz"
   },
   "source": [
    "<font color=\"RED\" size=\"+1\">**[Q]**</font> Regrouper les 6 fichiers mushrooms et réaliser une évaluation de l'algorithme de construction d'arbres en utilisant votre fonction `crossvalidation` écrite lors du TDTME 5."
   ]
  },
  {
   "cell_type": "code",
   "execution_count": null,
   "metadata": {
    "colab": {},
    "colab_type": "code",
    "id": "0IZI_iprJHDE"
   },
   "outputs": [],
   "source": [
    "def transform(df):\n",
    "    df_copy = df.copy()\n",
    "    df_copy['Labels'] = 0\n",
    "    df_copy.loc[df['class']== 'e', 'Labels'] = 1\n",
    "    df_copy.loc[df['class']== 'p', 'Labels'] = -1\n",
    "    del df_copy['class']\n",
    "    return df_copy\n"
   ]
  },
  {
   "cell_type": "code",
   "execution_count": null,
   "metadata": {
    "colab": {},
    "colab_type": "code",
    "id": "3YnJw18TwfY1"
   },
   "outputs": [],
   "source": [
    "files = ['mushrooms-1400-1.csv','mushrooms-1400-2.csv', \n",
    "         'mushrooms-1400-3.csv', 'mushrooms-1400-4.csv', 'mushrooms-1400-5.csv', 'mushrooms-1124.csv']\n",
    "dfs = [pd.read_csv(name) for name in files]\n",
    "df = pd.concat(dfs, axis=0)\n"
   ]
  },
  {
   "cell_type": "markdown",
   "metadata": {
    "colab_type": "text",
    "id": "5eXUuNac0vjF"
   },
   "source": []
  },
  {
   "cell_type": "code",
   "execution_count": null,
   "metadata": {
    "colab": {},
    "colab_type": "code",
    "id": "XqLDrxsIIGap"
   },
   "outputs": [],
   "source": [
    "transformed = transform(df)\n",
    "transformed.head()\n",
    "full_data = np.array(transformed.drop('Labels', axis=1))\n",
    "full_labels = np.array(transformed['Labels'])\n",
    "dt = ClassifierArbreDecision(len(mushrooms_noms), 0.0, mushrooms_noms) \n",
    "d = ev.cross_validation([dt], full_data, full_labels, k=250)"
   ]
  },
  {
   "cell_type": "code",
   "execution_count": 323,
   "metadata": {
    "colab": {
     "base_uri": "https://localhost:8080/",
     "height": 90
    },
    "colab_type": "code",
    "id": "KOV1WOddM5j1",
    "outputId": "a5826f72-bd8d-4cce-ccd7-273726a48b99"
   },
   "outputs": [
    {
     "data": {
      "text/plain": [
       "{'ClassifierArbreDecision': {'test_acc': 100.0,\n",
       "  'test_std': 0.0,\n",
       "  'train_acc': 100.0,\n",
       "  'train_std': 0.0}}"
      ]
     },
     "execution_count": 323,
     "metadata": {
      "tags": []
     },
     "output_type": "execute_result"
    }
   ],
   "source": [
    "d"
   ]
  },
  {
   "cell_type": "markdown",
   "metadata": {
    "colab_type": "text",
    "id": "3hS3X98GwfY_"
   },
   "source": [
    "### Comparaison avec d'autres algorithmes\n",
    "\n",
    "<font color=\"RED\" size=\"+1\">**[Q]**</font> Réaliser un ensemble d'expérimentations sur la base mushrooms permettant de comparer les résultats obtenus avec un classifieur par arbres de décision et les classifieurs numériques que l'on a définis dans les séances précédentes."
   ]
  },
  {
   "cell_type": "code",
   "execution_count": null,
   "metadata": {
    "colab": {},
    "colab_type": "code",
    "id": "klrN6UftwfZA"
   },
   "outputs": [],
   "source": [
    "from utils import categories_2_numeriques\n",
    "adapt = ut.AdaptateurCategoriel(transformed, 'Labels')"
   ]
  },
  {
   "cell_type": "code",
   "execution_count": null,
   "metadata": {
    "colab": {},
    "colab_type": "code",
    "id": "MSmWQCMRPktX"
   },
   "outputs": [],
   "source": [
    "knn = cl.ClassifierKNN(adapt.dimension, 50)"
   ]
  },
  {
   "cell_type": "markdown",
   "metadata": {
    "colab_type": "text",
    "id": "wyDWld8JVcQm"
   },
   "source": [
    "On constate que KNN prend énormement de temps sur ce dataset, vue qu'il utilise une métrique de distance"
   ]
  },
  {
   "cell_type": "code",
   "execution_count": 326,
   "metadata": {
    "colab": {
     "base_uri": "https://localhost:8080/",
     "height": 35
    },
    "colab_type": "code",
    "id": "jVg_BUbmQOI_",
    "outputId": "42079d6e-0b00-4cc1-abd2-0e3b40dea49f"
   },
   "outputs": [
    {
     "data": {
      "text/plain": [
       "99.85228951255539"
      ]
     },
     "execution_count": 326,
     "metadata": {
      "tags": []
     },
     "output_type": "execute_result"
    }
   ],
   "source": [
    "adapt.train(knn)\n",
    "adapt.accuracy(knn)"
   ]
  },
  {
   "cell_type": "code",
   "execution_count": 327,
   "metadata": {
    "colab": {
     "base_uri": "https://localhost:8080/",
     "height": 35
    },
    "colab_type": "code",
    "id": "o0WZY5x-SDtW",
    "outputId": "d024d9d6-5aa8-418c-deaf-8f5e672ea698"
   },
   "outputs": [
    {
     "data": {
      "text/plain": [
       "97.82127031019202"
      ]
     },
     "execution_count": 327,
     "metadata": {
      "tags": []
     },
     "output_type": "execute_result"
    }
   ],
   "source": [
    "per = cl.ClassifierPerceptron(adapt.dimension, 0.1)\n",
    "adapt.train(per)\n",
    "adapt.accuracy(per)"
   ]
  },
  {
   "cell_type": "code",
   "execution_count": null,
   "metadata": {
    "colab": {},
    "colab_type": "code",
    "id": "yombgN6QWJ2y"
   },
   "outputs": [],
   "source": []
  },
  {
   "cell_type": "markdown",
   "metadata": {
    "colab_type": "text",
    "id": "6F1PMHcqV3Xh"
   },
   "source": [
    "Conclusion\n",
    "\n",
    "On remarque que l'arbre de décision est bien plus robust et plus rapide à entrainer que KNN"
   ]
  },
  {
   "cell_type": "code",
   "execution_count": null,
   "metadata": {
    "colab": {},
    "colab_type": "code",
    "id": "Kq_yESVIV0T1"
   },
   "outputs": [],
   "source": []
  }
 ],
 "metadata": {
  "colab": {
   "collapsed_sections": [],
   "name": "tme-07-braneci-hamdad.ipynb",
   "provenance": []
  },
  "kernelspec": {
   "display_name": "Python 3",
   "language": "python",
   "name": "python3"
  },
  "language_info": {
   "codemirror_mode": {
    "name": "ipython",
    "version": 3
   },
   "file_extension": ".py",
   "mimetype": "text/x-python",
   "name": "python",
   "nbconvert_exporter": "python",
   "pygments_lexer": "ipython3",
   "version": "3.6.8"
  }
 },
 "nbformat": 4,
 "nbformat_minor": 2
}
