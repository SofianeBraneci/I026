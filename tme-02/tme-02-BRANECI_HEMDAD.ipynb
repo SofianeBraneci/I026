{
 "cells": [
  {
   "cell_type": "markdown",
   "metadata": {},
   "source": [
    "IA & Data science (LU3IN0226) -- 2019-2020\n",
    "--------\n",
    "*&copy; Equipe pédagogique: Gauvain Bourgne, Vincent Guigue, Marie-Jeanne Lesot, Christophe Marsala, Olivier Schwander.*\n"
   ]
  },
  {
   "cell_type": "code",
   "execution_count": null,
   "metadata": {},
   "outputs": [],
   "source": []
  },
  {
   "cell_type": "markdown",
   "metadata": {},
   "source": [
    "# TD-TME02 : programmation du perceptron"
   ]
  },
  {
   "cell_type": "markdown",
   "metadata": {},
   "source": [
    "<font size=\"+1\" color=\"RED\">**[Q]**</font> **Indiquer dans la boîte ci-dessous vos noms et prénoms :**"
   ]
  },
  {
   "cell_type": "markdown",
   "metadata": {},
   "source": [
    "*BRANECI Sofiane et HAMDAD Khellaf*"
   ]
  },
  {
   "cell_type": "markdown",
   "metadata": {},
   "source": [
    "<font color=\"RED\" size=\"+1\">**[Q]**</font> **Renommer ce fichier ipython**\n",
    "\n",
    "Tout en haut de cette page, cliquer sur <tt>tme-02</tt> et rajouter à la suite de <tt>tme-02</tt> les noms des membres du binômes séparés par un tiret."
   ]
  },
  {
   "cell_type": "markdown",
   "metadata": {},
   "source": [
    "<font color=\"RED\" size=\"+1\">IMPORTANT: soumission de votre fichier final</font>\n",
    "\n",
    "**Nom à donner au fichier à poster** : *tme-02-Nom1_Nom2.ipynb* \n",
    "- *Nom1* et *Nom2* : noms des membres du binôme\n",
    "- ne pas compresser ou faire une archive: il faut rendre le fichier ipython tel quel, éventuellement, si vous avez d'autres fichiers vous les rendez séparément.\n",
    "\n",
    "**Echéancier pour la soumission de votre compte-rendu:**\n",
    "- le compte-rendu d'une séance doit être remis obligatoirement <font color=\"RED\">** à la fin de la séance**</font>. C'est ce compte-rendu qui donne la note de base de la séance.\n",
    "- vous pouvez éventuellement compléter votre compte-rendu  pour obtenir des points bonus, dans ce cas, vous devez soumettre votre complément avant le début de la semaine suivante.\n",
    "\n",
    "** Sur la page Moodle de remise du travail <font color=\"RED\">ne pas oublier d'envoyer le compte rendu</font>** à la fin de la séance, la soumission de la version complémentaire post-séance se fera sur une page différente."
   ]
  },
  {
   "cell_type": "markdown",
   "metadata": {},
   "source": [
    "## Présentation ##\n",
    "\n",
    "Dans ce TME, nous allons mettre en place une \"architecture\" de code nous permettant petit à petit de tester tout au long du semestre différents modèles d'apprentissage supervisé. Dans nos séances, nous allons nous restreindre au cas binaire où les données sont étiquetées $+1$ ou $-1$.\n",
    "\n",
    "\n",
    "### Objectifs de ce TME\n",
    "\n",
    "Le travail à réaliser est le suivant :\n",
    "- continuer à apprendre à (bien) utiliser jupyter notebook\n",
    "- générer aléatoirement des datasets jouets pour expérimenter\n",
    "- se familiariser avec la classe `Classifier` et implémenter un premier classifieur simple\n",
    "- implémenter l'algorithme du perceptron de Rosenblatt\n",
    "- réaliser des expérimentations pour étudier les performances de cet algorithme"
   ]
  },
  {
   "cell_type": "markdown",
   "metadata": {},
   "source": [
    "Les imports suivants seront généralement nécessaires pour nos séances:"
   ]
  },
  {
   "cell_type": "code",
   "execution_count": 1,
   "metadata": {},
   "outputs": [],
   "source": [
    "import numpy as np\n",
    "import pandas as pd\n",
    "from datetime import datetime as dt\n",
    "import matplotlib.pyplot as plt\n",
    "%matplotlib inline  "
   ]
  },
  {
   "cell_type": "markdown",
   "metadata": {},
   "source": [
    "**Remarque :** La concaténation de vecteurs s'obtient à l'aide de la fonction `vstack` de numpy."
   ]
  },
  {
   "cell_type": "code",
   "execution_count": 2,
   "metadata": {},
   "outputs": [
    {
     "data": {
      "text/plain": [
       "array([[ 0.  ,  1.5 ,  4.2 ],\n",
       "       [ 1.1 ,  3.8 , 20.01],\n",
       "       [ 1.1 ,  5.3 , 24.21]])"
      ]
     },
     "execution_count": 2,
     "metadata": {},
     "output_type": "execute_result"
    }
   ],
   "source": [
    "# Exemple d'utilisation de vstack (pour plus de détails, chercher la documentation sur le web)\n",
    "\n",
    "vecteur_1 = np.array([0, 1.5, 4.2])\n",
    "vecteur_2 = np.array([1.1, 3.8, 20.01])\n",
    "\n",
    "vecteur_3 = vecteur_1 + vecteur_2\n",
    "\n",
    "np.vstack( (vecteur_1, vecteur_2, vecteur_3) )"
   ]
  },
  {
   "cell_type": "markdown",
   "metadata": {},
   "source": [
    "## Étape 1: dataset\n",
    "\n",
    "La première étape consiste à construire un ensemble de données d'apprentissage, que l'on appelle par la suite simplement *dataset*.\n",
    "\n",
    "Un dataset est un ensemble de couples $\\{(x_1,y_1),...,(x_n,y_n)\\}$. \n",
    "\n",
    "Pour nos implémentations, les $x_i$ et $y_i$ seront des tableaux qui seront stockés sous la forme de <code>ndarray</code> Numpy.\n"
   ]
  },
  {
   "cell_type": "markdown",
   "metadata": {},
   "source": [
    "### Génération de données ''Jouet''\n",
    "\n",
    "Nous allons pour l'instant nous intéresser à des datasets \"jouet\" générés selon des distributions choisies à la main. \n",
    "\n",
    "Pour pouvoir visualiser nos données, nous allons nous restreindre à des dataset en 2 dimensions pour la description (entrée $x_i$ ) et le label (sortie $y_i$). On aura donc ici: $x_i \\in \\mathbb{R}^2$ et $y_i \\in \\{-1;+1\\}$."
   ]
  },
  {
   "cell_type": "markdown",
   "metadata": {},
   "source": [
    "#### Tirage aléatoire selon une loi uniforme\n",
    "\n",
    "Commençons par un dataset dont les données sont générées par un tirage aléatoire selon une loi uniforme.\n",
    "\n",
    "Pour cela, nous utiliserons la fonction `numpy.random.uniform`:\n",
    "\n",
    "https://docs.scipy.org/doc/numpy-1.15.0/reference/generated/numpy.random.uniform.html\n",
    "\n",
    "Cette fonction renvoie :\n",
    "- soit un nombre réel obtenu par un tirage aléatoire\n",
    "- soit `ndarray` dont les dimensions ont été précisées et qui contient un ensemble de nombres réels tirés aléatoirement"
   ]
  },
  {
   "cell_type": "code",
   "execution_count": 3,
   "metadata": {},
   "outputs": [
    {
     "data": {
      "text/plain": [
       "0.26574219109104047"
      ]
     },
     "execution_count": 3,
     "metadata": {},
     "output_type": "execute_result"
    }
   ],
   "source": [
    "np.random.uniform()  # rend un réel aléatoire de l'intervalle [0.0, 1.0[ (tirage uniforme)"
   ]
  },
  {
   "cell_type": "code",
   "execution_count": 4,
   "metadata": {},
   "outputs": [
    {
     "data": {
      "text/plain": [
       "-3.012535676203229"
      ]
     },
     "execution_count": 4,
     "metadata": {},
     "output_type": "execute_result"
    }
   ],
   "source": [
    "np.random.uniform(-7,5) # rend un réel aléatoire de l'intervalle [-7, 5[ (tirage uniforme)"
   ]
  },
  {
   "cell_type": "code",
   "execution_count": 5,
   "metadata": {},
   "outputs": [
    {
     "data": {
      "text/plain": [
       "array([[-5.10377831,  0.08600162, -1.07413828],\n",
       "       [ 4.54242311, -0.4417407 ,  4.10581637],\n",
       "       [-5.36811642, -5.28953598,  1.72728983],\n",
       "       [-5.98418196, -6.30980885, -4.5577258 ]])"
      ]
     },
     "execution_count": 5,
     "metadata": {},
     "output_type": "execute_result"
    }
   ],
   "source": [
    "np.random.uniform(-7,5,(4,3)) # rend un tableau de 4x3 réels aléatoires de l'intervalle [-7, 5[ (tirage uniforme)"
   ]
  },
  {
   "cell_type": "markdown",
   "metadata": {},
   "source": [
    "Pour générer aléatoirement les labels (qui sont donc des valeurs de {-1, +1}), une contrainte supplémentaire s'ajoute: on souhaite que dans le dataset, il y ait autant d'exemples de chaque classe.\n",
    "\n",
    "Ainsi, si on veut générer un ensemble de 20 labels de telle sorte qu'il y ait exactement 10 valeurs -1 et 10 valeurs +1 dans cet ensemble, la méthode la plus simple est de construire une liste en additionnant une liste de 10 valeurs -1 et une liste de 10 valeurs +1. Pour notre implémentation, cette liste doit ensuite être convertie en `ndarray`."
   ]
  },
  {
   "cell_type": "code",
   "execution_count": 6,
   "metadata": {},
   "outputs": [
    {
     "name": "stdout",
     "output_type": "stream",
     "text": [
      "type : <class 'numpy.ndarray'>\n"
     ]
    },
    {
     "data": {
      "text/plain": [
       "array([-1, -1, -1, -1, -1, -1, -1, -1, -1, -1,  1,  1,  1,  1,  1,  1,  1,\n",
       "        1,  1,  1])"
      ]
     },
     "execution_count": 6,
     "metadata": {},
     "output_type": "execute_result"
    }
   ],
   "source": [
    "Lnd = np.asarray([-1 for i in range(0,10)] + [+1 for i in range(0,10)])\n",
    "print(\"type :\", type(Lnd))\n",
    "Lnd"
   ]
  },
  {
   "cell_type": "markdown",
   "metadata": {},
   "source": [
    "Lors de la mise au point d'un programme qui utilise l'aléatoire, il est important de pouvoir travailler sur des séquences aléatoires qui soient toujours les mêmes.\n",
    "Pour cela, on doit préciser une initialisation de la séquence aléatoire, cela se fait en utilisant la commande `numpy.random.seed` :\n",
    "\n",
    "https://docs.scipy.org/doc/numpy-1.15.1/reference/generated/numpy.random.seed.html\n",
    "\n",
    "Cette fonction permet de donner une valeur (que l'on nomme la *graine* de la séquence) pour initialiser la séquence de tirages aléatoires, ainsi, avec la même valeur donnée on obtiendra toujours la même séquence de tirages aléatoires.\n",
    "\n",
    "Par exemple :"
   ]
  },
  {
   "cell_type": "code",
   "execution_count": 7,
   "metadata": {},
   "outputs": [
    {
     "data": {
      "text/plain": [
       "array([-2.50919762,  9.01428613,  4.63987884,  1.97316968, -6.87962719,\n",
       "       -6.88010959, -8.83832776,  7.32352292,  2.02230023,  4.16145156])"
      ]
     },
     "execution_count": 7,
     "metadata": {},
     "output_type": "execute_result"
    }
   ],
   "source": [
    "np.random.seed(42)\n",
    "np.random.uniform(-10,10,10)"
   ]
  },
  {
   "cell_type": "code",
   "execution_count": 8,
   "metadata": {},
   "outputs": [
    {
     "data": {
      "text/plain": [
       "array([-2.50919762,  9.01428613,  4.63987884,  1.97316968, -6.87962719,\n",
       "       -6.88010959, -8.83832776,  7.32352292,  2.02230023,  4.16145156])"
      ]
     },
     "execution_count": 8,
     "metadata": {},
     "output_type": "execute_result"
    }
   ],
   "source": [
    "np.random.seed(42)\n",
    "np.random.uniform(-10,10,10)"
   ]
  },
  {
   "cell_type": "markdown",
   "metadata": {},
   "source": [
    "<font color=\"RED\" size=\"+1\">**[Q]**</font> En utilisant la fonction précédente, créer 2 variables :\n",
    "- `data_desc` : qui est un tableau de 100 exemples de dimension 2 dont les valeurs sont tirées aléatoirement dans l'intervalle [-5,5) \n",
    "- `data_label` : qui est un tableau de 100 entiers de {-1,+1} tirés aléatoirement de façon uniformes et tel qu'il y ait autant de valeurs de chaque."
   ]
  },
  {
   "cell_type": "code",
   "execution_count": 41,
   "metadata": {},
   "outputs": [],
   "source": [
    "np.random.seed(42)   # on prend 42 comme graine\n",
    "\n",
    "# ------------------------ A COMPLETER :\n",
    "data_desc = np.random.uniform(low=-5,high=5,size=(100, 2))\n",
    "data_label = np.asarray([-1 for i in range(0,50)] + [+1 for i in range(0,50)])"
   ]
  },
  {
   "cell_type": "code",
   "execution_count": 10,
   "metadata": {},
   "outputs": [
    {
     "data": {
      "text/plain": [
       "array([[-1.25459881,  4.50714306],\n",
       "       [ 2.31993942,  0.98658484],\n",
       "       [-3.4398136 , -3.4400548 ],\n",
       "       [-4.41916388,  3.66176146],\n",
       "       [ 1.01115012,  2.08072578]])"
      ]
     },
     "execution_count": 10,
     "metadata": {},
     "output_type": "execute_result"
    }
   ],
   "source": [
    "data_desc[0:5,:]"
   ]
  },
  {
   "cell_type": "code",
   "execution_count": 11,
   "metadata": {},
   "outputs": [
    {
     "data": {
      "text/plain": [
       "array([4.85650454, 4.86886937])"
      ]
     },
     "execution_count": 11,
     "metadata": {},
     "output_type": "execute_result"
    }
   ],
   "source": [
    "# maximum des valeurs par colonne:\n",
    "data_desc.max(0)"
   ]
  },
  {
   "cell_type": "code",
   "execution_count": 12,
   "metadata": {},
   "outputs": [
    {
     "data": {
      "text/plain": [
       "array([-4.94477883, -4.83412171])"
      ]
     },
     "execution_count": 12,
     "metadata": {},
     "output_type": "execute_result"
    }
   ],
   "source": [
    "# minimum des valeurs par colonne:\n",
    "data_desc.min(0)"
   ]
  },
  {
   "cell_type": "code",
   "execution_count": 13,
   "metadata": {},
   "outputs": [
    {
     "data": {
      "text/plain": [
       "array([-1, -1, -1, -1, -1])"
      ]
     },
     "execution_count": 13,
     "metadata": {},
     "output_type": "execute_result"
    }
   ],
   "source": [
    "data_label[0:5]"
   ]
  },
  {
   "cell_type": "markdown",
   "metadata": {},
   "source": [
    "<font color=\"RED\" size=\"+1\">**[Q]**</font> Ecrire la fonction `genere_dataset` qui prend en argument le nombre de dimenstions $p$, le nombre $n$  d'exemples de chaque classe, ainsi que 2 valeurs pour les bornes inférieure et supérieure des valeurs de description, et qui renvoie un tuple dont le premier composant est un `ndarray` contenant les vecteurs de description et le deuxième composant est un `ndarray` contenant les labels correspondant (en respectant l'équirépartition des labels).\n",
    "On fera l'hypothèse que $n$ est toujours un nombre pair."
   ]
  },
  {
   "cell_type": "code",
   "execution_count": 32,
   "metadata": {},
   "outputs": [],
   "source": [
    "# ------------------------ A COMPLETER :\n",
    "def genere_dataset_uniform(p, n, low, high):\n",
    "    data = np.random.uniform(low, high, (n, p))\n",
    "    labels = np.asarray([-1 for i in range(0,n//2)] + [+1 for i in range(0,n//2)])\n",
    "    np.random.shuffle(labels)\n",
    "    return data, labels\n",
    "    "
   ]
  },
  {
   "cell_type": "code",
   "execution_count": 33,
   "metadata": {},
   "outputs": [],
   "source": [
    "np.random.seed(42)   # on prend 42 comme graine\n",
    "\n",
    "# Génération d'un dataset de 20 exemples :\n",
    "d_desc, d_lab = genere_dataset_uniform(2,10,-5,5)"
   ]
  },
  {
   "cell_type": "code",
   "execution_count": 34,
   "metadata": {},
   "outputs": [
    {
     "name": "stdout",
     "output_type": "stream",
     "text": [
      "[[-1.25459881  4.50714306]\n",
      " [ 2.31993942  0.98658484]\n",
      " [-3.4398136  -3.4400548 ]\n",
      " [-4.41916388  3.66176146]\n",
      " [ 1.01115012  2.08072578]\n",
      " [-4.79415506  4.69909852]\n",
      " [ 3.32442641 -2.87660889]\n",
      " [-3.18175033 -3.1659549 ]\n",
      " [-1.95757757  0.24756432]\n",
      " [-0.68054981 -2.0877086 ]]\n",
      "[-1  1 -1  1 -1  1  1 -1 -1  1]\n"
     ]
    }
   ],
   "source": [
    "print(d_desc)\n",
    "print(d_lab)"
   ]
  },
  {
   "cell_type": "code",
   "execution_count": 35,
   "metadata": {},
   "outputs": [
    {
     "data": {
      "text/plain": [
       "array([[-1.25459881,  4.50714306],\n",
       "       [ 2.31993942,  0.98658484],\n",
       "       [-3.4398136 , -3.4400548 ],\n",
       "       [-4.41916388,  3.66176146],\n",
       "       [ 1.01115012,  2.08072578]])"
      ]
     },
     "execution_count": 35,
     "metadata": {},
     "output_type": "execute_result"
    }
   ],
   "source": [
    "d_desc[0:5,:]"
   ]
  },
  {
   "cell_type": "code",
   "execution_count": 36,
   "metadata": {},
   "outputs": [
    {
     "data": {
      "text/plain": [
       "array([-1,  1, -1,  1, -1])"
      ]
     },
     "execution_count": 36,
     "metadata": {},
     "output_type": "execute_result"
    }
   ],
   "source": [
    "d_lab[0:5]"
   ]
  },
  {
   "cell_type": "markdown",
   "metadata": {},
   "source": [
    "\n",
    "Un dataset en 2 dimensions peut être affiché en utilisant les fonctions de la librairie `matplotlib` et plus précisément la fonction `matplotlib.pyplot.scatter` permettant de dessiner un nuage de points: \n",
    "\n",
    "http://matplotlib.org/api/pyplot_api.html#matplotlib.pyplot.scatter\n",
    "\n",
    "Par exemple :"
   ]
  },
  {
   "cell_type": "code",
   "execution_count": 42,
   "metadata": {},
   "outputs": [
    {
     "data": {
      "text/plain": [
       "Text(0.5, 1.0, 'scatter plot de dataset jouer ')"
      ]
     },
     "execution_count": 42,
     "metadata": {},
     "output_type": "execute_result"
    },
    {
     "data": {
      "image/png": "[encoded data removed]",
      "text/plain": [
       "<Figure size 432x288 with 1 Axes>"
      ]
     },
     "metadata": {
      "needs_background": "light"
     },
     "output_type": "display_data"
    }
   ],
   "source": [
    "# Affichage de l'ensemble des exemples :\n",
    "plt.scatter(data_desc[:,0],data_desc[:,1],marker='o')\n",
    "plt.xlabel(\"x generated\")\n",
    "plt.ylabel(\"y generated\")\n",
    "plt.title(\"scatter plot de dataset jouer \")"
   ]
  },
  {
   "cell_type": "markdown",
   "metadata": {},
   "source": [
    "Il est intéressant de  faire un affichage des points qui tient compte de la classe et utiliser des couleurs différentes pour afficher les points. Pour faire cela, il faut commencer par séparer les exemples selon leur classe : ceux de classe -1 et ceux de classes +1. On utilise pour cela la puissance des `ndarray` pour faire des sélections (slices)."
   ]
  },
  {
   "cell_type": "code",
   "execution_count": 43,
   "metadata": {},
   "outputs": [],
   "source": [
    "# Extraction des exemples de classe -1:\n",
    "data_negatifs = data_desc[data_label == -1]\n",
    "# Extraction des exemples de classe +1:\n",
    "data_positifs = data_desc[data_label == +1]"
   ]
  },
  {
   "cell_type": "markdown",
   "metadata": {},
   "source": [
    "On peut alors afficher les points en leur donnant une couleur (''marker'') différente."
   ]
  },
  {
   "cell_type": "code",
   "execution_count": 44,
   "metadata": {
    "scrolled": true
   },
   "outputs": [
    {
     "data": {
      "text/plain": [
       "<matplotlib.collections.PathCollection at 0x1f9e5649eb8>"
      ]
     },
     "execution_count": 44,
     "metadata": {},
     "output_type": "execute_result"
    },
    {
     "data": {
      "image/png": "[encoded data removed]",
      "text/plain": [
       "<Figure size 720x720 with 1 Axes>"
      ]
     },
     "metadata": {
      "needs_background": "light"
     },
     "output_type": "display_data"
    }
   ],
   "source": [
    "# Affichage de l'ensemble des exemples :\n",
    "plt.figure(figsize=(10,10))\n",
    "plt.scatter(data_negatifs[:,0],data_negatifs[:,1],marker='o') # 'o' pour la classe -1\n",
    "plt.scatter(data_positifs[:,0],data_positifs[:,1],marker='x') # 'x' pour la classe +1"
   ]
  },
  {
   "cell_type": "markdown",
   "metadata": {},
   "source": [
    "<font color=\"RED\" size=\"+1\">**[Q]**</font> En utilisant les instructions précédentes, écrire la fonction `plot2DSet` qui, étant donné deux `ndarray`, un donnant des descriptions et l'autre les labels correspondants, affiche une représentation graphique de ce jeu de données."
   ]
  },
  {
   "cell_type": "code",
   "execution_count": 45,
   "metadata": {},
   "outputs": [],
   "source": [
    "# ------------------------ A COMPLETER :\n",
    "def plot2DSet(data, labels):\n",
    "    # Extraction des exemples de classe -1:\n",
    "    data_negatifs = data[labels == -1]\n",
    "    # Extraction des exemples de classe +1:\n",
    "    data_positifs = data[labels == +1]\n",
    "#     plt.figure(figsize=(10,10))\n",
    "    plt.scatter(data_negatifs[:,0],data_negatifs[:,1],marker='o') # 'o' pour la classe -1\n",
    "    plt.scatter(data_positifs[:,0],data_positifs[:,1],marker='x') # 'x' pour la classe +1\n",
    "    "
   ]
  },
  {
   "cell_type": "code",
   "execution_count": 46,
   "metadata": {
    "scrolled": true
   },
   "outputs": [
    {
     "data": {
      "image/png": "[encoded data removed]",
      "text/plain": [
       "<Figure size 432x288 with 1 Axes>"
      ]
     },
     "metadata": {
      "needs_background": "light"
     },
     "output_type": "display_data"
    }
   ],
   "source": [
    "# si tout est ok, l'appel suivant affiche exactement la même chose que précédemment\n",
    "plot2DSet(data_desc,data_label)"
   ]
  },
  {
   "cell_type": "markdown",
   "metadata": {},
   "source": [
    "#### Tirage aléatoire selon une loi normale\n",
    "\n",
    "\n",
    "Pour obtenir un dataset plus ''réaliste'', la loi uniforme n'est pas idéale, il est préférable de générer des dataset en utilisant un tirage aléatoire selon une loi normale (ie. représentée par une gaussienne).\n",
    "\n",
    "Pour cela, nous utiliserons la fonction `numpy.random.multivariate_normal` :\n",
    "\n",
    "https://docs.scipy.org/doc/numpy-1.15.0/reference/generated/numpy.random.multivariate_normal.html?highlight=gaussian\n"
   ]
  },
  {
   "cell_type": "markdown",
   "metadata": {},
   "source": [
    "Dans ce qui suit, on considère toujours un dataset en 2 dimensions (entrée) et 1 dimension (sortie) comme précédemment.\n",
    "\n",
    "La façon de procéder avec un tel tirage est différente de celle utilisée dans le cas uniforme: \n",
    "- on commence par tirer aléatoirement tous les exemples de la classe -1\n",
    "- puis on tire aléatoirement tous les exemples de la classe +1\n",
    "- on fusionne ces 2 ensembles en les mettant bout à bout\n",
    "- le tableau des labels est donc facile à construire: d'abord les -1 puis les +1\n"
   ]
  },
  {
   "cell_type": "markdown",
   "metadata": {},
   "source": [
    "<font color=\"RED\" size=\"+1\">**[Q]**</font> Ecrire la fonction <tt>genere_dataset_gaussian</tt> qui, étant donné 5 arguments:\n",
    "- `positive_center` est le centre de la gaussienne des points positifs (vecteur de taille 2)\n",
    "- `positive_sigma` est la variance de la gaussienne des points positifs (sous forme de matrice 2*2)\n",
    "- `negative_center` est le centre de la gaussienne des points négative (vecteur de taille 2)\n",
    "- `negative_sigma` est la variance de la gaussienne des points négative (sous forme de matrice 2*2)\n",
    "- `nb_points` est le nombre de points de chaque classe à générer\n",
    "\n",
    "rend un dataset généré aléatoirement en suivant une loi normale."
   ]
  },
  {
   "cell_type": "code",
   "execution_count": 24,
   "metadata": {},
   "outputs": [
    {
     "data": {
      "text/plain": [
       "array([[-0.01283112,  1.31424733],\n",
       "       [ 0.09197592, -0.4123037 ],\n",
       "       [ 2.46564877,  0.7742237 ],\n",
       "       [ 1.0675282 , -0.42474819],\n",
       "       [ 0.45561728,  1.11092259],\n",
       "       [-0.15099358,  1.37569802],\n",
       "       [ 0.39936131,  0.70830625],\n",
       "       [ 0.39829339,  2.85227818],\n",
       "       [ 0.98650278, -0.05771093],\n",
       "       [ 1.82254491, -0.22084365]])"
      ]
     },
     "execution_count": 24,
     "metadata": {},
     "output_type": "execute_result"
    }
   ],
   "source": [
    "np.random.multivariate_normal(np.array([1,1]),np.array([[1,0],[0,1]]), 10)"
   ]
  },
  {
   "cell_type": "code",
   "execution_count": 263,
   "metadata": {},
   "outputs": [],
   "source": [
    "# ------------------------ A COMPLETER :\n",
    "def genere_dataset_gaussian(positive_center, positive_sigma, negative_center, negative_sigma, nb_point):\n",
    "    data_negative = np.random.multivariate_normal(positive_center, positive_sigma, nb_point)\n",
    "    data_positive = np.random.multivariate_normal(negative_center, negative_sigma,nb_point)\n",
    "    data = np.vstack((data_negative, data_positive))\n",
    "    labels = np.asarray([-1 for i in range(0,nb_point)] + [+1 for i in range(0,nb_point)])\n",
    "    return data, labels"
   ]
  },
  {
   "cell_type": "code",
   "execution_count": 264,
   "metadata": {},
   "outputs": [
    {
     "name": "stdout",
     "output_type": "stream",
     "text": [
      "Taille du dataset généré : (20, 2) exemples (20,)\n"
     ]
    },
    {
     "data": {
      "image/png": "[encoded data removed]",
      "text/plain": [
       "<Figure size 432x288 with 1 Axes>"
      ]
     },
     "metadata": {
      "needs_background": "light"
     },
     "output_type": "display_data"
    }
   ],
   "source": [
    "# Exemple d'utilisation:\n",
    "\n",
    "data_desc, data_label = genere_dataset_gaussian(np.array([2,2]),np.array([[1,0],[0,1]]),np.array([1,1]),np.array([[1,0],[0,1]]),10)\n",
    "\n",
    "print(\"Taille du dataset généré :\", np.shape(data_desc), \"exemples\", data_label.shape)\n",
    "\n",
    "# Affichage :\n",
    "plot2DSet(data_desc,data_label)\n"
   ]
  },
  {
   "cell_type": "code",
   "execution_count": 168,
   "metadata": {},
   "outputs": [
    {
     "data": {
      "text/plain": [
       "40"
      ]
     },
     "execution_count": 168,
     "metadata": {},
     "output_type": "execute_result"
    }
   ],
   "source": [
    "data_desc.size"
   ]
  },
  {
   "cell_type": "markdown",
   "metadata": {},
   "source": [
    "## Étape 2: les classifieurs\n",
    "\n",
    "Un classifieur (binaire dans ce cours) permet, pour chaque point d'entrée donné, de calculer un score (qui est une valeur de $\\mathbb{R}$). Si le score est strictement négatif, la donnée est associée à la classe $-1$, sinon à la classe $+1$. \n",
    "\n",
    "\n",
    "### Représentation orientée objets\n",
    "\n",
    "Pour implémenter nos algorithmes d'apprentissage et pour représenter les données, nous allons utiliser quelques éléments de programmation orientée objet (POO) qu'autorise le langage Python. \n",
    "\n",
    "Si vous ne connaissez rien à la POO, il est fortement conseillé de lire une documentation ou suivre un tutorial sur le web (par exemple, http://apprendre-python.com/page-apprendre-programmation-orientee-objet-poo-classes-python-cours-debutants).\n"
   ]
  },
  {
   "cell_type": "markdown",
   "metadata": {},
   "source": [
    "### La classe Classifier\n",
    "\n",
    "Les classifieurs que l'on va implémenter seront définis à l'aide d'une classe qui va dériver de la classe `Classifier` suivante. Cette classe est une classe \"abstraite\", elle sera dérivée par héritage pour définir des classifieurs particuliers (knn, arbres de décision, etc.).\n",
    "\n",
    "Cette classe contient 5 méthodes:\n",
    "- `__init__`: qui permet d'initialiser les paramètres du classifieur. Les classes filles étendront cette méthode en rajoutant les paramètres qui les concernent. Le paramètre obligatoire d'un classifieur est le nombre de dimensions des données qu'il aura à traiter.\n",
    "- `train`: c'est la méthodes qui permet d'entraîner le modèle, on doit donc donner en argument le dataset qui sert à l'entraînement.\n",
    "- `score`: cette méthode est utilisée une fois le classifieur entrainé. Elle prend en argument la description d'un exemple et elle rend un score (une valeur de $\\mathbb{R}$).\n",
    "- `predict`: cette méthode, comme la précédente, s'utilise une fois le classifieur entraîné, elle donne le label (-1 ou bien +1) qui est prédit par le classifieur pour la description d'exemple donnée en argument. Généralement, cette valeur de prédiction s'obtient à partir du score: si le score est strictement négatif la prédiction vaut  $-1$, sinon elle vaut $+1$.\n",
    "- `accuracy`: comme les 2 précédentes, cette méthode s'utilise une fois le classifieur entraîné. Elle permet de calculer la qualité du classifieur sur un dataset donné, cette qualité est le taux de bonne classification du classifieur sur le dataset. C'est donc une valeur de $[0,1]$ qui s'obtient divisant le nombre d'exemples du dataset qui sont bien classés par le classifieur par le nombre total d'exemples du dataset.\n",
    "\n",
    "Les méthodes `train`, `score` et `predict` ne seront pas définies dans la classe `Classifier` mais dans les classes qui hériteront ce cette classe car ces méthodes dépendent du modèle que l'on choisira d'implémenter.\n",
    "\n",
    "Par contre, la fonction `accuracy` renvoie le pourcentage de points bien classés. Elle peut être définie dès maintenant dans cette classe `Classifier`.\n"
   ]
  },
  {
   "cell_type": "markdown",
   "metadata": {},
   "source": [
    "<font color=\"RED\" size=\"+1\">**[Q]**</font> Compléter la classe `Classifier` ci-dessous en donnant l'implémentation de la fonction `accuracy`. Penser à déjà bien examiner les méthodes existantes dans la classe (et que l'on peut utiliser avant qu'elles soient implémentées)."
   ]
  },
  {
   "cell_type": "code",
   "execution_count": 110,
   "metadata": {},
   "outputs": [],
   "source": [
    "# ------------------------ A COMPLETER :\n",
    "class Classifier:\n",
    "    \"\"\" Classe pour représenter un classifieur\n",
    "        Attention: cette classe est une classe abstraite, elle ne peut pas être\n",
    "        instanciée.\n",
    "    \"\"\"\n",
    "    \n",
    "    def __init__(self, input_dimension):\n",
    "        \"\"\" Constructeur de Classifier\n",
    "            Argument:\n",
    "                - intput_dimension (int) : dimension de la description des exemples\n",
    "            Hypothèse : input_dimension > 0\n",
    "        \"\"\"\n",
    "        if input_dimension <= 0:\n",
    "            raise ValueError('input_dimention doit être positife')\n",
    "        self.input_dimension = input_dimension\n",
    "        \n",
    "    def train(self, desc_set, label_set):\n",
    "        \"\"\" Permet d'entrainer le modele sur l'ensemble donné\n",
    "            desc_set: ndarray avec des descriptions\n",
    "            label_set: ndarray avec les labels correspondants\n",
    "            Hypothèse: desc_set et label_set ont le même nombre de lignes\n",
    "        \"\"\"        \n",
    "        raise NotImplementedError(\"Please Implement this method\")\n",
    "    \n",
    "    def score(self,x):\n",
    "        \"\"\" rend le score de prédiction sur x (valeur réelle)\n",
    "            x: une description\n",
    "        \"\"\"\n",
    "        raise NotImplementedError(\"Please Implement this method\")\n",
    "    \n",
    "    def predict(self, x):\n",
    "        \"\"\" rend la prediction sur x (soit -1 ou soit +1)\n",
    "            x: une description\n",
    "        \"\"\"\n",
    "        raise NotImplementedError(\"Please Implement this method\")\n",
    "\n",
    "    def accuracy(self, desc_set, label_set):\n",
    "        \"\"\" Permet de calculer la qualité du système sur un dataset donné\n",
    "            desc_set: ndarray avec des descriptions\n",
    "            label_set: ndarray avec les labels correspondants\n",
    "            Hypothèse: desc_set et label_set ont le même nombre de lignes\n",
    "        \"\"\"\n",
    "        # TODO !!!!\n",
    "        acc = 0\n",
    "        for i in range(len(label_set)):\n",
    "            if (self.predict(desc_set[i]) * label_set[i]) > 0:\n",
    "                acc += 1\n",
    "#         print(acc)\n",
    "        return (acc/ len(label_set)) * 100\n",
    "        # raise NotImplementedError(\"Please Implement this method\")"
   ]
  },
  {
   "cell_type": "markdown",
   "metadata": {},
   "source": [
    "### Un premier classifieur \n",
    "Nous allons maintenant définir un **classifieur linéaire aléatoire** en étendant la classe `Classifier` et en implémentant le constructeur ainsi que les 3 méthodes `predict`, `score` et `train`.\n",
    "\n",
    "Pour un classifieur linéaire aléatoire:\n",
    "- dans le constructeur, on doit générer aléatoirement un vecteur $w$ de taille `input_dimension`\n",
    "- pour ce classifieur, la méthode `train` ne fait rien. On ne mettra qu'un print permettant d'afficher le message \"Pas d'apprentissage pour ce classifieur\"\n",
    "- pour une description d'exemple $x$, la méthode `score` doit utiliser la valeur de $\\langle x | w\\rangle$ pour prédire le label (+1 ou -1) associé\n",
    "- pour une description d'exemple $x$, la méthode `predict` doit utiliser la valeur de $\\langle x | w\\rangle$ pour prédire le label (+1 ou -1) associé\n"
   ]
  },
  {
   "cell_type": "markdown",
   "metadata": {},
   "source": [
    "<font color=\"RED\" size=\"+1\">**[Q]**</font> Compléter l'implémentation suivante de la classe <code>ClassifierLineaireRandom</code> qui hérite de la classe `Classifier` et permet de définir un classifieur linéaire aléatoire."
   ]
  },
  {
   "cell_type": "code",
   "execution_count": 126,
   "metadata": {},
   "outputs": [],
   "source": [
    "# ------------------------ A COMPLETER :\n",
    "class ClassifierLineaireRandom(Classifier):\n",
    "    \"\"\" Classe pour représenter un classifieur linéaire aléatoire\n",
    "        Cette classe hérite de la classe Classifier\n",
    "    \"\"\"\n",
    "    \n",
    "    def __init__(self, input_dimension):\n",
    "        \"\"\" Constructeur de Classifier\n",
    "            Argument:\n",
    "                - intput_dimension (int) : dimension de la description des exemples\n",
    "            Hypothèse : input_dimension > 0\n",
    "        \"\"\"\n",
    "        Classifier.__init__(self, input_dimension)\n",
    "        self.w = np.random.randn(input_dimension)\n",
    "        \n",
    "    def train(self, desc_set, label_set):\n",
    "        \"\"\" Permet d'entrainer le modele sur l'ensemble donné\n",
    "            desc_set: ndarray avec des descriptions\n",
    "            label_set: ndarray avec les labels correspondants\n",
    "            Hypothèse: desc_set et label_set ont le même nombre de lignes\n",
    "        \"\"\"        \n",
    "        print(\"Pas d'apprentissage pour ce classifier !\")\n",
    "    \n",
    "    def score(self,x):\n",
    "        \"\"\" rend le score de prédiction sur x (valeur réelle)\n",
    "            x: une description\n",
    "        \"\"\"\n",
    "        return np.dot(self.w, x)\n",
    "        # raise NotImplementedError(\"Please Implement this method\")\n",
    "    \n",
    "    def predict(self, x):\n",
    "        \"\"\" rend la prediction sur x (soit -1 ou soit +1)\n",
    "            x: une description\n",
    "        \"\"\"\n",
    "        if self.score(x) > 0:\n",
    "            return 1\n",
    "        else:\n",
    "            return -1\n",
    "        #raise NotImplementedError(\"Please Implement this method\")\n",
    "    "
   ]
  },
  {
   "cell_type": "code",
   "execution_count": null,
   "metadata": {},
   "outputs": [],
   "source": []
  },
  {
   "cell_type": "markdown",
   "metadata": {},
   "source": [
    "Utilisation de la classe ainsi créée:"
   ]
  },
  {
   "cell_type": "code",
   "execution_count": 127,
   "metadata": {},
   "outputs": [
    {
     "name": "stdout",
     "output_type": "stream",
     "text": [
      "Pas d'apprentissage pour ce classifier !\n",
      "Classification du dataset:\n",
      "\t+1.648 +2.523 : -1 ---> +1 [+0.46959]\n",
      "\t+0.766 +0.766 : -1 ---> +1 [+0.27452]\n",
      "\t+2.579 +1.767 : -1 ---> +1 [+1.03676]\n",
      "\t+0.531 +1.543 : -1 ---> +1 [+0.05024]\n",
      "\t+0.537 +0.534 : -1 ---> +1 [+0.19266]\n",
      "\t+1.242 -0.913 : -1 ---> +1 [+0.74317]\n",
      "\t-0.725 +0.438 : -1 ---> -1 [-0.42060]\n",
      "\t-0.013 +1.314 : -1 ---> -1 [-0.18809]\n",
      "\t+0.092 -0.412 : -1 ---> +1 [+0.10269]\n",
      "\t+2.466 +0.774 : -1 ---> +1 [+1.11768]\n",
      "\t-0.932 -2.425 : +1 ---> -1 [-0.12792]\n",
      "\t-1.544 -0.889 : +1 ---> -1 [-0.64419]\n",
      "\t-2.151 -0.624 : +1 ---> -1 [-0.98211]\n",
      "\t-1.601 -1.292 : +1 ---> -1 [-0.61646]\n",
      "\t-1.602 +0.852 : +1 ---> -1 [-0.91343]\n",
      "\t-1.013 -2.058 : +1 ---> -1 [-0.21891]\n",
      "\t-0.177 -2.221 : +1 ---> +1 [+0.21892]\n",
      "\t-0.791 -2.960 : +1 ---> +1 [+0.01625]\n",
      "\t-2.328 -0.803 : +1 ---> -1 [-1.04540]\n",
      "\t-0.262 -0.829 : +1 ---> -1 [-0.01534]\n",
      "Taux de bonne classification sur le dataset:  20.0\n"
     ]
    }
   ],
   "source": [
    "# Pour avoir les mêmes valeurs aléatoires :\n",
    "np.random.seed(42)   # supprimer cette ligne une fois la mise au point terminée\n",
    "\n",
    "# Création d'un classifieur linéaire aléatoire de dimension 2:\n",
    "un_classifieur = ClassifierLineaireRandom(2)\n",
    "\n",
    "# Par définition, ce classifieur n'a pas besoin d'entraînement\n",
    "un_classifieur.train(data_desc,data_label)\n",
    "# plot2DSet(data_desc,data_label)\n",
    "# Classification du dataset (contrôle de predict et score):\n",
    "print(\"Classification du dataset:\")\n",
    "for i in range(data_desc.shape[0]):\n",
    "    print(\"\\t{0:+.3f} {1:+.3f} : {2:+} ---> {3:+} [{4:+.5f}]\".format(data_desc[i,:][0], data_desc[i,:][1], \\\n",
    "                                                                  data_label[i], \\\n",
    "                                                                  un_classifieur.predict(data_desc[i,:]), \\\n",
    "                                                                  un_classifieur.score(data_desc[i,:])) )\n",
    "\n",
    "# Affichage du taux de bonne classification    \n",
    "print(\"Taux de bonne classification sur le dataset: \", un_classifieur.accuracy(data_desc,data_label))   \n"
   ]
  },
  {
   "cell_type": "code",
   "execution_count": 128,
   "metadata": {},
   "outputs": [
    {
     "data": {
      "image/png": "[encoded data removed]",
      "text/plain": [
       "<Figure size 432x288 with 1 Axes>"
      ]
     },
     "metadata": {
      "needs_background": "light"
     },
     "output_type": "display_data"
    }
   ],
   "source": [
    "plot2DSet(data_desc,data_label)"
   ]
  },
  {
   "cell_type": "code",
   "execution_count": 129,
   "metadata": {},
   "outputs": [
    {
     "data": {
      "text/plain": [
       "(20, 2)"
      ]
     },
     "execution_count": 129,
     "metadata": {},
     "output_type": "execute_result"
    }
   ],
   "source": [
    "data_desc.shape"
   ]
  },
  {
   "cell_type": "markdown",
   "metadata": {},
   "source": [
    "\n",
    "<font color=\"RED\" size=\"+1\">**[Q]**</font> Calculer la performance (*accuracy*) d'un classifieur linéaire aléatoire sur un dataset de 100 points générés aléatoirement."
   ]
  },
  {
   "cell_type": "code",
   "execution_count": 131,
   "metadata": {},
   "outputs": [
    {
     "name": "stdout",
     "output_type": "stream",
     "text": [
      "Taille du dataset généré : (100, 2) exemples (100,)\n",
      "Pas d'apprentissage pour ce classifier !\n",
      "Classification du dataset:\n",
      "\t+1.515 +1.514 : -1 ---> -1 [-3.50688]\n",
      "\t+1.515 +4.853 : -1 ---> -1 [-6.63825]\n",
      "\t+1.571 +2.136 : -1 ---> -1 [-4.16695]\n",
      "\t+1.954 +1.651 : -1 ---> -1 [-4.24068]\n",
      "\t+0.685 +1.759 : -1 ---> -1 [-2.59294]\n",
      "\t+0.227 +0.763 : -1 ---> -1 [-1.02870]\n",
      "\t+0.515 +1.082 : -1 ---> -1 [-1.72361]\n",
      "\t+3.315 -0.867 : -1 ---> -1 [-3.75316]\n",
      "\t+1.686 -0.613 : -1 ---> -1 [-1.74849]\n",
      "\t+0.528 +2.089 : -1 ---> -1 [-2.68657]\n",
      "\t+1.064 -0.078 : -1 ---> -1 [-1.39331]\n",
      "\t+0.285 +1.680 : -1 ---> -1 [-1.96739]\n",
      "\t+0.270 +1.216 : -1 ---> -1 [-1.51229]\n",
      "\t+1.046 +0.348 : -1 ---> -1 [-1.76719]\n",
      "\t+3.144 +1.634 : -1 ---> -1 [-5.86365]\n",
      "\t-1.025 +1.186 : -1 ---> +1 [+0.29962]\n",
      "\t+0.338 +1.852 : -1 ---> -1 [-2.20320]\n",
      "\t+0.207 +0.885 : -1 ---> -1 [-1.11606]\n",
      "\t+1.505 +1.866 : -1 ---> -1 [-3.82313]\n",
      "\t-0.200 +0.665 : -1 ---> -1 [-0.34818]\n",
      "\t+0.525 +0.347 : -1 ---> -1 [-1.04847]\n",
      "\t+2.765 +1.405 : -1 ---> -1 [-5.12751]\n",
      "\t-0.261 +1.918 : -1 ---> -1 [-1.43921]\n",
      "\t+3.122 +2.032 : -1 ---> -1 [-6.20740]\n",
      "\t-0.519 +0.516 : -1 ---> +1 [+0.23182]\n",
      "\t+2.267 +0.292 : -1 ---> -1 [-3.39721]\n",
      "\t+1.444 +1.775 : -1 ---> -1 [-3.65340]\n",
      "\t+0.073 +0.940 : -1 ---> -1 [-0.98267]\n",
      "\t-2.241 -0.024 : -1 ---> +1 [+3.11060]\n",
      "\t+0.747 -0.248 : -1 ---> -1 [-0.79734]\n",
      "\t+2.632 -0.430 : -1 ---> -1 [-3.22320]\n",
      "\t+0.560 +1.131 : -1 ---> -1 [-1.83187]\n",
      "\t+2.441 -0.436 : -1 ---> -1 [-2.95450]\n",
      "\t+2.163 +1.010 : -1 ---> -1 [-3.92755]\n",
      "\t+0.018 +1.462 : -1 ---> -1 [-1.39667]\n",
      "\t+1.199 +0.400 : -1 ---> -1 [-2.02683]\n",
      "\t+1.070 +0.615 : -1 ---> -1 [-2.05030]\n",
      "\t+1.114 +1.662 : -1 ---> -1 [-3.09285]\n",
      "\t+2.586 -0.238 : -1 ---> -1 [-3.33965]\n",
      "\t+3.133 -0.952 : -1 ---> -1 [-3.42339]\n",
      "\t+0.848 +1.588 : -1 ---> -1 [-2.65812]\n",
      "\t+1.281 +0.377 : -1 ---> -1 [-2.11863]\n",
      "\t+0.792 +0.507 : -1 ---> -1 [-1.56642]\n",
      "\t+0.411 +1.850 : -1 ---> -1 [-2.30032]\n",
      "\t+1.357 +0.307 : -1 ---> -1 [-2.15752]\n",
      "\t+1.900 +1.307 : -1 ---> -1 [-3.84304]\n",
      "\t+1.813 +1.630 : -1 ---> -1 [-4.02583]\n",
      "\t+0.171 +0.440 : -1 ---> -1 [-0.64806]\n",
      "\t+1.747 +1.610 : -1 ---> -1 [-3.91744]\n",
      "\t+0.979 +1.117 : -1 ---> -1 [-2.39673]\n",
      "\t+0.278 -1.592 : +1 ---> +1 [+1.11009]\n",
      "\t-0.453 -1.202 : +1 ---> +1 [+1.75140]\n",
      "\t-1.218 +0.099 : +1 ---> +1 [+1.58493]\n",
      "\t-0.175 -0.186 : +1 ---> +1 [+0.41541]\n",
      "\t+0.305 -0.979 : +1 ---> +1 [+0.49728]\n",
      "\t-0.318 -1.310 : +1 ---> +1 [+1.66696]\n",
      "\t-0.676 -1.130 : +1 ---> +1 [+1.99095]\n",
      "\t-0.903 -0.405 : +1 ---> +1 [+1.62371]\n",
      "\t-1.818 +1.092 : +1 ---> +1 [+1.48044]\n",
      "\t-2.006 -2.214 : +1 ---> +1 [+4.84015]\n",
      "\t+0.158 -0.208 : +1 ---> -1 [-0.02244]\n",
      "\t-0.376 -0.372 : +1 ---> +1 [+0.86639]\n",
      "\t-1.012 -1.897 : +1 ---> +1 [+3.17383]\n",
      "\t-0.924 -1.677 : +1 ---> +1 [+2.84612]\n",
      "\t-0.025 -1.147 : +1 ---> +1 [+1.11002]\n",
      "\t-1.825 -1.321 : +1 ---> +1 [+3.75416]\n",
      "\t-0.587 -1.564 : +1 ---> +1 [+2.27529]\n",
      "\t-1.822 -0.756 : +1 ---> +1 [+3.21971]\n",
      "\t-0.755 -1.507 : +1 ---> +1 [+2.45344]\n",
      "\t-1.471 -0.768 : +1 ---> +1 [+2.74681]\n",
      "\t-2.448 -2.407 : +1 ---> +1 [+5.63043]\n",
      "\t-1.718 -1.213 : +1 ---> +1 [+3.50545]\n",
      "\t-0.689 +0.475 : +1 ---> +1 [+0.50354]\n",
      "\t-0.142 -1.160 : +1 ---> +1 [+1.28392]\n",
      "\t-1.019 -2.003 : +1 ---> +1 [+3.28189]\n",
      "\t-1.019 -1.289 : +1 ---> +1 [+2.61171]\n",
      "\t-0.677 -1.827 : +1 ---> +1 [+2.64669]\n",
      "\t-0.481 +0.533 : +1 ---> +1 [+0.16257]\n",
      "\t-1.109 -0.598 : +1 ---> +1 [+2.08859]\n",
      "\t-0.310 -1.401 : +1 ---> +1 [+1.74098]\n",
      "\t-0.776 -0.987 : +1 ---> +1 [+1.99496]\n",
      "\t-0.902 -1.773 : +1 ---> +1 [+2.90588]\n",
      "\t-0.975 -0.502 : +1 ---> +1 [+1.81469]\n",
      "\t+0.451 -0.041 : +1 ---> -1 [-0.58333]\n",
      "\t+1.153 -1.767 : +1 ---> +1 [+0.06876]\n",
      "\t-0.128 -0.817 : +1 ---> +1 [+0.94178]\n",
      "\t+1.190 -1.808 : +1 ---> +1 [+0.05671]\n",
      "\t-1.840 -1.599 : +1 ---> +1 [+4.03448]\n",
      "\t-3.124 -1.526 : +1 ---> +1 [+5.73459]\n",
      "\t-1.759 -0.850 : +1 ---> +1 [+3.22029]\n",
      "\t-0.658 +0.876 : +1 ---> +1 [+0.08515]\n",
      "\t-0.050 -1.577 : +1 ---> +1 [+1.54716]\n",
      "\t-1.898 -0.508 : +1 ---> +1 [+3.09188]\n",
      "\t-2.320 +0.831 : +1 ---> +1 [+2.41675]\n",
      "\t+0.179 -1.469 : +1 ---> +1 [+1.13062]\n",
      "\t-2.713 +0.354 : +1 ---> +1 [+3.40593]\n",
      "\t-1.115 +0.238 : +1 ---> +1 [+1.31244]\n",
      "\t-2.594 -1.599 : +1 ---> +1 [+5.07420]\n",
      "\t-0.995 -0.953 : +1 ---> +1 [+2.26421]\n",
      "\t-1.450 -0.377 : +1 ---> +1 [+2.35141]\n",
      "Taux de bonne classification sur le dataset:  95.0\n"
     ]
    }
   ],
   "source": [
    "classifieur = ClassifierLineaireRandom(2)\n",
    "data, labels = genere_dataset_gaussian(np.array([1,1]),np.array([[1,0],[0,1]]),np.array([-1,-1]),np.array([[1,0],[0,1]]),50)\n",
    "print(\"Taille du dataset généré :\", np.shape(data), \"exemples\", labels.shape)\n",
    "\n",
    "classifieur.train(data_desc,data_label)\n",
    "\n",
    "# Classification du dataset (contrôle de predict et score):\n",
    "print(\"Classification du dataset:\")\n",
    "for i in range(data.shape[0]):\n",
    "    print(\"\\t{0:+.3f} {1:+.3f} : {2:+} ---> {3:+} [{4:+.5f}]\".format(data[i,:][0], data[i,:][1], \\\n",
    "                                                                  labels[i], \\\n",
    "                                                                  classifieur.predict(data[i,:]), \\\n",
    "                                                                  classifieur.score(data[i,:])) )\n",
    "\n",
    "# Affichage du taux de bonne classification    \n",
    "print(\"Taux de bonne classification sur le dataset: \", classifieur.accuracy(data,labels))   \n",
    "\n",
    "#print(\"Taux de bonne classification sur le dataset: \", classifieur.accuracy(data_desc,data_label))   "
   ]
  },
  {
   "cell_type": "markdown",
   "metadata": {},
   "source": [
    "Voici une fonction qui permet de dessiner la frontière de decision d'un classifieur. La valeur `step` permet de choisir la précision du dessin."
   ]
  },
  {
   "cell_type": "code",
   "execution_count": 189,
   "metadata": {},
   "outputs": [],
   "source": [
    "def plot_frontiere(desc_set, label_set, classifier, step=30):\n",
    "    \"\"\" desc_set * label_set * Classifier * int -> NoneType\n",
    "        Remarque: le 4e argument est optionnel et donne la \"résolution\" du tracé\n",
    "        affiche la frontière de décision associée au classifieur\n",
    "    \"\"\"\n",
    "    mmax=desc_set.max(0)\n",
    "    mmin=desc_set.min(0)\n",
    "    x1grid,x2grid=np.meshgrid(np.linspace(mmin[0],mmax[0],step),np.linspace(mmin[1],mmax[1],step))\n",
    "    grid=np.hstack((x1grid.reshape(x1grid.size,1),x2grid.reshape(x2grid.size,1)))\n",
    "    \n",
    "    # calcul de la prediction pour chaque point de la grille\n",
    "    res=np.array([classifier.predict(grid[i,:]) for i in range(len(grid)) ])\n",
    "    res=res.reshape(x1grid.shape)\n",
    "    # tracer des frontieres\n",
    "    plt.contourf(x1grid,x2grid,res,colors=[\"red\",\"cyan\"],levels=[-1000,0,1000])\n",
    "#     plot2DSet(data_desc,data_label)"
   ]
  },
  {
   "cell_type": "code",
   "execution_count": 190,
   "metadata": {},
   "outputs": [
    {
     "data": {
      "image/png": "[encoded data removed]",
      "text/plain": [
       "<Figure size 432x288 with 1 Axes>"
      ]
     },
     "metadata": {
      "needs_background": "light"
     },
     "output_type": "display_data"
    }
   ],
   "source": [
    "# Affichage de la frontière de séparation des classes\n",
    "plot_frontiere(data_desc,data_label,un_classifieur)\n",
    "plot2DSet(data_desc,data_label)"
   ]
  },
  {
   "cell_type": "markdown",
   "metadata": {},
   "source": [
    "## Étape 3 : Perceptron de Rosenblatt\n",
    "\n",
    "De la même façon que nous avons défini un classifieur aléatoire, nous allons maintenant définir un autre classifieur : le perceptron de Rosenblatt."
   ]
  },
  {
   "cell_type": "markdown",
   "metadata": {},
   "source": [
    "<font color=\"RED\" size=\"+1\">**[Q]**</font> En héritant de la classe `Classifier`, écrire la classe `ClassifierPerceptron` qui implémente l'algorithme du Perceptron vu en cours. A l'initialisation, on fournira le learning_rate (aussi noté epsilon) de ce perceptron.\n",
    "\n",
    "La fonction `train` fera **une itération** sur l'ensemble des données de l'apprentissage. Les exemples d'apprentissage seront pris dans un ordre aléatoire choisi lors de l'exécution.\n",
    "\n"
   ]
  },
  {
   "cell_type": "code",
   "execution_count": 216,
   "metadata": {},
   "outputs": [],
   "source": [
    "# ------------------------ A COMPLETER :\n",
    "class ClassifierPerceptron(Classifier):\n",
    "    \"\"\" Perceptron de Rosenblatt\n",
    "    \"\"\"\n",
    "    def __init__(self, input_dimension,learning_rate):\n",
    "        \"\"\" Constructeur de Classifier\n",
    "            Argument:\n",
    "                - input_dimension (int) : dimension de la description des exemples\n",
    "                - learning_rate : epsilon\n",
    "            Hypothèse : input_dimension > 0\n",
    "        \"\"\"\n",
    "        Classifier.__init__(self, input_dimension)\n",
    "        self.learning_rate = learning_rate\n",
    "        self.w = np.random.rand(input_dimension) - 0.5 \n",
    "        \n",
    "    def train(self, desc_set, label_set):\n",
    "        \"\"\" Permet d'entrainer le modele sur l'ensemble donné\n",
    "            réalise une itération sur l'ensemble des données prises aléatoirement\n",
    "            desc_set: ndarray avec des descriptions\n",
    "            label_set: ndarray avec les labels correspondants\n",
    "            Hypothèse: desc_set et label_set ont le même nombre de lignes\n",
    "        \"\"\" \n",
    "#        // print(self.w)\n",
    "        \n",
    "    \n",
    "#         for data, label in zip(data_desc, labels):\n",
    "#             print(data, label)\n",
    "#         for _ in range(1000):\n",
    "        for _ in range(1000):\n",
    "            index = np.random.randint(len(data_desc))\n",
    "            data = data_desc[index,:]\n",
    "#             v = np.ones(3)\n",
    "#             v[:len(data)] = data.copy()\n",
    "            label = label_set[index]\n",
    "            if (data @ self.w)* label < 0:\n",
    "                self.w = self.w + (self.learning_rate *  data *  label)\n",
    "        #raise NotImplementedError(\"Please Implement this method\")\n",
    "    \n",
    "    def score(self,x):\n",
    "        \"\"\" rend le score de prédiction sur x (valeur réelle)\n",
    "            x: une description\n",
    "        \"\"\"\n",
    "#         y = np.ones(3)\n",
    "#         y[:len(x)] = x\n",
    "        return (self.w @ x )\n",
    "       #  raise NotImplementedError(\"Please Implement this method\")\n",
    "    \n",
    "    def predict(self, x):\n",
    "        \"\"\" rend la prediction sur x (soit -1 ou soit +1)\n",
    "            x: une description\n",
    "        \"\"\"\n",
    "#         y = np.ones(len(x) + 1)\n",
    "#         y[:len(x)] = x\n",
    "        if (self.score(x)) > 0:\n",
    "            return +1\n",
    "        else:\n",
    "            return -1\n",
    "#         raise NotImplementedError(\"Please Implement this method\")\n",
    "\n",
    "    "
   ]
  },
  {
   "cell_type": "code",
   "execution_count": 217,
   "metadata": {},
   "outputs": [
    {
     "name": "stdout",
     "output_type": "stream",
     "text": [
      "Classification du dataset:\n",
      "\t+2.472 +0.470 : -1 ---> -1 [-0.25727]\n",
      "\t+3.039 +1.302 : -1 ---> -1 [-0.27692]\n",
      "\t+1.093 +1.279 : -1 ---> -1 [-0.05547]\n",
      "\t+2.078 +0.515 : -1 ---> -1 [-0.20981]\n",
      "\t+1.963 +2.429 : -1 ---> -1 [-0.09244]\n",
      "\t+3.107 +2.176 : -1 ---> -1 [-0.23719]\n",
      "\t+0.660 +2.149 : -1 ---> +1 [+0.04136]\n",
      "\t+0.940 +0.882 : -1 ---> -1 [-0.05954]\n",
      "\t+0.637 +0.089 : -1 ---> -1 [-0.06810]\n",
      "\t+1.433 +3.129 : -1 ---> +1 [+0.00629]\n",
      "\t+3.256 +0.426 : +1 ---> -1 [-0.34946]\n",
      "\t+2.086 +0.605 : +1 ---> -1 [-0.20578]\n",
      "\t-0.651 +1.701 : +1 ---> +1 [+0.16703]\n",
      "\t+1.235 +2.818 : +1 ---> +1 [+0.01204]\n",
      "\t-0.535 +3.796 : +1 ---> +1 [+0.26775]\n",
      "\t+2.592 +0.982 : +1 ---> -1 [-0.24315]\n",
      "\t+0.701 +0.284 : +1 ---> -1 [-0.06480]\n",
      "\t+1.110 +0.816 : +1 ---> -1 [-0.08259]\n",
      "\t+1.514 +0.706 : +1 ---> -1 [-0.13484]\n",
      "\t+2.415 +1.125 : +1 ---> -1 [-0.21514]\n",
      "Taux de bonne classification sur le dataset:  55.00000000000001\n"
     ]
    },
    {
     "data": {
      "image/png": "[encoded data removed]",
      "text/plain": [
       "<Figure size 432x288 with 1 Axes>"
      ]
     },
     "metadata": {
      "needs_background": "light"
     },
     "output_type": "display_data"
    }
   ],
   "source": [
    "# Pour avoir les mêmes valeurs aléatoires :\n",
    "np.random.seed(42)   # supprimer cette ligne une fois la mise au point terminée\n",
    "plot2DSet(data_desc,data_label)\n",
    "# Création d'un perceptron\n",
    "un_perceptron = ClassifierPerceptron(2,0.1)\n",
    "\n",
    "# Entraînement avec les données générées précédemment\n",
    "un_perceptron.train(data_desc,data_label)\n",
    "\n",
    "# Classification du dataset (contrôle de predict et score):\n",
    "print(\"Classification du dataset:\")\n",
    "for i in range(data_desc.shape[0]):\n",
    "    print(\"\\t{0:+.3f} {1:+.3f} : {2:+} ---> {3:+} [{4:+.5f}]\".format(data_desc[i,:][0], data_desc[i,:][1], \\\n",
    "                                                                  data_label[i], \\\n",
    "                                                                  un_perceptron.predict(data_desc[i,:]), \\\n",
    "                                                                  un_perceptron.score(data_desc[i,:])) )\n",
    "\n",
    "# Affichage du taux de bonne classification    \n",
    "print(\"Taux de bonne classification sur le dataset: \", un_perceptron.accuracy(data_desc,data_label))   "
   ]
  },
  {
   "cell_type": "markdown",
   "metadata": {},
   "source": [
    "<font color=\"RED\" size=\"+1\">**[Q]**</font> Tester le perceptron de la manière suivante:\n",
    "- Initialiser un perceptron pour le dataset (data_desc,data_label) généré précédemment, ce perceptron aura un learning rate de $0.01$\n",
    "- Apprendre pendant N itérations (tester pour N=10, 100, 1000)\n",
    "- Afficher l'accuracy du modèle sur le dataset à chaque itération (vous pouvez tracer une courbe)\n",
    "- Vérifier que l'accuracy baisse\n",
    "- Tracer la frontière finale obtenue"
   ]
  },
  {
   "cell_type": "code",
   "execution_count": 218,
   "metadata": {},
   "outputs": [
    {
     "data": {
      "image/png": "[encoded data removed]",
      "text/plain": [
       "<Figure size 432x288 with 1 Axes>"
      ]
     },
     "metadata": {
      "needs_background": "light"
     },
     "output_type": "display_data"
    }
   ],
   "source": [
    "# Pour avoir les mêmes valeurs aléatoires :\n",
    "np.random.seed(42)   # supprimer cette ligne une fois la mise au point terminée\n",
    "\n",
    "# ------------------------ A COMPLETER :\n",
    "iters = [10, 100, 1000]\n",
    "lr = 0.1\n",
    "acc = [0]\n",
    "\n",
    "classifier = ClassifierPerceptron(2, lr)\n",
    "for _ in range(1000):\n",
    "    classifier.train(data_desc, data_label)\n",
    "    acc.append(classifieur.accuracy(data_desc, data_label))\n",
    "plt.plot(range(1001), acc)\n",
    "plt.show()\n",
    "    "
   ]
  },
  {
   "cell_type": "code",
   "execution_count": 219,
   "metadata": {},
   "outputs": [
    {
     "data": {
      "image/png": "[encoded data removed]",
      "text/plain": [
       "<Figure size 432x288 with 1 Axes>"
      ]
     },
     "metadata": {
      "needs_background": "light"
     },
     "output_type": "display_data"
    }
   ],
   "source": [
    "# Affichage de la frontière de séparation des classes\n",
    "plot_frontiere(data_desc,data_label,un_perceptron)\n",
    "plot2DSet(data_desc,data_label)"
   ]
  },
  {
   "cell_type": "markdown",
   "metadata": {},
   "source": [
    "<font color=\"RED\" size=\"+1\">**[Q]**</font> Expérimentations\n",
    "\n",
    "- Générer deux ensembles de train et de test\n",
    "- Dessiner la courbe de performance en fonction de l'itération sur les ensembles de train et de test\n",
    "    * Que se passe-t-il en fonction du pas (epsilon) d'apprentissage ? \n",
    "    * Que se passe-t-il quand le nombre d'exemples en apprentissage est faible ? \n"
   ]
  },
  {
   "cell_type": "code",
   "execution_count": 257,
   "metadata": {},
   "outputs": [
    {
     "name": "stdout",
     "output_type": "stream",
     "text": [
      "Classification du dataset:\n",
      "\t+2.497 +1.862 : -1 ---> +1 [+0.55083]\n",
      "\t+2.648 +3.523 : -1 ---> +1 [+0.19586]\n",
      "\t+1.766 +1.766 : -1 ---> +1 [+0.27698]\n",
      "\t+3.579 +2.767 : -1 ---> +1 [+0.76495]\n",
      "\t+1.531 +2.543 : -1 ---> -1 [-0.01365]\n",
      "\t+1.537 +1.534 : -1 ---> +1 [+0.24161]\n",
      "\t+2.242 +0.087 : -1 ---> +1 [+0.89201]\n",
      "\t+0.275 +1.438 : -1 ---> -1 [-0.24833]\n",
      "\t+0.987 +2.314 : -1 ---> -1 [-0.17786]\n",
      "\t+1.092 +0.588 : -1 ---> +1 [+0.29771]\n",
      "\t-2.534 -4.226 : +1 ---> +1 [+0.02652]\n",
      "\t-3.932 -5.425 : +1 ---> -1 [-0.24272]\n",
      "\t-4.544 -3.889 : +1 ---> -1 [-0.87712]\n",
      "\t-5.151 -3.624 : +1 ---> -1 [-1.19073]\n",
      "\t-4.601 -4.292 : +1 ---> -1 [-0.79911]\n",
      "\t-4.602 -2.148 : +1 ---> -1 [-1.33705]\n",
      "\t-4.013 -5.058 : +1 ---> -1 [-0.36776]\n",
      "\t-3.177 -5.221 : +1 ---> +1 [+0.01388]\n",
      "\t-3.791 -5.960 : +1 ---> -1 [-0.05100]\n",
      "\t-5.328 -3.803 : +1 ---> -1 [-1.21811]\n",
      "Taux de bonne classification sur le dataset train:  25.0\n",
      "Taux de bonne classification sur le dataset test:  20.0\n"
     ]
    }
   ],
   "source": [
    "np.random.seed(42)\n",
    "train_data, train_label = genere_dataset_gaussian(np.array([2,2]),np.array([[1,0],[0,1]]),np.array([-4,-4]),np.array([[1,0],[0,1]]),10)\n",
    "test_data, test_label = genere_dataset_gaussian(np.array([1,1]),np.array([[1,0],[0,1]]),np.array([-1,3]),np.array([[1,0],[0,1]]),10)\n",
    "p = ClassifierPerceptron(2, 0.1)\n",
    "print(\"Classification du dataset:\")\n",
    "for i in range(data_desc.shape[0]):\n",
    "    print(\"\\t{0:+.3f} {1:+.3f} : {2:+} ---> {3:+} [{4:+.5f}]\".format(train_data[i,:][0], train_data[i,:][1], \\\n",
    "                                                                  train_label[i], \\\n",
    "                                                                    p.predict(train_data[i,:]), \\\n",
    "                                                                   p.score(train_data[i,:])) )\n",
    "\n",
    "print(\"Taux de bonne classification sur le dataset train: \", p.accuracy(train_data,train_label))\n",
    "# Affichage du taux de bonne classification    \n",
    "print(\"Taux de bonne classification sur le dataset test: \", p.accuracy(test_data,test_label))   \n",
    "\n",
    "# Affichage :\n"
   ]
  },
  {
   "cell_type": "markdown",
   "metadata": {},
   "source": [
    "<font color=\"RED\" size=\"+1\">**[Q]**</font> **Données XOR**\n",
    "\n",
    "Ecrire la fonction `create_XOR` qui, étant donné un nombre de points $n$ et une variance $var$, permet de générer un dataset de dimension 2 contenant:\n",
    "- deux gaussiennes centrées en (0,0) et (1,1) correspondant chacune à $n$ exemples positifs\n",
    "- deux gaussiennes centrées en (1,0) et (0,1) correspondant chacune à $n$ exemples négatifs\n",
    "\n",
    "Dans la suite, on appelle XOR une base de données créée par cette fonction.\n",
    "\n",
    "\n",
    "Que se passe-t-il quand on apprend un perceptron  ? Quel est le problème ? "
   ]
  },
  {
   "cell_type": "code",
   "execution_count": 258,
   "metadata": {},
   "outputs": [],
   "source": [
    "def create_XOR(n, var):\n",
    "    p, l1 = genere_dataset_gaussian(np.array([0,0]), np.array([[var, 0], [0, var]]), np.array([1,0]), np.array([[var, 0],[0, var]]),n)\n",
    "    q, l2 = genere_dataset_gaussian(np.array([1,1]), np.array([[var, 0], [0, var]]), np.array([0,1]), np.array([[var, 0],[0, var]]),n)\n",
    "    \n",
    "    data = np.vstack((p, q))\n",
    "    labels = np.concatenate((l1, l2))\n",
    "    return data, labels"
   ]
  },
  {
   "cell_type": "code",
   "execution_count": 259,
   "metadata": {},
   "outputs": [],
   "source": [
    "data, labels = create_XOR(25,0.01)"
   ]
  },
  {
   "cell_type": "code",
   "execution_count": null,
   "metadata": {},
   "outputs": [],
   "source": []
  },
  {
   "cell_type": "code",
   "execution_count": null,
   "metadata": {},
   "outputs": [],
   "source": []
  },
  {
   "cell_type": "code",
   "execution_count": 260,
   "metadata": {},
   "outputs": [
    {
     "data": {
      "image/png": "[encoded data removed]",
      "text/plain": [
       "<Figure size 432x288 with 1 Axes>"
      ]
     },
     "metadata": {
      "needs_background": "light"
     },
     "output_type": "display_data"
    }
   ],
   "source": [
    "data_xor = create_XOR(25,0.01)\n",
    "plot2DSet(data_xor[0], data_xor[1])"
   ]
  },
  {
   "cell_type": "code",
   "execution_count": null,
   "metadata": {},
   "outputs": [],
   "source": []
  },
  {
   "cell_type": "code",
   "execution_count": 262,
   "metadata": {},
   "outputs": [
    {
     "name": "stdout",
     "output_type": "stream",
     "text": [
      "Classification du dataset:\n",
      "\t+0.050 -0.014 : -1 ---> +1 [+0.01542]\n",
      "\t+0.065 +0.152 : -1 ---> +1 [+0.06111]\n",
      "\t-0.023 -0.023 : -1 ---> -1 [-0.01447]\n",
      "\t+0.158 +0.077 : -1 ---> +1 [+0.07807]\n",
      "\t-0.047 +0.054 : -1 ---> -1 [-0.00465]\n",
      "\t-0.046 -0.047 : -1 ---> -1 [-0.02870]\n",
      "\t+0.024 -0.191 : -1 ---> -1 [-0.03693]\n",
      "\t-0.172 -0.056 : -1 ---> -1 [-0.07863]\n",
      "\t-0.101 +0.031 : -1 ---> -1 [-0.03066]\n",
      "\t-0.091 -0.141 : -1 ---> -1 [-0.06827]\n",
      "\t+0.147 -0.023 : -1 ---> +1 [+0.04987]\n",
      "\t+0.007 -0.142 : -1 ---> -1 [-0.03176]\n",
      "\t-0.054 +0.011 : -1 ---> -1 [-0.01787]\n",
      "\t-0.115 +0.038 : -1 ---> -1 [-0.03439]\n",
      "\t-0.060 -0.029 : -1 ---> -1 [-0.02969]\n",
      "\t-0.060 +0.185 : -1 ---> +1 [+0.02189]\n",
      "\t-0.001 -0.106 : -1 ---> -1 [-0.02598]\n",
      "\t+0.082 -0.122 : -1 ---> +1 [+0.00165]\n",
      "\t+0.021 -0.196 : -1 ---> -1 [-0.03930]\n",
      "\t-0.133 +0.020 : -1 ---> -1 [-0.04538]\n",
      "\t+0.074 +0.017 : -1 ---> +1 [+0.03199]\n",
      "\t-0.012 -0.030 : -1 ---> -1 [-0.01161]\n",
      "\t-0.148 -0.072 : -1 ---> -1 [-0.07313]\n",
      "\t-0.046 +0.106 : -1 ---> +1 [+0.00807]\n",
      "\t+0.034 -0.176 : -1 ---> -1 [-0.02948]\n",
      "\t+1.032 -0.039 : +1 ---> +1 [+0.38033]\n",
      "\t+0.932 +0.061 : +1 ---> +1 [+0.36656]\n",
      "\t+1.103 +0.093 : +1 ---> +1 [+0.43870]\n",
      "\t+0.916 -0.031 : +1 ---> +1 [+0.33826]\n",
      "\t+1.033 +0.098 : +1 ---> +1 [+0.41336]\n",
      "\t+0.952 -0.019 : +1 ---> +1 [+0.35482]\n",
      "\t+0.889 -0.120 : +1 ---> +1 [+0.30682]\n",
      "\t+1.081 +0.136 : +1 ---> +1 [+0.44069]\n",
      "\t+0.993 +0.100 : +1 ---> +1 [+0.39882]\n",
      "\t+1.036 -0.065 : +1 ---> +1 [+0.37549]\n",
      "\t+1.036 +0.154 : +1 ---> +1 [+0.42804]\n",
      "\t+0.996 +0.156 : +1 ---> +1 [+0.41369]\n",
      "\t+0.738 +0.082 : +1 ---> +1 [+0.29830]\n",
      "\t+1.009 -0.030 : +1 ---> +1 [+0.37346]\n",
      "\t+1.009 -0.199 : +1 ---> +1 [+0.33298]\n",
      "\t+0.978 +0.036 : +1 ---> +1 [+0.37768]\n",
      "\t+1.148 -0.052 : +1 ---> +1 [+0.42067]\n",
      "\t+0.919 -0.050 : +1 ---> +1 [+0.33478]\n",
      "\t+1.092 +0.033 : +1 ---> +1 [+0.41983]\n",
      "\t+0.947 +0.051 : +1 ---> +1 [+0.36974]\n",
      "\t+1.010 +0.097 : +1 ---> +1 [+0.40436]\n",
      "\t+0.930 -0.033 : +1 ---> +1 [+0.34299]\n",
      "\t+0.961 -0.146 : +1 ---> +1 [+0.32734]\n",
      "\t+1.030 +0.026 : +1 ---> +1 [+0.39483]\n",
      "\t+1.001 -0.023 : +1 ---> +1 [+0.37192]\n",
      "\t+0.858 +0.958 : -1 ---> +1 [+0.55460]\n",
      "\t+0.966 +0.920 : -1 ---> +1 [+0.58589]\n",
      "\t+0.984 +1.040 : -1 ---> +1 [+0.62178]\n",
      "\t+1.189 +1.017 : -1 ---> +1 [+0.69352]\n",
      "\t+1.026 +0.993 : -1 ---> +1 [+0.62607]\n",
      "\t+0.808 +0.997 : -1 ---> +1 [+0.54509]\n",
      "\t+1.006 +1.246 : -1 ---> +1 [+0.67972]\n",
      "\t+0.981 +1.030 : -1 ---> +1 [+0.61814]\n",
      "\t+0.997 +0.883 : -1 ---> +1 [+0.58869]\n",
      "\t+1.114 +1.075 : -1 ---> +1 [+0.67937]\n",
      "\t+1.079 +0.909 : -1 ---> +1 [+0.62610]\n",
      "\t+1.140 +0.860 : -1 ---> +1 [+0.63733]\n",
      "\t+1.059 +1.219 : -1 ---> +1 [+0.69303]\n",
      "\t+0.901 +0.943 : -1 ---> +1 [+0.56713]\n",
      "\t+1.010 +0.950 : -1 ---> +1 [+0.60978]\n",
      "\t+0.845 +1.007 : -1 ---> +1 [+0.56127]\n",
      "\t+0.894 +1.047 : -1 ---> +1 [+0.58946]\n",
      "\t+0.908 +1.155 : -1 ---> +1 [+0.62076]\n",
      "\t+0.922 +0.968 : -1 ---> +1 [+0.58083]\n",
      "\t+1.081 +0.877 : -1 ---> +1 [+0.61921]\n",
      "\t+1.023 +1.131 : -1 ---> +1 [+0.65820]\n",
      "\t+0.839 +1.018 : -1 ---> +1 [+0.56193]\n",
      "\t+1.026 +1.078 : -1 ---> +1 [+0.64677]\n",
      "\t+0.876 +0.868 : -1 ---> +1 [+0.53967]\n",
      "\t+1.052 +1.030 : -1 ---> +1 [+0.64499]\n",
      "\t+0.025 +1.035 : +1 ---> +1 [+0.25856]\n",
      "\t-0.068 +1.023 : +1 ---> +1 [+0.22070]\n",
      "\t+0.029 +0.929 : +1 ---> +1 [+0.23463]\n",
      "\t+0.187 +1.047 : +1 ---> +1 [+0.32259]\n",
      "\t-0.119 +1.066 : +1 ---> +1 [+0.21162]\n",
      "\t-0.097 +1.079 : +1 ---> +1 [+0.22294]\n",
      "\t+0.116 +0.918 : +1 ---> +1 [+0.26473]\n",
      "\t+0.096 +1.041 : +1 ---> +1 [+0.28706]\n",
      "\t+0.082 +1.190 : +1 ---> +1 [+0.31746]\n",
      "\t-0.025 +0.925 : +1 ---> +1 [+0.21336]\n",
      "\t-0.089 +0.918 : +1 ---> +1 [+0.18756]\n",
      "\t-0.008 +1.034 : +1 ---> +1 [+0.24607]\n",
      "\t+0.028 +1.083 : +1 ---> +1 [+0.27113]\n",
      "\t+0.001 +1.145 : +1 ---> +1 [+0.27626]\n",
      "\t-0.026 +1.272 : +1 ---> +1 [+0.29627]\n",
      "\t+0.063 +0.914 : +1 ---> +1 [+0.24374]\n",
      "\t-0.107 +1.048 : +1 ---> +1 [+0.21197]\n",
      "\t-0.022 +1.071 : +1 ---> +1 [+0.24953]\n",
      "\t+0.047 +0.993 : +1 ---> +1 [+0.25687]\n",
      "\t-0.085 +0.849 : +1 ---> +1 [+0.17234]\n",
      "\t-0.045 +1.086 : +1 ---> +1 [+0.24454]\n",
      "\t+0.021 +0.875 : +1 ---> +1 [+0.21885]\n",
      "\t+0.017 +1.039 : +1 ---> +1 [+0.25658]\n",
      "\t-0.088 +1.015 : +1 ---> +1 [+0.21112]\n",
      "\t+0.006 +0.886 : +1 ---> +1 [+0.21545]\n",
      "Taux de bonne classification sur le dataset test:  50.0\n"
     ]
    },
    {
     "data": {
      "image/png": "[encoded data removed]",
      "text/plain": [
       "<Figure size 432x288 with 1 Axes>"
      ]
     },
     "metadata": {
      "needs_background": "light"
     },
     "output_type": "display_data"
    }
   ],
   "source": [
    "# Pour avoir les mêmes valeurs aléatoires :\n",
    "np.random.seed(42)   # supprimer cette ligne une fois la mise au point terminée\n",
    "\n",
    "# ------------------------ A COMPLETER :\n",
    "data, labels = create_XOR(25,0.01)\n",
    "p = ClassifierPerceptron(2, 0.01)\n",
    "print(\"Classification du dataset:\")\n",
    "acc = [0]\n",
    "for i in range(100):\n",
    "    print(\"\\t{0:+.3f} {1:+.3f} : {2:+} ---> {3:+} [{4:+.5f}]\".format(data[i,:][0], data[i,:][1], \\\n",
    "                                                                  labels[i], \\\n",
    "                                                                    p.predict(data[i,:]), \\\n",
    "                                                                   p.score(data[i,:])) )\n",
    "    acc.append(p.accuracy(data,labels))\n",
    "\n",
    "# print(\"Taux de bonne classification sur le dataset train: \", un_perceptron.accuracy(data,labels))\n",
    "\n",
    "\n",
    "# Affichage du taux de bonne classification    \n",
    "print(\"Taux de bonne classification sur le dataset test: \", p.accuracy(data,test_label))   \n",
    "plot_frontiere(data,labels,p)\n",
    "plot2DSet(data,labels)"
   ]
  },
  {
   "cell_type": "markdown",
   "metadata": {},
   "source": [
    "## Étape 4: protocole expérimental\n",
    "\n",
    "Attention, lorsque l'on évalue un classifieur, il est nécessaire de considérer deux ensembles distincts: un ensemble d'apprentissage et un ensemble de test. La performance doit être évaluée sur l'ensemble de test (et non pas sur l'ensemble d'apprentissage)."
   ]
  },
  {
   "cell_type": "markdown",
   "metadata": {},
   "source": [
    "<font color=\"RED\" size=\"+1\">**[Q]**</font> Donner les instructions permettant d'évaluer un classifieur KNN et comparer les résultats obtenus avec ceux obtenus par un classifieur linéaire aléatoire sur le même jeu de données."
   ]
  },
  {
   "cell_type": "code",
   "execution_count": null,
   "metadata": {},
   "outputs": [],
   "source": []
  },
  {
   "cell_type": "markdown",
   "metadata": {},
   "source": [
    "### Différentes expérimentations\n",
    "\n",
    "<font color=\"RED\" size=\"+1\">**[Q]**</font> Comparer la performance (en train et test) de plusieurs classifieurs KNN avec différentes valeurs de k. Que pouvez vous constater ?\n",
    "Idéalement, vous tracerez la performance (accuracy) en fonction de la valeur de k.\n",
    "Essayez avec différentes configurations de gaussiennes."
   ]
  },
  {
   "cell_type": "code",
   "execution_count": null,
   "metadata": {},
   "outputs": [],
   "source": []
  },
  {
   "cell_type": "markdown",
   "metadata": {},
   "source": [
    "Expérimentations sur des datasets réels\n",
    "-------\n",
    "\n"
   ]
  },
  {
   "cell_type": "markdown",
   "metadata": {},
   "source": [
    "## Étape 5 : données réelles UCI\n",
    "\n",
    "Plusieurs datasets sont téléchargeables depuis: http://mldata.org\n",
    "\n",
    "Voir : https://scikit-learn.org/0.19/datasets/mldata.html\n",
    "\n",
    "Voici la fonction permettant de les charger (en spécifiant leur nom). La fonction se charge de charger les données depuis le web.\n"
   ]
  },
  {
   "cell_type": "code",
   "execution_count": null,
   "metadata": {},
   "outputs": [],
   "source": [
    "from sklearn.datasets import fetch_mldata\n",
    "\n",
    "def loadFile(name):\n",
    "    data = fetch_mldata(name, data_home='.')\n",
    "    print(data.data.shape)\n",
    "    unique=np.unique(data.target)\n",
    "    for i in range(len(data.target)):\n",
    "        if (data.target[i]==unique[0]):\n",
    "            data.target[i]=1\n",
    "        else:\n",
    "            data.target[i]=-1\n",
    "            \n",
    "loadFile('breast-cancer_scale')\n",
    "#Les donnees sont dans data.data et data.target"
   ]
  },
  {
   "cell_type": "markdown",
   "metadata": {},
   "source": [
    "<font color=\"RED\" size=\"+1\">**[Q]**</font> Écrire la fonction `split` permettant de découper un labeledSet données en 2: un ensemble d'apprentissage et un ensemble de test."
   ]
  },
  {
   "cell_type": "code",
   "execution_count": null,
   "metadata": {},
   "outputs": [],
   "source": []
  },
  {
   "cell_type": "markdown",
   "metadata": {},
   "source": [
    "<font color=\"RED\" size=\"+1\">**[Q]**</font> Tester différents k-NN , pour différentes valeurs de $k$, et tracer la courbe de performance (accuracy) pour les données d'apprentissage et les données de test."
   ]
  },
  {
   "cell_type": "markdown",
   "metadata": {},
   "source": [
    "A partir de datasets trouvés sur le web, réaliser un ensemble d'expérimentations permettant de comparer les 3 classifiers (knn, perceptron de Rosenblatt et version kernélisée) que vous avez implémentés.\n",
    "\n",
    "Par exemple, vous pouvez utiliser les datasets suivants:\n",
    "- https://archive.ics.uci.edu/ml/datasets/Breast+Cancer+Coimbra\n",
    "- https://www.kaggle.com/uciml/indian-liver-patient-records\n",
    "- voir sur les données ouvertes de Paris : https://opendata.paris.fr/explore/?sort=modified\n",
    "\n",
    "Afin d'utiliser de tels jeux de données, il sera certainement nécessaire que vous réalisiez un prétraitement afin de pouvoir utiliser vos implémentations."
   ]
  },
  {
   "cell_type": "code",
   "execution_count": null,
   "metadata": {},
   "outputs": [],
   "source": []
  }
 ],
 "metadata": {
  "kernelspec": {
   "display_name": "Python 3",
   "language": "python",
   "name": "python3"
  },
  "language_info": {
   "codemirror_mode": {
    "name": "ipython",
    "version": 3
   },
   "file_extension": ".py",
   "mimetype": "text/x-python",
   "name": "python",
   "nbconvert_exporter": "python",
   "pygments_lexer": "ipython3",
   "version": "3.6.8"
  }
 },
 "nbformat": 4,
 "nbformat_minor": 2
}
